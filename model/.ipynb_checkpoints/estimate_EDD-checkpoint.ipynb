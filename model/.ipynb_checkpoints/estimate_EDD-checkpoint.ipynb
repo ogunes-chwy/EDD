{
 "cells": [
  {
   "cell_type": "code",
   "execution_count": 1,
   "id": "d3d9212e-0074-4fd9-9df8-dded1badc56b",
   "metadata": {
    "tags": []
   },
   "outputs": [
    {
     "name": "stdout",
     "output_type": "stream",
     "text": [
      "Collecting xgboost\n",
      "  Downloading xgboost-2.0.2-py3-none-manylinux2014_x86_64.whl.metadata (2.0 kB)\n",
      "Requirement already satisfied: numpy in /home/ec2-user/anaconda3/envs/python3/lib/python3.10/site-packages (from xgboost) (1.22.4)\n",
      "Requirement already satisfied: scipy in /home/ec2-user/anaconda3/envs/python3/lib/python3.10/site-packages (from xgboost) (1.11.3)\n",
      "Downloading xgboost-2.0.2-py3-none-manylinux2014_x86_64.whl (297.1 MB)\n",
      "\u001b[2K   \u001b[90m━━━━━━━━━━━━━━━━━━━━━━━━━━━━━━━━━━━━━━━━\u001b[0m \u001b[32m297.1/297.1 MB\u001b[0m \u001b[31m7.0 MB/s\u001b[0m eta \u001b[36m0:00:00\u001b[0m:00:01\u001b[0m00:01\u001b[0m\n",
      "\u001b[?25hInstalling collected packages: xgboost\n",
      "Successfully installed xgboost-2.0.2\n"
     ]
    }
   ],
   "source": [
    "!pip install xgboost"
   ]
  },
  {
   "cell_type": "code",
   "execution_count": 2,
   "id": "f13d068e-d69d-4f1e-861e-1ddb1cf81bba",
   "metadata": {
    "tags": []
   },
   "outputs": [
    {
     "name": "stdout",
     "output_type": "stream",
     "text": [
      "Collecting mlflow\n",
      "  Downloading mlflow-2.8.0-py3-none-any.whl.metadata (13 kB)\n",
      "Requirement already satisfied: click<9,>=7.0 in /home/ec2-user/anaconda3/envs/python3/lib/python3.10/site-packages (from mlflow) (8.1.7)\n",
      "Requirement already satisfied: cloudpickle<3 in /home/ec2-user/anaconda3/envs/python3/lib/python3.10/site-packages (from mlflow) (2.2.1)\n",
      "Collecting databricks-cli<1,>=0.8.7 (from mlflow)\n",
      "  Downloading databricks_cli-0.18.0-py2.py3-none-any.whl.metadata (4.0 kB)\n",
      "Requirement already satisfied: entrypoints<1 in /home/ec2-user/anaconda3/envs/python3/lib/python3.10/site-packages (from mlflow) (0.4)\n",
      "Collecting gitpython<4,>=2.1.0 (from mlflow)\n",
      "  Using cached GitPython-3.1.40-py3-none-any.whl.metadata (12 kB)\n",
      "Requirement already satisfied: pyyaml<7,>=5.1 in /home/ec2-user/anaconda3/envs/python3/lib/python3.10/site-packages (from mlflow) (6.0.1)\n",
      "Requirement already satisfied: protobuf<5,>=3.12.0 in /home/ec2-user/anaconda3/envs/python3/lib/python3.10/site-packages (from mlflow) (4.25.0)\n",
      "Requirement already satisfied: pytz<2024 in /home/ec2-user/anaconda3/envs/python3/lib/python3.10/site-packages (from mlflow) (2023.3.post1)\n",
      "Requirement already satisfied: requests<3,>=2.17.3 in /home/ec2-user/anaconda3/envs/python3/lib/python3.10/site-packages (from mlflow) (2.31.0)\n",
      "Requirement already satisfied: packaging<24 in /home/ec2-user/anaconda3/envs/python3/lib/python3.10/site-packages (from mlflow) (21.3)\n",
      "Requirement already satisfied: importlib-metadata!=4.7.0,<7,>=3.7.0 in /home/ec2-user/anaconda3/envs/python3/lib/python3.10/site-packages (from mlflow) (6.8.0)\n",
      "Collecting sqlparse<1,>=0.4.0 (from mlflow)\n",
      "  Downloading sqlparse-0.4.4-py3-none-any.whl (41 kB)\n",
      "\u001b[2K     \u001b[90m━━━━━━━━━━━━━━━━━━━━━━━━━━━━━━━━━━━━━━━━\u001b[0m \u001b[32m41.2/41.2 kB\u001b[0m \u001b[31m8.9 MB/s\u001b[0m eta \u001b[36m0:00:00\u001b[0m\n",
      "\u001b[?25hCollecting alembic!=1.10.0,<2 (from mlflow)\n",
      "  Downloading alembic-1.12.1-py3-none-any.whl.metadata (7.3 kB)\n",
      "Requirement already satisfied: docker<7,>=4.0.0 in /home/ec2-user/anaconda3/envs/python3/lib/python3.10/site-packages (from mlflow) (6.1.3)\n",
      "Requirement already satisfied: Flask<4 in /home/ec2-user/anaconda3/envs/python3/lib/python3.10/site-packages (from mlflow) (3.0.0)\n",
      "Requirement already satisfied: numpy<2 in /home/ec2-user/anaconda3/envs/python3/lib/python3.10/site-packages (from mlflow) (1.22.4)\n",
      "Requirement already satisfied: scipy<2 in /home/ec2-user/anaconda3/envs/python3/lib/python3.10/site-packages (from mlflow) (1.11.3)\n",
      "Requirement already satisfied: pandas<3 in /home/ec2-user/anaconda3/envs/python3/lib/python3.10/site-packages (from mlflow) (2.1.1)\n",
      "Collecting querystring-parser<2 (from mlflow)\n",
      "  Downloading querystring_parser-1.2.4-py2.py3-none-any.whl (7.9 kB)\n",
      "Requirement already satisfied: sqlalchemy<3,>=1.4.0 in /home/ec2-user/anaconda3/envs/python3/lib/python3.10/site-packages (from mlflow) (2.0.22)\n",
      "Requirement already satisfied: scikit-learn<2 in /home/ec2-user/anaconda3/envs/python3/lib/python3.10/site-packages (from mlflow) (1.3.2)\n",
      "Requirement already satisfied: pyarrow<14,>=4.0.0 in /home/ec2-user/anaconda3/envs/python3/lib/python3.10/site-packages (from mlflow) (13.0.0)\n",
      "Collecting markdown<4,>=3.3 (from mlflow)\n",
      "  Downloading Markdown-3.5.1-py3-none-any.whl.metadata (7.1 kB)\n",
      "Requirement already satisfied: matplotlib<4 in /home/ec2-user/anaconda3/envs/python3/lib/python3.10/site-packages (from mlflow) (3.8.0)\n",
      "Requirement already satisfied: psutil<6 in /home/ec2-user/anaconda3/envs/python3/lib/python3.10/site-packages (from mlflow) (5.9.5)\n",
      "Collecting gunicorn<22 (from mlflow)\n",
      "  Downloading gunicorn-21.2.0-py3-none-any.whl.metadata (4.1 kB)\n",
      "Requirement already satisfied: Jinja2<4,>=2.11 in /home/ec2-user/anaconda3/envs/python3/lib/python3.10/site-packages (from mlflow) (3.1.2)\n",
      "Collecting Mako (from alembic!=1.10.0,<2->mlflow)\n",
      "  Downloading Mako-1.3.0-py3-none-any.whl.metadata (2.9 kB)\n",
      "Requirement already satisfied: typing-extensions>=4 in /home/ec2-user/anaconda3/envs/python3/lib/python3.10/site-packages (from alembic!=1.10.0,<2->mlflow) (4.8.0)\n",
      "Collecting pyjwt>=1.7.0 (from databricks-cli<1,>=0.8.7->mlflow)\n",
      "  Downloading PyJWT-2.8.0-py3-none-any.whl.metadata (4.2 kB)\n",
      "Collecting oauthlib>=3.1.0 (from databricks-cli<1,>=0.8.7->mlflow)\n",
      "  Downloading oauthlib-3.2.2-py3-none-any.whl (151 kB)\n",
      "\u001b[2K     \u001b[90m━━━━━━━━━━━━━━━━━━━━━━━━━━━━━━━━━━━━━━\u001b[0m \u001b[32m151.7/151.7 kB\u001b[0m \u001b[31m19.2 MB/s\u001b[0m eta \u001b[36m0:00:00\u001b[0m\n",
      "\u001b[?25hCollecting tabulate>=0.7.7 (from databricks-cli<1,>=0.8.7->mlflow)\n",
      "  Downloading tabulate-0.9.0-py3-none-any.whl (35 kB)\n",
      "Requirement already satisfied: six>=1.10.0 in /home/ec2-user/anaconda3/envs/python3/lib/python3.10/site-packages (from databricks-cli<1,>=0.8.7->mlflow) (1.16.0)\n",
      "Requirement already satisfied: urllib3<3,>=1.26.7 in /home/ec2-user/anaconda3/envs/python3/lib/python3.10/site-packages (from databricks-cli<1,>=0.8.7->mlflow) (1.26.18)\n",
      "Requirement already satisfied: websocket-client>=0.32.0 in /home/ec2-user/anaconda3/envs/python3/lib/python3.10/site-packages (from docker<7,>=4.0.0->mlflow) (1.6.4)\n",
      "Requirement already satisfied: Werkzeug>=3.0.0 in /home/ec2-user/anaconda3/envs/python3/lib/python3.10/site-packages (from Flask<4->mlflow) (3.0.1)\n",
      "Requirement already satisfied: itsdangerous>=2.1.2 in /home/ec2-user/anaconda3/envs/python3/lib/python3.10/site-packages (from Flask<4->mlflow) (2.1.2)\n",
      "Requirement already satisfied: blinker>=1.6.2 in /home/ec2-user/anaconda3/envs/python3/lib/python3.10/site-packages (from Flask<4->mlflow) (1.6.3)\n",
      "Collecting gitdb<5,>=4.0.1 (from gitpython<4,>=2.1.0->mlflow)\n",
      "  Using cached gitdb-4.0.11-py3-none-any.whl.metadata (1.2 kB)\n",
      "Requirement already satisfied: zipp>=0.5 in /home/ec2-user/anaconda3/envs/python3/lib/python3.10/site-packages (from importlib-metadata!=4.7.0,<7,>=3.7.0->mlflow) (3.17.0)\n",
      "Requirement already satisfied: MarkupSafe>=2.0 in /home/ec2-user/anaconda3/envs/python3/lib/python3.10/site-packages (from Jinja2<4,>=2.11->mlflow) (2.1.3)\n",
      "Requirement already satisfied: contourpy>=1.0.1 in /home/ec2-user/anaconda3/envs/python3/lib/python3.10/site-packages (from matplotlib<4->mlflow) (1.1.1)\n",
      "Requirement already satisfied: cycler>=0.10 in /home/ec2-user/anaconda3/envs/python3/lib/python3.10/site-packages (from matplotlib<4->mlflow) (0.12.1)\n",
      "Requirement already satisfied: fonttools>=4.22.0 in /home/ec2-user/anaconda3/envs/python3/lib/python3.10/site-packages (from matplotlib<4->mlflow) (4.43.1)\n",
      "Requirement already satisfied: kiwisolver>=1.0.1 in /home/ec2-user/anaconda3/envs/python3/lib/python3.10/site-packages (from matplotlib<4->mlflow) (1.4.5)\n",
      "Requirement already satisfied: pillow>=6.2.0 in /home/ec2-user/anaconda3/envs/python3/lib/python3.10/site-packages (from matplotlib<4->mlflow) (10.0.1)\n",
      "Requirement already satisfied: pyparsing>=2.3.1 in /home/ec2-user/anaconda3/envs/python3/lib/python3.10/site-packages (from matplotlib<4->mlflow) (3.1.1)\n",
      "Requirement already satisfied: python-dateutil>=2.7 in /home/ec2-user/anaconda3/envs/python3/lib/python3.10/site-packages (from matplotlib<4->mlflow) (2.8.2)\n",
      "Requirement already satisfied: tzdata>=2022.1 in /home/ec2-user/anaconda3/envs/python3/lib/python3.10/site-packages (from pandas<3->mlflow) (2023.3)\n",
      "Requirement already satisfied: charset-normalizer<4,>=2 in /home/ec2-user/anaconda3/envs/python3/lib/python3.10/site-packages (from requests<3,>=2.17.3->mlflow) (3.3.1)\n",
      "Requirement already satisfied: idna<4,>=2.5 in /home/ec2-user/anaconda3/envs/python3/lib/python3.10/site-packages (from requests<3,>=2.17.3->mlflow) (3.4)\n",
      "Requirement already satisfied: certifi>=2017.4.17 in /home/ec2-user/anaconda3/envs/python3/lib/python3.10/site-packages (from requests<3,>=2.17.3->mlflow) (2023.7.22)\n",
      "Requirement already satisfied: joblib>=1.1.1 in /home/ec2-user/anaconda3/envs/python3/lib/python3.10/site-packages (from scikit-learn<2->mlflow) (1.3.2)\n",
      "Requirement already satisfied: threadpoolctl>=2.0.0 in /home/ec2-user/anaconda3/envs/python3/lib/python3.10/site-packages (from scikit-learn<2->mlflow) (3.2.0)\n",
      "Requirement already satisfied: greenlet!=0.4.17 in /home/ec2-user/anaconda3/envs/python3/lib/python3.10/site-packages (from sqlalchemy<3,>=1.4.0->mlflow) (3.0.1)\n",
      "Collecting smmap<6,>=3.0.1 (from gitdb<5,>=4.0.1->gitpython<4,>=2.1.0->mlflow)\n",
      "  Using cached smmap-5.0.1-py3-none-any.whl.metadata (4.3 kB)\n",
      "Downloading mlflow-2.8.0-py3-none-any.whl (19.0 MB)\n",
      "\u001b[2K   \u001b[90m━━━━━━━━━━━━━━━━━━━━━━━━━━━━━━━━━━━━━━━━\u001b[0m \u001b[32m19.0/19.0 MB\u001b[0m \u001b[31m31.0 MB/s\u001b[0m eta \u001b[36m0:00:00\u001b[0m:00:01\u001b[0m00:01\u001b[0m\n",
      "\u001b[?25hDownloading alembic-1.12.1-py3-none-any.whl (226 kB)\n",
      "\u001b[2K   \u001b[90m━━━━━━━━━━━━━━━━━━━━━━━━━━━━━━━━━━━━━━━━\u001b[0m \u001b[32m226.8/226.8 kB\u001b[0m \u001b[31m38.7 MB/s\u001b[0m eta \u001b[36m0:00:00\u001b[0m\n",
      "\u001b[?25hDownloading databricks_cli-0.18.0-py2.py3-none-any.whl (150 kB)\n",
      "\u001b[2K   \u001b[90m━━━━━━━━━━━━━━━━━━━━━━━━━━━━━━━━━━━━━━━━\u001b[0m \u001b[32m150.3/150.3 kB\u001b[0m \u001b[31m4.2 MB/s\u001b[0m eta \u001b[36m0:00:00\u001b[0m\n",
      "\u001b[?25hUsing cached GitPython-3.1.40-py3-none-any.whl (190 kB)\n",
      "Downloading gunicorn-21.2.0-py3-none-any.whl (80 kB)\n",
      "\u001b[2K   \u001b[90m━━━━━━━━━━━━━━━━━━━━━━━━━━━━━━━━━━━━━━━━\u001b[0m \u001b[32m80.2/80.2 kB\u001b[0m \u001b[31m2.5 MB/s\u001b[0m eta \u001b[36m0:00:00\u001b[0m\n",
      "\u001b[?25hDownloading Markdown-3.5.1-py3-none-any.whl (102 kB)\n",
      "\u001b[2K   \u001b[90m━━━━━━━━━━━━━━━━━━━━━━━━━━━━━━━━━━━━━━━━\u001b[0m \u001b[32m102.2/102.2 kB\u001b[0m \u001b[31m22.4 MB/s\u001b[0m eta \u001b[36m0:00:00\u001b[0m\n",
      "\u001b[?25hUsing cached gitdb-4.0.11-py3-none-any.whl (62 kB)\n",
      "Downloading PyJWT-2.8.0-py3-none-any.whl (22 kB)\n",
      "Downloading Mako-1.3.0-py3-none-any.whl (78 kB)\n",
      "\u001b[2K   \u001b[90m━━━━━━━━━━━━━━━━━━━━━━━━━━━━━━━━━━━━━━━━\u001b[0m \u001b[32m78.6/78.6 kB\u001b[0m \u001b[31m17.7 MB/s\u001b[0m eta \u001b[36m0:00:00\u001b[0m\n",
      "\u001b[?25hUsing cached smmap-5.0.1-py3-none-any.whl (24 kB)\n",
      "Installing collected packages: tabulate, sqlparse, smmap, querystring-parser, pyjwt, oauthlib, markdown, Mako, gunicorn, gitdb, databricks-cli, alembic, gitpython, mlflow\n",
      "Successfully installed Mako-1.3.0 alembic-1.12.1 databricks-cli-0.18.0 gitdb-4.0.11 gitpython-3.1.40 gunicorn-21.2.0 markdown-3.5.1 mlflow-2.8.0 oauthlib-3.2.2 pyjwt-2.8.0 querystring-parser-1.2.4 smmap-5.0.1 sqlparse-0.4.4 tabulate-0.9.0\n"
     ]
    }
   ],
   "source": [
    "!pip3 install mlflow"
   ]
  },
  {
   "cell_type": "code",
   "execution_count": 3,
   "id": "41e60110-03f2-47c8-95b1-a33d7b2cb495",
   "metadata": {
    "tags": []
   },
   "outputs": [
    {
     "name": "stderr",
     "output_type": "stream",
     "text": [
      "/home/ec2-user/anaconda3/envs/python3/lib/python3.10/site-packages/pandas/core/computation/expressions.py:21: UserWarning: Pandas requires version '2.8.0' or newer of 'numexpr' (version '2.7.3' currently installed).\n",
      "  from pandas.core.computation.check import NUMEXPR_INSTALLED\n"
     ]
    }
   ],
   "source": [
    "import xgboost as xgb\n",
    "import pandas as pd\n",
    "import numpy as np\n",
    "import mlflow\n",
    "from mlflow.tracking import MlflowClient\n",
    "from sklearn.model_selection import train_test_split\n",
    "from sklearn.metrics import mean_squared_error, mean_absolute_error, mean_absolute_percentage_error\n",
    "from sklearn.model_selection import RandomizedSearchCV\n",
    "from scipy.stats import randint, uniform\n",
    "pd.set_option('display.max_rows', 100)\n",
    "from sklearn.metrics import accuracy_score, classification_report\n",
    "from sklearn.model_selection import GridSearchCV\n",
    "\n",
    "import datetime\n",
    "import os\n",
    "import pandas as pd"
   ]
  },
  {
   "cell_type": "code",
   "execution_count": 4,
   "id": "d7429f29-97b9-41be-bfd0-9d3886ac0d42",
   "metadata": {
    "tags": []
   },
   "outputs": [],
   "source": [
    "# load the training, validation and test data files\n",
    "\n",
    "schema = 's3://'\n",
    "bucket = 'ogunes-promise'\n",
    "project = 'EDD'\n",
    "key = 'ml_train_val_test_set/20231113_v4' # 20231113_v2\n",
    "\n",
    "main_path = os.path.join(schema, bucket, project, key)\n",
    "\n",
    "df_train_val = pd.read_parquet(os.path.join(main_path, 'train_val_2023-01-01_2023-06-01'))\n",
    "df_test = pd.read_parquet(os.path.join(main_path, 'test_2023-06-01_2023-08-01'))"
   ]
  },
  {
   "cell_type": "code",
   "execution_count": 5,
   "id": "0e9f39a4-e603-4eaa-98b9-d69c8ab0f014",
   "metadata": {
    "tags": []
   },
   "outputs": [
    {
     "data": {
      "text/plain": [
       "(21510416, 72)"
      ]
     },
     "execution_count": 5,
     "metadata": {},
     "output_type": "execute_result"
    }
   ],
   "source": [
    "df_train_val.shape"
   ]
  },
  {
   "cell_type": "code",
   "execution_count": 6,
   "id": "3b9cc656-1245-4a91-930f-b0dd41a4fb1c",
   "metadata": {
    "tags": []
   },
   "outputs": [
    {
     "data": {
      "text/plain": [
       "(8390643, 72)"
      ]
     },
     "execution_count": 6,
     "metadata": {},
     "output_type": "execute_result"
    }
   ],
   "source": [
    "df_test.shape"
   ]
  },
  {
   "cell_type": "code",
   "execution_count": 10,
   "id": "28560cf5-fe88-4cf5-96fe-208fb2d40793",
   "metadata": {
    "tags": []
   },
   "outputs": [
    {
     "data": {
      "text/plain": [
       "order_id                                                                       object\n",
       "shipment_tracking_number                                                       object\n",
       "ffmcenter_name                                                                 object\n",
       "fc_type                                                                        object\n",
       "uom_flag                                                                        int32\n",
       "carrier_code                                                                   object\n",
       "customer_postcode                                                              object\n",
       "customer_zip3                                                                  object\n",
       "customer_state                                                                 object\n",
       "shipment_delivery_date                                                         object\n",
       "initial_shipment_delivery_attempt_date                                         object\n",
       "shipment_shipped_date                                                          object\n",
       "holiday_flag                                                                   object\n",
       "shipped_fri_sat_tag                                                            object\n",
       "shipped_dow                                                                     int32\n",
       "is_after_cpt                                                                    int32\n",
       "hours_till_cpt                                                                float64\n",
       "warehouse_expected_weight                                                     float64\n",
       "package_size                                                                  float64\n",
       "adjtnt                                                                          int64\n",
       "nextadjtnt                                                                      int64\n",
       "std_v0                                                                          int32\n",
       "shipment_ship_route                                                            object\n",
       "arc_range                                                                       int32\n",
       "distance_mi                                                                   float64\n",
       "actual_zone                                                                     int32\n",
       "routetype                                                                      object\n",
       "avg_-28_-1_std_actual_vattempted_shipped_dow_shipment_ship_route              float64\n",
       "avg_-7_-1_std_actual_vattempted_shipped_dow_shipment_ship_route               float64\n",
       "avg_-28_-1_std_actual_vattempted_shipped_dow_actual_zone                      float64\n",
       "avg_-7_-1_std_actual_vattempted_shipped_dow_actual_zone                       float64\n",
       "avg_-28_-1_std_actual_vattempted_shipped_dow_ffmcenter_name_customer_state    float64\n",
       "avg_-7_-1_std_actual_vattempted_shipped_dow_ffmcenter_name_customer_state     float64\n",
       "std_actual                                                                      int32\n",
       "std_actual_vattempted                                                           int32\n",
       "ffmcenter_name_AVP1                                                             int32\n",
       "ffmcenter_name_AVP2                                                             int32\n",
       "ffmcenter_name_BNA1                                                             int32\n",
       "ffmcenter_name_CFC1                                                             int32\n",
       "ffmcenter_name_CLT1                                                             int32\n",
       "ffmcenter_name_DAY1                                                             int32\n",
       "ffmcenter_name_DFW1                                                             int32\n",
       "ffmcenter_name_EFC3                                                             int32\n",
       "ffmcenter_name_MCI1                                                             int32\n",
       "ffmcenter_name_MCO1                                                             int32\n",
       "ffmcenter_name_MDT1                                                             int32\n",
       "ffmcenter_name_PHX1                                                             int32\n",
       "ffmcenter_name_RNO1                                                             int32\n",
       "ffmcenter_name_WFC2                                                             int32\n",
       "fc_type_G1                                                                      int32\n",
       "fc_type_G2                                                                      int32\n",
       "holiday_flag_before_holiday                                                     int32\n",
       "holiday_flag_holiday                                                            int32\n",
       "holiday_flag_regular                                                            int32\n",
       "shipped_fri_sat_tag_friday                                                      int32\n",
       "shipped_fri_sat_tag_regular                                                     int32\n",
       "shipped_fri_sat_tag_saturday                                                    int32\n",
       "carrier_code_FDXGD                                                              int32\n",
       "carrier_code_FDXHD                                                              int32\n",
       "carrier_code_ONTRGD                                                             int32\n",
       "shipped_dow_0                                                                   int32\n",
       "shipped_dow_1                                                                   int32\n",
       "shipped_dow_2                                                                   int32\n",
       "shipped_dow_3                                                                   int32\n",
       "shipped_dow_4                                                                   int32\n",
       "shipped_dow_5                                                                   int32\n",
       "shipped_dow_6                                                                   int32\n",
       "routetype_CS                                                                    int32\n",
       "routetype_Direct                                                                int32\n",
       "routetype_Others                                                                int32\n",
       "routetype_Preload                                                               int32\n",
       "routetype_RSF                                                                   int32\n",
       "dtype: object"
      ]
     },
     "execution_count": 10,
     "metadata": {},
     "output_type": "execute_result"
    }
   ],
   "source": [
    "df_train_val.dtypes"
   ]
  },
  {
   "cell_type": "code",
   "execution_count": 11,
   "id": "b8e54c30-37f8-455a-9d32-bba6a36d7a8d",
   "metadata": {
    "tags": []
   },
   "outputs": [],
   "source": [
    "# Target column: to predict the number of shipment days\n",
    "target = 'std_actual_vattempted'"
   ]
  },
  {
   "cell_type": "code",
   "execution_count": 28,
   "id": "20499502-a46a-4518-a217-89b34cda6fb0",
   "metadata": {
    "tags": []
   },
   "outputs": [
    {
     "data": {
      "text/plain": [
       "['uom_flag',\n",
       " 'customer_state',\n",
       " 'is_after_cpt',\n",
       " 'hours_till_cpt',\n",
       " 'package_size',\n",
       " 'adjtnt',\n",
       " 'nextadjtnt',\n",
       " 'distance_mi',\n",
       " 'actual_zone',\n",
       " 'avg_-28_-1_std_actual_vattempted_shipped_dow_shipment_ship_route',\n",
       " 'avg_-7_-1_std_actual_vattempted_shipped_dow_shipment_ship_route',\n",
       " 'avg_-28_-1_std_actual_vattempted_shipped_dow_actual_zone',\n",
       " 'avg_-7_-1_std_actual_vattempted_shipped_dow_actual_zone',\n",
       " 'avg_-28_-1_std_actual_vattempted_shipped_dow_ffmcenter_name_customer_state',\n",
       " 'avg_-7_-1_std_actual_vattempted_shipped_dow_ffmcenter_name_customer_state',\n",
       " 'shipped_dow_0',\n",
       " 'shipped_dow_1',\n",
       " 'shipped_dow_2',\n",
       " 'shipped_dow_3',\n",
       " 'shipped_dow_4',\n",
       " 'shipped_dow_5',\n",
       " 'shipped_dow_6']"
      ]
     },
     "execution_count": 28,
     "metadata": {},
     "output_type": "execute_result"
    }
   ],
   "source": [
    "feature_cols = list(df_train_val.columns)\n",
    "feature_cols = [e for e in feature_cols \n",
    "                if e not in ['order_id', 'shipment_tracking_number', 'ffmcenter_name', 'fc_type', \n",
    "                             'customer_postcode', 'customer_zip3',\n",
    "                             'shipment_delivery_date', 'initial_shipment_delivery_attempt_date',\n",
    "                             'shipment_shipped_date',\n",
    "                             'holiday_flag', 'shipped_fri_sat_tag', 'shipped_dow',\n",
    "                             'std_v0', 'std_actual', \n",
    "                             'shipment_ship_route', 'shipment_ship_route_group',\n",
    "                             'std_actual_vattempted', 'carrier_code', 'arc_range',\n",
    "                             'routetype',\n",
    "                             'routetype_CS',\n",
    "                             'routetype_Direct',\n",
    "                             'routetype_Others',\n",
    "                             'routetype_Preload',\n",
    "                             'routetype_RSF',\n",
    "                             'ffmcenter_name_AVP1',\n",
    "                             'ffmcenter_name_AVP2',\n",
    "                             'ffmcenter_name_BNA1',\n",
    "                             'ffmcenter_name_CFC1',\n",
    "                             'ffmcenter_name_CLT1',\n",
    "                             'ffmcenter_name_DAY1',\n",
    "                             'ffmcenter_name_DFW1',\n",
    "                             'ffmcenter_name_EFC3',\n",
    "                             'ffmcenter_name_MCI1',\n",
    "                             'ffmcenter_name_MCO1',\n",
    "                             'ffmcenter_name_MDT1',\n",
    "                             'ffmcenter_name_PHX1',\n",
    "                             'ffmcenter_name_RNO1',\n",
    "                             'ffmcenter_name_WFC2',\n",
    "                             'fc_type_G1',\n",
    "                             'fc_type_G2',\n",
    "                             'holiday_flag_before_holiday',\n",
    "                             'holiday_flag_holiday',\n",
    "                             'holiday_flag_regular',\n",
    "                             'shipped_fri_sat_tag_friday',\n",
    "                             'shipped_fri_sat_tag_regular',\n",
    "                             'shipped_fri_sat_tag_saturday',\n",
    "                             'carrier_code_FDXGD',\n",
    "                             'carrier_code_FDXHD',\n",
    "                             'carrier_code_ONTRGD',\n",
    "                             'warehouse_expected_weight'\n",
    "                            ]]\n",
    "feature_cols"
   ]
  },
  {
   "cell_type": "code",
   "execution_count": 29,
   "id": "2ccd8515-1d19-49c7-a514-b4de0b449907",
   "metadata": {
    "tags": []
   },
   "outputs": [],
   "source": [
    "# train\n",
    "df_train_val_x = df_train_val[feature_cols + [target]]\n",
    "\n",
    "# # Split the data into X and y\n",
    "X_train_val = df_train_val_x.drop(target, axis=1)\n",
    "y_train_val = df_train_val_x[target]\n",
    "\n",
    "# test\n",
    "df_test_x = df_test[feature_cols + [target]]\n",
    "\n",
    "# # Split the data into X and y\n",
    "X_test = df_test_x.drop(target, axis=1)\n",
    "y_test = df_test_x[target]"
   ]
  },
  {
   "cell_type": "code",
   "execution_count": 30,
   "id": "e02ae712-aac8-4266-bab4-68d1f2d7649e",
   "metadata": {
    "tags": []
   },
   "outputs": [],
   "source": [
    "X_train_val[\"customer_state\"] = X_train_val[\"customer_state\"].astype(\"category\")\n",
    "X_test[\"customer_state\"] = X_test[\"customer_state\"].astype(\"category\")"
   ]
  },
  {
   "cell_type": "code",
   "execution_count": 10,
   "id": "57116a4e-d7bb-4952-9f35-a3135d47c372",
   "metadata": {
    "tags": []
   },
   "outputs": [
    {
     "name": "stdout",
     "output_type": "stream",
     "text": [
      "Fitting 3 folds for each of 12 candidates, totalling 36 fits\n",
      "[CV] END colsample_bytree=0.6, learning_rate=0.15, max_depth=6, subsample=0.7; total time= 1.2min\n",
      "[CV] END colsample_bytree=0.6, learning_rate=0.15, max_depth=6, subsample=0.7; total time= 1.1min\n",
      "[CV] END colsample_bytree=0.6, learning_rate=0.15, max_depth=6, subsample=0.7; total time= 1.1min\n",
      "[CV] END colsample_bytree=0.6, learning_rate=0.15, max_depth=7, subsample=0.7; total time= 1.4min\n",
      "[CV] END colsample_bytree=0.6, learning_rate=0.15, max_depth=7, subsample=0.7; total time= 1.3min\n",
      "[CV] END colsample_bytree=0.6, learning_rate=0.15, max_depth=7, subsample=0.7; total time= 1.4min\n",
      "[CV] END colsample_bytree=0.6, learning_rate=0.15, max_depth=8, subsample=0.7; total time= 1.5min\n",
      "[CV] END colsample_bytree=0.6, learning_rate=0.15, max_depth=8, subsample=0.7; total time= 1.5min\n",
      "[CV] END colsample_bytree=0.6, learning_rate=0.15, max_depth=8, subsample=0.7; total time= 1.5min\n",
      "[CV] END colsample_bytree=0.6, learning_rate=0.1, max_depth=6, subsample=0.7; total time= 1.2min\n",
      "[CV] END colsample_bytree=0.6, learning_rate=0.1, max_depth=6, subsample=0.7; total time= 1.2min\n",
      "[CV] END colsample_bytree=0.6, learning_rate=0.1, max_depth=6, subsample=0.7; total time= 1.2min\n",
      "[CV] END colsample_bytree=0.6, learning_rate=0.1, max_depth=7, subsample=0.7; total time= 1.4min\n",
      "[CV] END colsample_bytree=0.6, learning_rate=0.1, max_depth=7, subsample=0.7; total time= 1.4min\n",
      "[CV] END colsample_bytree=0.6, learning_rate=0.1, max_depth=7, subsample=0.7; total time= 1.4min\n",
      "[CV] END colsample_bytree=0.6, learning_rate=0.1, max_depth=8, subsample=0.7; total time= 1.6min\n",
      "[CV] END colsample_bytree=0.6, learning_rate=0.1, max_depth=8, subsample=0.7; total time= 1.6min\n",
      "[CV] END colsample_bytree=0.6, learning_rate=0.1, max_depth=8, subsample=0.7; total time= 1.6min\n",
      "[CV] END colsample_bytree=0.65, learning_rate=0.15, max_depth=6, subsample=0.7; total time= 1.2min\n",
      "[CV] END colsample_bytree=0.65, learning_rate=0.15, max_depth=6, subsample=0.7; total time= 1.2min\n",
      "[CV] END colsample_bytree=0.65, learning_rate=0.15, max_depth=6, subsample=0.7; total time= 1.2min\n",
      "[CV] END colsample_bytree=0.65, learning_rate=0.15, max_depth=7, subsample=0.7; total time= 1.4min\n",
      "[CV] END colsample_bytree=0.65, learning_rate=0.15, max_depth=7, subsample=0.7; total time= 1.4min\n",
      "[CV] END colsample_bytree=0.65, learning_rate=0.15, max_depth=7, subsample=0.7; total time= 1.4min\n",
      "[CV] END colsample_bytree=0.65, learning_rate=0.15, max_depth=8, subsample=0.7; total time= 1.6min\n",
      "[CV] END colsample_bytree=0.65, learning_rate=0.15, max_depth=8, subsample=0.7; total time= 1.6min\n",
      "[CV] END colsample_bytree=0.65, learning_rate=0.15, max_depth=8, subsample=0.7; total time= 1.6min\n",
      "[CV] END colsample_bytree=0.65, learning_rate=0.1, max_depth=6, subsample=0.7; total time= 1.2min\n",
      "[CV] END colsample_bytree=0.65, learning_rate=0.1, max_depth=6, subsample=0.7; total time= 1.2min\n",
      "[CV] END colsample_bytree=0.65, learning_rate=0.1, max_depth=6, subsample=0.7; total time= 1.2min\n",
      "[CV] END colsample_bytree=0.65, learning_rate=0.1, max_depth=7, subsample=0.7; total time= 1.4min\n",
      "[CV] END colsample_bytree=0.65, learning_rate=0.1, max_depth=7, subsample=0.7; total time= 1.4min\n",
      "[CV] END colsample_bytree=0.65, learning_rate=0.1, max_depth=7, subsample=0.7; total time= 1.4min\n",
      "[CV] END colsample_bytree=0.65, learning_rate=0.1, max_depth=8, subsample=0.7; total time= 1.6min\n",
      "[CV] END colsample_bytree=0.65, learning_rate=0.1, max_depth=8, subsample=0.7; total time= 1.6min\n",
      "[CV] END colsample_bytree=0.65, learning_rate=0.1, max_depth=8, subsample=0.7; total time= 1.7min\n",
      "Best set of hyperparameters:  {'colsample_bytree': 0.65, 'learning_rate': 0.15, 'max_depth': 8, 'subsample': 0.7}\n",
      "Best score:  -0.2505019304019999\n"
     ]
    }
   ],
   "source": [
    "\"\"\"\n",
    "# Define the hyperparameter grid\n",
    "param_grid = {\n",
    "    'max_depth': [6, 7, 8],\n",
    "    'learning_rate': [0.15, 0.1],\n",
    "    'subsample': [0.7],\n",
    "    'colsample_bytree': [0.6, 0.65]\n",
    "}\n",
    "\n",
    "# Create the XGBoost model object\n",
    "xgb_model = xgb.XGBRegressor(objective='reg:squarederror',\n",
    "                             enable_categorical=True)\n",
    "\n",
    "# Create the GridSearchCV object\n",
    "model_x = GridSearchCV(xgb_model,\n",
    "                       param_grid,\n",
    "                       cv=3,\n",
    "                       scoring='neg_mean_absolute_error',\n",
    "                       verbose=2)\n",
    "\n",
    "# Fit the GridSearchCV object to the training data\n",
    "model_x.fit(X_train_val, y_train_val)\n",
    "\n",
    "# Print the best set of hyperparameters and the corresponding score\n",
    "print(\"Best set of hyperparameters: \", model_x.best_params_)\n",
    "print(\"Best score: \", model_x.best_score_)\n",
    "\"\"\""
   ]
  },
  {
   "cell_type": "code",
   "execution_count": 11,
   "id": "bfc72012-07aa-4184-a6a5-337fbde1e778",
   "metadata": {
    "tags": []
   },
   "outputs": [],
   "source": [
    "\"\"\"\n",
    "# Make predictions on training and validation datasets\n",
    "y_train_val_pred = model_x.predict(X_train_val)\n",
    "y_test_pred = model_x.predict(X_test)\n",
    "\"\"\""
   ]
  },
  {
   "cell_type": "code",
   "execution_count": 12,
   "id": "4cf3913f-47fd-4134-9a36-686eadcb81cb",
   "metadata": {
    "tags": []
   },
   "outputs": [
    {
     "name": "stdout",
     "output_type": "stream",
     "text": [
      "Accuracy: 0.8341\n",
      "Accuracy: 0.8173\n"
     ]
    }
   ],
   "source": [
    "\"\"\"\n",
    "accuracy = accuracy_score(y_train_val, np.round(y_train_val_pred))\n",
    "print(f\"Accuracy: {accuracy:.4f}\")\n",
    "\n",
    "accuracy = accuracy_score(y_test, np.round(y_test_pred))\n",
    "print(f\"Accuracy: {accuracy:.4f}\")\n",
    "\"\"\""
   ]
  },
  {
   "cell_type": "code",
   "execution_count": 13,
   "id": "d8263de2-886a-4fc6-93c8-cfba169464cb",
   "metadata": {
    "tags": []
   },
   "outputs": [
    {
     "name": "stdout",
     "output_type": "stream",
     "text": [
      "Fitting 3 folds for each of 1 candidates, totalling 3 fits\n",
      "[CV] END colsample_bytree=0.6, learning_rate=0.1, max_depth=8, subsample=0.7; total time= 1.6min\n",
      "[CV] END colsample_bytree=0.6, learning_rate=0.1, max_depth=8, subsample=0.7; total time= 1.6min\n",
      "[CV] END colsample_bytree=0.6, learning_rate=0.1, max_depth=8, subsample=0.7; total time= 1.6min\n",
      "Accuracy: 0.8281\n",
      "Accuracy: 0.8230\n"
     ]
    }
   ],
   "source": [
    "#eta=0.1,\n",
    "#subsample=0.7,\n",
    "#max_depth=8,\n",
    "#colsample_bytree=0.6,\n",
    "\n",
    "# Create the XGBoost model object\n",
    "xgb_model = xgb.XGBRegressor(objective='reg:squarederror',\n",
    "                             enable_categorical=True)\n",
    "\n",
    "param_grid = {\n",
    "    'max_depth': [8],\n",
    "    'learning_rate': [0.1],\n",
    "    'subsample': [0.7],\n",
    "    'colsample_bytree': [0.6]\n",
    "}\n",
    "\n",
    "# Create the GridSearchCV object\n",
    "model_xx = GridSearchCV(xgb_model,\n",
    "                        param_grid,\n",
    "                        cv=3,\n",
    "                        scoring='neg_mean_absolute_error',\n",
    "                        verbose=2)\n",
    "\n",
    "# Fit the GridSearchCV object to the training data\n",
    "model_xx.fit(X_train_val, y_train_val)\n",
    "\n",
    "# Make predictions on training and validation datasets\n",
    "y_train_val_pred = model_xx.predict(X_train_val)\n",
    "y_test_pred = model_xx.predict(X_test)\n",
    "\n",
    "accuracy = accuracy_score(y_train_val, np.round(y_train_val_pred))\n",
    "print(f\"Accuracy: {accuracy:.4f}\")\n",
    "\n",
    "accuracy = accuracy_score(y_test, np.round(y_test_pred))\n",
    "print(f\"Accuracy: {accuracy:.4f}\")"
   ]
  },
  {
   "cell_type": "code",
   "execution_count": 24,
   "id": "95f544ee-d0ce-451b-87d3-16819b107aa4",
   "metadata": {
    "tags": []
   },
   "outputs": [],
   "source": [
    "# Regression\n",
    "model_xxx = xgb.XGBRegressor(\n",
    "                    objective='reg:squarederror',\n",
    "                    max_depth=8,\n",
    "                    learning_rate=0.1,\n",
    "                    subsample=0.7,\n",
    "                    colsample_bytree=0.6,\n",
    "                    enable_categorical=True)\n",
    "\n",
    "model_xxx.fit(X_train_val, y_train_val)\n",
    "\n",
    "# Make predictions on training and validation datasets\n",
    "y_train_val_pred = model_xxx.predict(X_train_val)\n",
    "y_test_pred = model_xxx.predict(X_test)"
   ]
  },
  {
   "cell_type": "code",
   "execution_count": 26,
   "id": "fc497e04-92c4-496c-9d24-597b8ba4ab97",
   "metadata": {
    "tags": []
   },
   "outputs": [
    {
     "name": "stdout",
     "output_type": "stream",
     "text": [
      "Accuracy: 0.8281\n",
      "Accuracy: 0.8230\n"
     ]
    }
   ],
   "source": [
    "accuracy = accuracy_score(y_train_val, np.round(y_train_val_pred))\n",
    "print(f\"Accuracy: {accuracy:.4f}\")\n",
    "\n",
    "accuracy = accuracy_score(y_test, np.round(y_test_pred))\n",
    "print(f\"Accuracy: {accuracy:.4f}\")"
   ]
  },
  {
   "cell_type": "code",
   "execution_count": 27,
   "id": "02005751-412c-4945-b606-560758027def",
   "metadata": {
    "tags": []
   },
   "outputs": [
    {
     "name": "stdout",
     "output_type": "stream",
     "text": [
      "MAPE: 1.2470\n",
      "MAPE: 1.4594\n"
     ]
    }
   ],
   "source": [
    "# the value when some element of the y_true is zero is arbitrarily high because\n",
    "# of the division by epsilon\n",
    "mape = mean_absolute_percentage_error(y_train_val+0.01, y_train_val_pred+0.01)\n",
    "print(f\"MAPE: {mape:.4f}\")\n",
    "\n",
    "mape = mean_absolute_percentage_error(y_test+0.01, y_test_pred+0.01)\n",
    "print(f\"MAPE: {mape:.4f}\")"
   ]
  },
  {
   "cell_type": "code",
   "execution_count": 80,
   "id": "e2104eeb-bb1d-4deb-8b37-f1b49b07883c",
   "metadata": {
    "tags": []
   },
   "outputs": [
    {
     "name": "stdout",
     "output_type": "stream",
     "text": [
      "                                               feature  importance\n",
      "1                                      customer_state      3432.0\n",
      "9   avg_-28_-1_std_actual_vattempted_shipped_dow_s...      3263.0\n",
      "10  avg_-7_-1_std_actual_vattempted_shipped_dow_sh...      2466.0\n",
      "13  avg_-28_-1_std_actual_vattempted_shipped_dow_f...      2081.0\n",
      "3                                      hours_till_cpt      2007.0\n",
      "12  avg_-7_-1_std_actual_vattempted_shipped_dow_ac...      1952.0\n",
      "14  avg_-7_-1_std_actual_vattempted_shipped_dow_ff...      1753.0\n",
      "11  avg_-28_-1_std_actual_vattempted_shipped_dow_a...      1722.0\n",
      "7                                         distance_mi      1711.0\n",
      "5                                              adjtnt       785.0\n",
      "6                                          nextadjtnt       757.0\n",
      "20                                      shipped_dow_5       542.0\n",
      "8                                         actual_zone       451.0\n",
      "21                                      shipped_dow_6       400.0\n",
      "4                                        package_size       395.0\n",
      "15                                      shipped_dow_0       278.0\n",
      "2                                        is_after_cpt       240.0\n",
      "16                                      shipped_dow_1       204.0\n",
      "19                                      shipped_dow_4       193.0\n",
      "18                                      shipped_dow_3       169.0\n",
      "0                                            uom_flag       155.0\n",
      "17                                      shipped_dow_2       127.0\n"
     ]
    }
   ],
   "source": [
    "xgb_fea_imp = pd.DataFrame(list(model_xxx.get_booster().get_fscore().items()),\n",
    "                           columns=['feature','importance']).sort_values('importance', ascending=False)\n",
    "print('', xgb_fea_imp)"
   ]
  },
  {
   "cell_type": "code",
   "execution_count": 81,
   "id": "c4728787-82df-4a0a-b0c2-dbe1911e8035",
   "metadata": {
    "tags": []
   },
   "outputs": [
    {
     "data": {
      "image/png": "[encoded data removed]",
      "text/plain": [
       "<Figure size 640x480 with 1 Axes>"
      ]
     },
     "metadata": {},
     "output_type": "display_data"
    }
   ],
   "source": [
    "ax = xgb_fea_imp.sort_values('importance', ascending=True).plot.barh(x='feature', y='importance')"
   ]
  },
  {
   "cell_type": "markdown",
   "id": "4db66829-120c-4653-9ba3-b79765f119b6",
   "metadata": {},
   "source": [
    "### Ensemble Model"
   ]
  },
  {
   "cell_type": "code",
   "execution_count": 31,
   "id": "b6a8b7c1-18a4-458f-be79-6f735646a77f",
   "metadata": {
    "tags": []
   },
   "outputs": [],
   "source": [
    "ensemble_X_train_val = df_train_val[[\n",
    "    'customer_state', 'distance_mi', 'std_v0',\n",
    "    #'shipped_fri_sat_tag_friday', 'shipped_fri_sat_tag_regular', 'shipped_fri_sat_tag_saturday',\n",
    "    #'holiday_flag_before_holiday', 'holiday_flag_holiday', 'holiday_flag_regular',\n",
    "    'shipped_dow_0', 'shipped_dow_1', 'shipped_dow_2',\n",
    "    'shipped_dow_3', 'shipped_dow_4', 'shipped_dow_5', 'shipped_dow_6',\n",
    "    #'carrier_code_FDXGD', 'carrier_code_FDXHD', 'carrier_code_ONTRGD'\n",
    "]].reset_index(drop=True)\n",
    "\n",
    "ensemble_X_train_val['ml_model'] = np.round(y_train_val_pred)\n",
    "\n",
    "ensemble_X_test = df_test[[\n",
    "    'customer_state', 'distance_mi', 'std_v0',\n",
    "    #'shipped_fri_sat_tag_friday', 'shipped_fri_sat_tag_regular', 'shipped_fri_sat_tag_saturday',\n",
    "    #'holiday_flag_before_holiday', 'holiday_flag_holiday', 'holiday_flag_regular',\n",
    "    'shipped_dow_0', 'shipped_dow_1', 'shipped_dow_2',\n",
    "    'shipped_dow_3', 'shipped_dow_4', 'shipped_dow_5', 'shipped_dow_6',\n",
    "    #'carrier_code_FDXGD', 'carrier_code_FDXHD', 'carrier_code_ONTRGD'\n",
    "]].reset_index(drop=True)\n",
    "\n",
    "ensemble_X_test['ml_model'] = np.round(y_test_pred)"
   ]
  },
  {
   "cell_type": "code",
   "execution_count": 32,
   "id": "a193393f-b1dd-4bc2-a48a-bc1bc3e84604",
   "metadata": {
    "tags": []
   },
   "outputs": [],
   "source": [
    "ensemble_X_train_val[\"customer_state\"] = ensemble_X_train_val[\"customer_state\"].astype(\"category\")\n",
    "ensemble_X_test[\"customer_state\"] = ensemble_X_test[\"customer_state\"].astype(\"category\")"
   ]
  },
  {
   "cell_type": "code",
   "execution_count": 33,
   "id": "e0ccc010-a119-4ac2-8421-f89f4bfb42b2",
   "metadata": {
    "tags": []
   },
   "outputs": [
    {
     "data": {
      "text/plain": [
       "customer_state    category\n",
       "distance_mi        float64\n",
       "std_v0               int32\n",
       "shipped_dow_0        int32\n",
       "shipped_dow_1        int32\n",
       "shipped_dow_2        int32\n",
       "shipped_dow_3        int32\n",
       "shipped_dow_4        int32\n",
       "shipped_dow_5        int32\n",
       "shipped_dow_6        int32\n",
       "ml_model           float32\n",
       "dtype: object"
      ]
     },
     "execution_count": 33,
     "metadata": {},
     "output_type": "execute_result"
    }
   ],
   "source": [
    "ensemble_X_train_val.dtypes"
   ]
  },
  {
   "cell_type": "code",
   "execution_count": 57,
   "id": "fb9a49f1-2bf3-453e-896f-00a049e13771",
   "metadata": {
    "tags": []
   },
   "outputs": [
    {
     "data": {
      "text/html": [
       "<style>#sk-container-id-9 {color: black;}#sk-container-id-9 pre{padding: 0;}#sk-container-id-9 div.sk-toggleable {background-color: white;}#sk-container-id-9 label.sk-toggleable__label {cursor: pointer;display: block;width: 100%;margin-bottom: 0;padding: 0.3em;box-sizing: border-box;text-align: center;}#sk-container-id-9 label.sk-toggleable__label-arrow:before {content: \"▸\";float: left;margin-right: 0.25em;color: #696969;}#sk-container-id-9 label.sk-toggleable__label-arrow:hover:before {color: black;}#sk-container-id-9 div.sk-estimator:hover label.sk-toggleable__label-arrow:before {color: black;}#sk-container-id-9 div.sk-toggleable__content {max-height: 0;max-width: 0;overflow: hidden;text-align: left;background-color: #f0f8ff;}#sk-container-id-9 div.sk-toggleable__content pre {margin: 0.2em;color: black;border-radius: 0.25em;background-color: #f0f8ff;}#sk-container-id-9 input.sk-toggleable__control:checked~div.sk-toggleable__content {max-height: 200px;max-width: 100%;overflow: auto;}#sk-container-id-9 input.sk-toggleable__control:checked~label.sk-toggleable__label-arrow:before {content: \"▾\";}#sk-container-id-9 div.sk-estimator input.sk-toggleable__control:checked~label.sk-toggleable__label {background-color: #d4ebff;}#sk-container-id-9 div.sk-label input.sk-toggleable__control:checked~label.sk-toggleable__label {background-color: #d4ebff;}#sk-container-id-9 input.sk-hidden--visually {border: 0;clip: rect(1px 1px 1px 1px);clip: rect(1px, 1px, 1px, 1px);height: 1px;margin: -1px;overflow: hidden;padding: 0;position: absolute;width: 1px;}#sk-container-id-9 div.sk-estimator {font-family: monospace;background-color: #f0f8ff;border: 1px dotted black;border-radius: 0.25em;box-sizing: border-box;margin-bottom: 0.5em;}#sk-container-id-9 div.sk-estimator:hover {background-color: #d4ebff;}#sk-container-id-9 div.sk-parallel-item::after {content: \"\";width: 100%;border-bottom: 1px solid gray;flex-grow: 1;}#sk-container-id-9 div.sk-label:hover label.sk-toggleable__label {background-color: #d4ebff;}#sk-container-id-9 div.sk-serial::before {content: \"\";position: absolute;border-left: 1px solid gray;box-sizing: border-box;top: 0;bottom: 0;left: 50%;z-index: 0;}#sk-container-id-9 div.sk-serial {display: flex;flex-direction: column;align-items: center;background-color: white;padding-right: 0.2em;padding-left: 0.2em;position: relative;}#sk-container-id-9 div.sk-item {position: relative;z-index: 1;}#sk-container-id-9 div.sk-parallel {display: flex;align-items: stretch;justify-content: center;background-color: white;position: relative;}#sk-container-id-9 div.sk-item::before, #sk-container-id-9 div.sk-parallel-item::before {content: \"\";position: absolute;border-left: 1px solid gray;box-sizing: border-box;top: 0;bottom: 0;left: 50%;z-index: -1;}#sk-container-id-9 div.sk-parallel-item {display: flex;flex-direction: column;z-index: 1;position: relative;background-color: white;}#sk-container-id-9 div.sk-parallel-item:first-child::after {align-self: flex-end;width: 50%;}#sk-container-id-9 div.sk-parallel-item:last-child::after {align-self: flex-start;width: 50%;}#sk-container-id-9 div.sk-parallel-item:only-child::after {width: 0;}#sk-container-id-9 div.sk-dashed-wrapped {border: 1px dashed gray;margin: 0 0.4em 0.5em 0.4em;box-sizing: border-box;padding-bottom: 0.4em;background-color: white;}#sk-container-id-9 div.sk-label label {font-family: monospace;font-weight: bold;display: inline-block;line-height: 1.2em;}#sk-container-id-9 div.sk-label-container {text-align: center;}#sk-container-id-9 div.sk-container {/* jupyter's `normalize.less` sets `[hidden] { display: none; }` but bootstrap.min.css set `[hidden] { display: none !important; }` so we also need the `!important` here to be able to override the default hidden behavior on the sphinx rendered scikit-learn.org. See: https://github.com/scikit-learn/scikit-learn/issues/21755 */display: inline-block !important;position: relative;}#sk-container-id-9 div.sk-text-repr-fallback {display: none;}</style><div id=\"sk-container-id-9\" class=\"sk-top-container\"><div class=\"sk-text-repr-fallback\"><pre>XGBRegressor(base_score=None, booster=None, callbacks=None,\n",
       "             colsample_bylevel=None, colsample_bynode=None,\n",
       "             colsample_bytree=0.6, device=None, early_stopping_rounds=None,\n",
       "             enable_categorical=True, eval_metric=None, feature_types=None,\n",
       "             gamma=None, grow_policy=None, importance_type=None,\n",
       "             interaction_constraints=None, learning_rate=0.2, max_bin=None,\n",
       "             max_cat_threshold=None, max_cat_to_onehot=None,\n",
       "             max_delta_step=None, max_depth=15, max_leaves=None,\n",
       "             min_child_weight=None, missing=nan, monotone_constraints=None,\n",
       "             multi_strategy=None, n_estimators=None, n_jobs=None,\n",
       "             num_parallel_tree=None, random_state=None, ...)</pre><b>In a Jupyter environment, please rerun this cell to show the HTML representation or trust the notebook. <br />On GitHub, the HTML representation is unable to render, please try loading this page with nbviewer.org.</b></div><div class=\"sk-container\" hidden><div class=\"sk-item\"><div class=\"sk-estimator sk-toggleable\"><input class=\"sk-toggleable__control sk-hidden--visually\" id=\"sk-estimator-id-9\" type=\"checkbox\" checked><label for=\"sk-estimator-id-9\" class=\"sk-toggleable__label sk-toggleable__label-arrow\">XGBRegressor</label><div class=\"sk-toggleable__content\"><pre>XGBRegressor(base_score=None, booster=None, callbacks=None,\n",
       "             colsample_bylevel=None, colsample_bynode=None,\n",
       "             colsample_bytree=0.6, device=None, early_stopping_rounds=None,\n",
       "             enable_categorical=True, eval_metric=None, feature_types=None,\n",
       "             gamma=None, grow_policy=None, importance_type=None,\n",
       "             interaction_constraints=None, learning_rate=0.2, max_bin=None,\n",
       "             max_cat_threshold=None, max_cat_to_onehot=None,\n",
       "             max_delta_step=None, max_depth=15, max_leaves=None,\n",
       "             min_child_weight=None, missing=nan, monotone_constraints=None,\n",
       "             multi_strategy=None, n_estimators=None, n_jobs=None,\n",
       "             num_parallel_tree=None, random_state=None, ...)</pre></div></div></div></div></div>"
      ],
      "text/plain": [
       "XGBRegressor(base_score=None, booster=None, callbacks=None,\n",
       "             colsample_bylevel=None, colsample_bynode=None,\n",
       "             colsample_bytree=0.6, device=None, early_stopping_rounds=None,\n",
       "             enable_categorical=True, eval_metric=None, feature_types=None,\n",
       "             gamma=None, grow_policy=None, importance_type=None,\n",
       "             interaction_constraints=None, learning_rate=0.2, max_bin=None,\n",
       "             max_cat_threshold=None, max_cat_to_onehot=None,\n",
       "             max_delta_step=None, max_depth=15, max_leaves=None,\n",
       "             min_child_weight=None, missing=nan, monotone_constraints=None,\n",
       "             multi_strategy=None, n_estimators=None, n_jobs=None,\n",
       "             num_parallel_tree=None, random_state=None, ...)"
      ]
     },
     "execution_count": 57,
     "metadata": {},
     "output_type": "execute_result"
    }
   ],
   "source": [
    "# Regression\n",
    "model_y = xgb.XGBRegressor(\n",
    "                    objective='reg:squarederror',\n",
    "                    max_depth=15,\n",
    "                    learning_rate=0.2,\n",
    "                    subsample=0.7,\n",
    "                    colsample_bytree=0.6,\n",
    "                    enable_categorical=True)\n",
    "\n",
    "model_y.fit(ensemble_X_train_val, y_train_val)"
   ]
  },
  {
   "cell_type": "code",
   "execution_count": 58,
   "id": "ede51b26-0321-43f4-8af2-2dcd39c75f20",
   "metadata": {
    "tags": []
   },
   "outputs": [],
   "source": [
    "# Make predictions on training and validation datasets\n",
    "y_train_val_ensemble_pred = model_y.predict(ensemble_X_train_val)\n",
    "y_test_ensemble_pred = model_y.predict(ensemble_X_test)"
   ]
  },
  {
   "cell_type": "code",
   "execution_count": 59,
   "id": "1413d2e0-190e-42b7-a627-7d1d00e9edf7",
   "metadata": {
    "tags": []
   },
   "outputs": [
    {
     "name": "stdout",
     "output_type": "stream",
     "text": [
      "Accuracy: 0.8583\n",
      "Accuracy: 0.8638\n"
     ]
    }
   ],
   "source": [
    "accuracy = accuracy_score(y_train_val, np.round(y_train_val_ensemble_pred))\n",
    "print(f\"Accuracy: {accuracy:.4f}\")\n",
    "\n",
    "accuracy = accuracy_score(y_test, np.round(y_test_ensemble_pred))\n",
    "print(f\"Accuracy: {accuracy:.4f}\")"
   ]
  },
  {
   "cell_type": "code",
   "execution_count": 60,
   "id": "b314e8d4-50a1-4bdb-a217-b6c9a11e69ed",
   "metadata": {
    "tags": []
   },
   "outputs": [
    {
     "name": "stdout",
     "output_type": "stream",
     "text": [
      "MAPE: 0.5765\n",
      "MAPE: 0.5449\n"
     ]
    }
   ],
   "source": [
    "mape = mean_absolute_percentage_error(y_train_val+0.01, y_train_val_ensemble_pred+0.01)\n",
    "print(f\"MAPE: {mape:.4f}\")\n",
    "\n",
    "mape = mean_absolute_percentage_error(y_test+0.01, y_test_ensemble_pred+0.01)\n",
    "print(f\"MAPE: {mape:.4f}\")"
   ]
  },
  {
   "cell_type": "code",
   "execution_count": 78,
   "id": "4c3cb4e8-6d83-4a4b-ba05-6ba4b51d4b41",
   "metadata": {
    "tags": []
   },
   "outputs": [
    {
     "name": "stdout",
     "output_type": "stream",
     "text": [
      "            feature  importance\n",
      "1      distance_mi    171078.0\n",
      "0   customer_state     83519.0\n",
      "2           std_v0     18631.0\n",
      "10        ml_model     16808.0\n",
      "7    shipped_dow_4     11089.0\n",
      "6    shipped_dow_3      8796.0\n",
      "5    shipped_dow_2      7382.0\n",
      "4    shipped_dow_1      6634.0\n",
      "3    shipped_dow_0      6181.0\n",
      "9    shipped_dow_6      5103.0\n",
      "8    shipped_dow_5      3051.0\n"
     ]
    }
   ],
   "source": [
    "xgb_fea_imp = pd.DataFrame(list(model_y.get_booster().get_fscore().items()),\n",
    "columns = ['feature','importance']).sort_values('importance', ascending=False)\n",
    "print('', xgb_fea_imp)"
   ]
  },
  {
   "cell_type": "code",
   "execution_count": 79,
   "id": "26d10929-5792-4e17-a1d3-83fa8543c597",
   "metadata": {
    "tags": []
   },
   "outputs": [
    {
     "data": {
      "image/png": "[encoded data removed]",
      "text/plain": [
       "<Figure size 640x480 with 1 Axes>"
      ]
     },
     "metadata": {},
     "output_type": "display_data"
    }
   ],
   "source": [
    "ax = xgb_fea_imp.sort_values('importance', ascending=True).plot.barh(x='feature', y='importance')"
   ]
  },
  {
   "cell_type": "markdown",
   "id": "57e1ab12-eb55-478b-bf37-598d8feff803",
   "metadata": {},
   "source": [
    "#### Preds to report"
   ]
  },
  {
   "cell_type": "code",
   "execution_count": 62,
   "id": "14536caf-09a1-401a-9018-092b1837e5de",
   "metadata": {
    "tags": []
   },
   "outputs": [],
   "source": [
    "df_train_val['tag'] = 'train_val'\n",
    "df_test['tag'] = 'test'\n",
    "\n",
    "\n",
    "df_train_val['ensemble_pred'] = y_train_val_ensemble_pred\n",
    "df_test['ensemble_pred'] = y_test_ensemble_pred\n",
    "\n",
    "df_train_val['ensemble_pred_rounded'] = np.round(y_train_val_ensemble_pred)\n",
    "df_test['ensemble_pred_rounded'] = np.round(y_test_ensemble_pred)\n",
    "\n",
    "\n",
    "df_train_val['ml_pred'] = y_train_val_pred\n",
    "df_test['ml_pred'] = y_test_pred\n",
    "\n",
    "df_train_val['ml_pred_rounded'] = np.round(y_train_val_pred)\n",
    "df_test['ml_pred_rounded'] = np.round(y_test_pred)"
   ]
  },
  {
   "cell_type": "code",
   "execution_count": 63,
   "id": "f6741764-86d8-435b-a908-7ea6295e1894",
   "metadata": {
    "tags": []
   },
   "outputs": [],
   "source": [
    "report_out = pd.concat([df_train_val, df_test], axis=0)"
   ]
  },
  {
   "cell_type": "code",
   "execution_count": 65,
   "id": "4cf0d010-f608-4457-a13d-c3788ef6837a",
   "metadata": {
    "tags": []
   },
   "outputs": [
    {
     "data": {
      "text/plain": [
       "Index(['order_id', 'shipment_tracking_number', 'ffmcenter_name', 'fc_type',\n",
       "       'uom_flag', 'carrier_code', 'customer_postcode', 'customer_zip3',\n",
       "       'customer_state', 'shipment_delivery_date',\n",
       "       'initial_shipment_delivery_attempt_date', 'shipment_shipped_date',\n",
       "       'holiday_flag', 'shipped_fri_sat_tag', 'shipped_dow', 'is_after_cpt',\n",
       "       'hours_till_cpt', 'warehouse_expected_weight', 'package_size', 'adjtnt',\n",
       "       'nextadjtnt', 'std_v0', 'shipment_ship_route', 'arc_range',\n",
       "       'distance_mi', 'actual_zone', 'routetype',\n",
       "       'avg_-28_-1_std_actual_vattempted_shipped_dow_shipment_ship_route',\n",
       "       'avg_-7_-1_std_actual_vattempted_shipped_dow_shipment_ship_route',\n",
       "       'avg_-28_-1_std_actual_vattempted_shipped_dow_actual_zone',\n",
       "       'avg_-7_-1_std_actual_vattempted_shipped_dow_actual_zone',\n",
       "       'avg_-28_-1_std_actual_vattempted_shipped_dow_ffmcenter_name_customer_state',\n",
       "       'avg_-7_-1_std_actual_vattempted_shipped_dow_ffmcenter_name_customer_state',\n",
       "       'std_actual', 'std_actual_vattempted', 'ffmcenter_name_AVP1',\n",
       "       'ffmcenter_name_AVP2', 'ffmcenter_name_BNA1', 'ffmcenter_name_CFC1',\n",
       "       'ffmcenter_name_CLT1', 'ffmcenter_name_DAY1', 'ffmcenter_name_DFW1',\n",
       "       'ffmcenter_name_EFC3', 'ffmcenter_name_MCI1', 'ffmcenter_name_MCO1',\n",
       "       'ffmcenter_name_MDT1', 'ffmcenter_name_PHX1', 'ffmcenter_name_RNO1',\n",
       "       'ffmcenter_name_WFC2', 'fc_type_G1', 'fc_type_G2',\n",
       "       'holiday_flag_before_holiday', 'holiday_flag_holiday',\n",
       "       'holiday_flag_regular', 'shipped_fri_sat_tag_friday',\n",
       "       'shipped_fri_sat_tag_regular', 'shipped_fri_sat_tag_saturday',\n",
       "       'carrier_code_FDXGD', 'carrier_code_FDXHD', 'carrier_code_ONTRGD',\n",
       "       'shipped_dow_0', 'shipped_dow_1', 'shipped_dow_2', 'shipped_dow_3',\n",
       "       'shipped_dow_4', 'shipped_dow_5', 'shipped_dow_6', 'routetype_CS',\n",
       "       'routetype_Direct', 'routetype_Others', 'routetype_Preload',\n",
       "       'routetype_RSF', 'tag', 'ensemble_pred', 'ensemble_pred_rounded',\n",
       "       'ml_pred', 'ml_pred_rounded'],\n",
       "      dtype='object')"
      ]
     },
     "execution_count": 65,
     "metadata": {},
     "output_type": "execute_result"
    }
   ],
   "source": [
    "report_out.columns"
   ]
  },
  {
   "cell_type": "code",
   "execution_count": 66,
   "id": "11673787-e019-4a93-ba7c-c55a9f48b6f9",
   "metadata": {
    "tags": []
   },
   "outputs": [],
   "source": [
    "report_out = report_out[['order_id', 'shipment_tracking_number', 'ffmcenter_name', 'fc_type',\n",
    "                         'uom_flag', 'carrier_code', 'customer_postcode', 'customer_zip3',\n",
    "                         'customer_state', 'shipment_delivery_date',\n",
    "                         'initial_shipment_delivery_attempt_date', 'shipment_shipped_date', 'holiday_flag',\n",
    "                         'shipped_fri_sat_tag', 'shipped_dow', 'is_after_cpt', 'hours_till_cpt',\n",
    "                         'warehouse_expected_weight', 'package_size', 'adjtnt', 'nextadjtnt',\n",
    "                         'std_v0', 'shipment_ship_route',\n",
    "                         'arc_range', 'distance_mi',\n",
    "                         'actual_zone', 'std_actual', 'std_actual_vattempted',\n",
    "                         'tag', 'ensemble_pred', 'ensemble_pred_rounded', 'ml_pred', 'ml_pred_rounded',\n",
    "                        'routetype']]"
   ]
  },
  {
   "cell_type": "code",
   "execution_count": 67,
   "id": "c903060d-b9c9-4e7d-87c9-0e0c6d27d9f3",
   "metadata": {
    "tags": []
   },
   "outputs": [
    {
     "data": {
      "text/html": [
       "<div>\n",
       "<style scoped>\n",
       "    .dataframe tbody tr th:only-of-type {\n",
       "        vertical-align: middle;\n",
       "    }\n",
       "\n",
       "    .dataframe tbody tr th {\n",
       "        vertical-align: top;\n",
       "    }\n",
       "\n",
       "    .dataframe thead th {\n",
       "        text-align: right;\n",
       "    }\n",
       "</style>\n",
       "<table border=\"1\" class=\"dataframe\">\n",
       "  <thead>\n",
       "    <tr style=\"text-align: right;\">\n",
       "      <th></th>\n",
       "      <th>order_id</th>\n",
       "      <th>shipment_tracking_number</th>\n",
       "      <th>ffmcenter_name</th>\n",
       "      <th>fc_type</th>\n",
       "      <th>uom_flag</th>\n",
       "      <th>carrier_code</th>\n",
       "      <th>customer_postcode</th>\n",
       "      <th>customer_zip3</th>\n",
       "      <th>customer_state</th>\n",
       "      <th>shipment_delivery_date</th>\n",
       "      <th>...</th>\n",
       "      <th>distance_mi</th>\n",
       "      <th>actual_zone</th>\n",
       "      <th>std_actual</th>\n",
       "      <th>std_actual_vattempted</th>\n",
       "      <th>tag</th>\n",
       "      <th>ensemble_pred</th>\n",
       "      <th>ensemble_pred_rounded</th>\n",
       "      <th>ml_pred</th>\n",
       "      <th>ml_pred_rounded</th>\n",
       "      <th>routetype</th>\n",
       "    </tr>\n",
       "  </thead>\n",
       "  <tbody>\n",
       "    <tr>\n",
       "      <th>0</th>\n",
       "      <td>1306828909</td>\n",
       "      <td>608347536980</td>\n",
       "      <td>DFW1</td>\n",
       "      <td>G1</td>\n",
       "      <td>0</td>\n",
       "      <td>FDXHD</td>\n",
       "      <td>78415</td>\n",
       "      <td>784</td>\n",
       "      <td>TX</td>\n",
       "      <td>2023-01-30</td>\n",
       "      <td>...</td>\n",
       "      <td>343.952</td>\n",
       "      <td>4</td>\n",
       "      <td>3</td>\n",
       "      <td>3</td>\n",
       "      <td>train_val</td>\n",
       "      <td>2.345700</td>\n",
       "      <td>2.0</td>\n",
       "      <td>2.425830</td>\n",
       "      <td>2.0</td>\n",
       "      <td>CS</td>\n",
       "    </tr>\n",
       "    <tr>\n",
       "      <th>1</th>\n",
       "      <td>1351324445</td>\n",
       "      <td>619904400635</td>\n",
       "      <td>AVP1</td>\n",
       "      <td>G1</td>\n",
       "      <td>0</td>\n",
       "      <td>FDXHD</td>\n",
       "      <td>10509</td>\n",
       "      <td>105</td>\n",
       "      <td>NY</td>\n",
       "      <td>2023-05-13</td>\n",
       "      <td>...</td>\n",
       "      <td>121.336</td>\n",
       "      <td>2</td>\n",
       "      <td>1</td>\n",
       "      <td>1</td>\n",
       "      <td>train_val</td>\n",
       "      <td>1.039473</td>\n",
       "      <td>1.0</td>\n",
       "      <td>1.031925</td>\n",
       "      <td>1.0</td>\n",
       "      <td>Preload</td>\n",
       "    </tr>\n",
       "    <tr>\n",
       "      <th>2</th>\n",
       "      <td>1317134235</td>\n",
       "      <td>635565337431</td>\n",
       "      <td>MCI1</td>\n",
       "      <td>G2</td>\n",
       "      <td>0</td>\n",
       "      <td>FDXHD</td>\n",
       "      <td>63123</td>\n",
       "      <td>631</td>\n",
       "      <td>MO</td>\n",
       "      <td>2023-02-21</td>\n",
       "      <td>...</td>\n",
       "      <td>227.599</td>\n",
       "      <td>3</td>\n",
       "      <td>1</td>\n",
       "      <td>1</td>\n",
       "      <td>train_val</td>\n",
       "      <td>1.011974</td>\n",
       "      <td>1.0</td>\n",
       "      <td>1.046484</td>\n",
       "      <td>1.0</td>\n",
       "      <td>Direct</td>\n",
       "    </tr>\n",
       "    <tr>\n",
       "      <th>3</th>\n",
       "      <td>1320601552</td>\n",
       "      <td>590930346580</td>\n",
       "      <td>EFC3</td>\n",
       "      <td>G1</td>\n",
       "      <td>0</td>\n",
       "      <td>FDXHD</td>\n",
       "      <td>28734</td>\n",
       "      <td>287</td>\n",
       "      <td>NC</td>\n",
       "      <td>2023-03-02</td>\n",
       "      <td>...</td>\n",
       "      <td>494.042</td>\n",
       "      <td>4</td>\n",
       "      <td>1</td>\n",
       "      <td>1</td>\n",
       "      <td>train_val</td>\n",
       "      <td>1.113795</td>\n",
       "      <td>1.0</td>\n",
       "      <td>1.375000</td>\n",
       "      <td>1.0</td>\n",
       "      <td>CS</td>\n",
       "    </tr>\n",
       "    <tr>\n",
       "      <th>4</th>\n",
       "      <td>1301477269</td>\n",
       "      <td>628817988775</td>\n",
       "      <td>MCO1</td>\n",
       "      <td>G1</td>\n",
       "      <td>0</td>\n",
       "      <td>FDXHD</td>\n",
       "      <td>32779</td>\n",
       "      <td>327</td>\n",
       "      <td>FL</td>\n",
       "      <td>2023-01-16</td>\n",
       "      <td>...</td>\n",
       "      <td>56.704</td>\n",
       "      <td>1</td>\n",
       "      <td>2</td>\n",
       "      <td>2</td>\n",
       "      <td>train_val</td>\n",
       "      <td>2.015039</td>\n",
       "      <td>2.0</td>\n",
       "      <td>1.739800</td>\n",
       "      <td>2.0</td>\n",
       "      <td>Preload</td>\n",
       "    </tr>\n",
       "  </tbody>\n",
       "</table>\n",
       "<p>5 rows × 34 columns</p>\n",
       "</div>"
      ],
      "text/plain": [
       "     order_id shipment_tracking_number ffmcenter_name fc_type  uom_flag  \\\n",
       "0  1306828909             608347536980           DFW1      G1         0   \n",
       "1  1351324445             619904400635           AVP1      G1         0   \n",
       "2  1317134235             635565337431           MCI1      G2         0   \n",
       "3  1320601552             590930346580           EFC3      G1         0   \n",
       "4  1301477269             628817988775           MCO1      G1         0   \n",
       "\n",
       "  carrier_code customer_postcode customer_zip3 customer_state  \\\n",
       "0        FDXHD             78415           784             TX   \n",
       "1        FDXHD             10509           105             NY   \n",
       "2        FDXHD             63123           631             MO   \n",
       "3        FDXHD             28734           287             NC   \n",
       "4        FDXHD             32779           327             FL   \n",
       "\n",
       "  shipment_delivery_date  ... distance_mi actual_zone std_actual  \\\n",
       "0             2023-01-30  ...     343.952           4          3   \n",
       "1             2023-05-13  ...     121.336           2          1   \n",
       "2             2023-02-21  ...     227.599           3          1   \n",
       "3             2023-03-02  ...     494.042           4          1   \n",
       "4             2023-01-16  ...      56.704           1          2   \n",
       "\n",
       "  std_actual_vattempted        tag  ensemble_pred  ensemble_pred_rounded  \\\n",
       "0                     3  train_val       2.345700                    2.0   \n",
       "1                     1  train_val       1.039473                    1.0   \n",
       "2                     1  train_val       1.011974                    1.0   \n",
       "3                     1  train_val       1.113795                    1.0   \n",
       "4                     2  train_val       2.015039                    2.0   \n",
       "\n",
       "    ml_pred  ml_pred_rounded  routetype  \n",
       "0  2.425830              2.0         CS  \n",
       "1  1.031925              1.0    Preload  \n",
       "2  1.046484              1.0     Direct  \n",
       "3  1.375000              1.0         CS  \n",
       "4  1.739800              2.0    Preload  \n",
       "\n",
       "[5 rows x 34 columns]"
      ]
     },
     "execution_count": 67,
     "metadata": {},
     "output_type": "execute_result"
    }
   ],
   "source": [
    "report_out.head()"
   ]
  },
  {
   "cell_type": "code",
   "execution_count": 68,
   "id": "fc674c65-0f97-43df-a481-51f26615654d",
   "metadata": {
    "tags": []
   },
   "outputs": [
    {
     "name": "stderr",
     "output_type": "stream",
     "text": [
      "/home/ec2-user/anaconda3/envs/python3/lib/python3.10/site-packages/fsspec/registry.py:272: UserWarning: Your installed version of s3fs is very old and known to cause\n",
      "severe performance issues, see also https://github.com/dask/dask/issues/10276\n",
      "\n",
      "To fix, you should specify a lower version bound on s3fs, or\n",
      "update the current installation.\n",
      "\n",
      "  warnings.warn(s3_msg)\n"
     ]
    }
   ],
   "source": [
    "report_out.to_csv(os.path.join(schema, bucket, project, 'reporting/model_out/20231114.csv'), \n",
    "                  index=False,\n",
    "                  header=True)"
   ]
  },
  {
   "cell_type": "code",
   "execution_count": 69,
   "id": "695f3b79-56c7-45e0-96ed-de48e6892514",
   "metadata": {
    "tags": []
   },
   "outputs": [
    {
     "data": {
      "text/plain": [
       "(29901059, 34)"
      ]
     },
     "execution_count": 69,
     "metadata": {},
     "output_type": "execute_result"
    }
   ],
   "source": [
    "report_out.shape"
   ]
  },
  {
   "cell_type": "code",
   "execution_count": 70,
   "id": "895c6749-9792-48a3-b855-8ad6b101401a",
   "metadata": {
    "tags": []
   },
   "outputs": [
    {
     "data": {
      "text/plain": [
       "(29901059, 1)"
      ]
     },
     "execution_count": 70,
     "metadata": {},
     "output_type": "execute_result"
    }
   ],
   "source": [
    "report_out[['shipment_tracking_number']].drop_duplicates().shape"
   ]
  },
  {
   "cell_type": "code",
   "execution_count": null,
   "id": "b5d684e6-5a25-4dea-bc6f-86a59c8808d3",
   "metadata": {},
   "outputs": [],
   "source": []
  }
 ],
 "metadata": {
  "kernelspec": {
   "display_name": "Python 3 (ipykernel)",
   "language": "python",
   "name": "python3"
  },
  "language_info": {
   "codemirror_mode": {
    "name": "ipython",
    "version": 3
   },
   "file_extension": ".py",
   "mimetype": "text/x-python",
   "name": "python",
   "nbconvert_exporter": "python",
   "pygments_lexer": "ipython3",
   "version": "3.11.5"
  }
 },
 "nbformat": 4,
 "nbformat_minor": 5
}
