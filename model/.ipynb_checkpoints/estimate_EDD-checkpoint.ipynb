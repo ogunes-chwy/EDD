{
 "cells": [
  {
   "cell_type": "code",
   "execution_count": 1,
   "id": "d3d9212e-0074-4fd9-9df8-dded1badc56b",
   "metadata": {
    "tags": []
   },
   "outputs": [
    {
     "name": "stdout",
     "output_type": "stream",
     "text": [
      "Collecting xgboost\n",
      "  Obtaining dependency information for xgboost from https://files.pythonhosted.org/packages/ee/2c/03d466d00818c8e0ffcf778946ca4a5e05694a11b85bc51f1bc5c18ca54e/xgboost-2.0.1-py3-none-manylinux2014_x86_64.whl.metadata\n",
      "  Downloading xgboost-2.0.1-py3-none-manylinux2014_x86_64.whl.metadata (2.0 kB)\n",
      "Requirement already satisfied: numpy in /home/ec2-user/anaconda3/envs/python3/lib/python3.10/site-packages (from xgboost) (1.22.3)\n",
      "Requirement already satisfied: scipy in /home/ec2-user/anaconda3/envs/python3/lib/python3.10/site-packages (from xgboost) (1.11.1)\n",
      "Downloading xgboost-2.0.1-py3-none-manylinux2014_x86_64.whl (297.1 MB)\n",
      "\u001b[2K   \u001b[90m━━━━━━━━━━━━━━━━━━━━━━━━━━━━━━━━━━━━━━━━\u001b[0m \u001b[32m297.1/297.1 MB\u001b[0m \u001b[31m1.3 MB/s\u001b[0m eta \u001b[36m0:00:00\u001b[0m:00:01\u001b[0m00:01\u001b[0m\n",
      "\u001b[?25hInstalling collected packages: xgboost\n",
      "Successfully installed xgboost-2.0.1\n"
     ]
    }
   ],
   "source": [
    "!pip install xgboost"
   ]
  },
  {
   "cell_type": "code",
   "execution_count": 2,
   "id": "f13d068e-d69d-4f1e-861e-1ddb1cf81bba",
   "metadata": {
    "tags": []
   },
   "outputs": [
    {
     "name": "stdout",
     "output_type": "stream",
     "text": [
      "Collecting mlflow\n",
      "  Obtaining dependency information for mlflow from https://files.pythonhosted.org/packages/64/4a/514286f441cade293efcdf77c9733d4ea3d50cd67e8b444beca1b9d85572/mlflow-2.8.0-py3-none-any.whl.metadata\n",
      "  Downloading mlflow-2.8.0-py3-none-any.whl.metadata (13 kB)\n",
      "Requirement already satisfied: click<9,>=7.0 in /home/ec2-user/anaconda3/envs/python3/lib/python3.10/site-packages (from mlflow) (8.1.6)\n",
      "Requirement already satisfied: cloudpickle<3 in /home/ec2-user/anaconda3/envs/python3/lib/python3.10/site-packages (from mlflow) (2.2.1)\n",
      "Collecting databricks-cli<1,>=0.8.7 (from mlflow)\n",
      "  Obtaining dependency information for databricks-cli<1,>=0.8.7 from https://files.pythonhosted.org/packages/ae/a3/d56f8382c40899301f327d1c881278b09c9b8bc301c2c111633a0346d06e/databricks_cli-0.18.0-py2.py3-none-any.whl.metadata\n",
      "  Downloading databricks_cli-0.18.0-py2.py3-none-any.whl.metadata (4.0 kB)\n",
      "Requirement already satisfied: entrypoints<1 in /home/ec2-user/anaconda3/envs/python3/lib/python3.10/site-packages (from mlflow) (0.4)\n",
      "Collecting gitpython<4,>=2.1.0 (from mlflow)\n",
      "  Obtaining dependency information for gitpython<4,>=2.1.0 from https://files.pythonhosted.org/packages/8d/c4/82b858fb6483dfb5e338123c154d19c043305b01726a67d89532b8f8f01b/GitPython-3.1.40-py3-none-any.whl.metadata\n",
      "  Downloading GitPython-3.1.40-py3-none-any.whl.metadata (12 kB)\n",
      "Requirement already satisfied: pyyaml<7,>=5.1 in /home/ec2-user/anaconda3/envs/python3/lib/python3.10/site-packages (from mlflow) (6.0)\n",
      "Requirement already satisfied: protobuf<5,>=3.12.0 in /home/ec2-user/anaconda3/envs/python3/lib/python3.10/site-packages (from mlflow) (4.24.3)\n",
      "Requirement already satisfied: pytz<2024 in /home/ec2-user/anaconda3/envs/python3/lib/python3.10/site-packages (from mlflow) (2023.3)\n",
      "Requirement already satisfied: requests<3,>=2.17.3 in /home/ec2-user/anaconda3/envs/python3/lib/python3.10/site-packages (from mlflow) (2.31.0)\n",
      "Requirement already satisfied: packaging<24 in /home/ec2-user/anaconda3/envs/python3/lib/python3.10/site-packages (from mlflow) (21.3)\n",
      "Requirement already satisfied: importlib-metadata!=4.7.0,<7,>=3.7.0 in /home/ec2-user/anaconda3/envs/python3/lib/python3.10/site-packages (from mlflow) (6.8.0)\n",
      "Collecting sqlparse<1,>=0.4.0 (from mlflow)\n",
      "  Downloading sqlparse-0.4.4-py3-none-any.whl (41 kB)\n",
      "\u001b[2K     \u001b[90m━━━━━━━━━━━━━━━━━━━━━━━━━━━━━━━━━━━━━━━━\u001b[0m \u001b[32m41.2/41.2 kB\u001b[0m \u001b[31m9.0 MB/s\u001b[0m eta \u001b[36m0:00:00\u001b[0m\n",
      "\u001b[?25hCollecting alembic!=1.10.0,<2 (from mlflow)\n",
      "  Obtaining dependency information for alembic!=1.10.0,<2 from https://files.pythonhosted.org/packages/34/47/95d8f99c9f4a57079dfbcff5e023c5d81bde092d1c2354156340a56b3a1a/alembic-1.12.1-py3-none-any.whl.metadata\n",
      "  Downloading alembic-1.12.1-py3-none-any.whl.metadata (7.3 kB)\n",
      "Requirement already satisfied: docker<7,>=4.0.0 in /home/ec2-user/anaconda3/envs/python3/lib/python3.10/site-packages (from mlflow) (6.1.3)\n",
      "Requirement already satisfied: Flask<4 in /home/ec2-user/anaconda3/envs/python3/lib/python3.10/site-packages (from mlflow) (2.3.2)\n",
      "Requirement already satisfied: numpy<2 in /home/ec2-user/anaconda3/envs/python3/lib/python3.10/site-packages (from mlflow) (1.22.3)\n",
      "Requirement already satisfied: scipy<2 in /home/ec2-user/anaconda3/envs/python3/lib/python3.10/site-packages (from mlflow) (1.11.1)\n",
      "Requirement already satisfied: pandas<3 in /home/ec2-user/anaconda3/envs/python3/lib/python3.10/site-packages (from mlflow) (2.0.3)\n",
      "Collecting querystring-parser<2 (from mlflow)\n",
      "  Downloading querystring_parser-1.2.4-py2.py3-none-any.whl (7.9 kB)\n",
      "Requirement already satisfied: sqlalchemy<3,>=1.4.0 in /home/ec2-user/anaconda3/envs/python3/lib/python3.10/site-packages (from mlflow) (2.0.19)\n",
      "Requirement already satisfied: scikit-learn<2 in /home/ec2-user/anaconda3/envs/python3/lib/python3.10/site-packages (from mlflow) (1.3.0)\n",
      "Requirement already satisfied: pyarrow<14,>=4.0.0 in /home/ec2-user/anaconda3/envs/python3/lib/python3.10/site-packages (from mlflow) (12.0.1)\n",
      "Collecting markdown<4,>=3.3 (from mlflow)\n",
      "  Obtaining dependency information for markdown<4,>=3.3 from https://files.pythonhosted.org/packages/bb/c1/50caaec6cadc1c6adc8fe351e03bd646d6e4dd17f55fca0f4c8d7ea8d3e9/Markdown-3.5-py3-none-any.whl.metadata\n",
      "  Downloading Markdown-3.5-py3-none-any.whl.metadata (7.1 kB)\n",
      "Requirement already satisfied: matplotlib<4 in /home/ec2-user/anaconda3/envs/python3/lib/python3.10/site-packages (from mlflow) (3.7.2)\n",
      "Requirement already satisfied: psutil<6 in /home/ec2-user/anaconda3/envs/python3/lib/python3.10/site-packages (from mlflow) (5.9.5)\n",
      "Collecting gunicorn<22 (from mlflow)\n",
      "  Obtaining dependency information for gunicorn<22 from https://files.pythonhosted.org/packages/0e/2a/c3a878eccb100ccddf45c50b6b8db8cf3301a6adede6e31d48e8531cab13/gunicorn-21.2.0-py3-none-any.whl.metadata\n",
      "  Downloading gunicorn-21.2.0-py3-none-any.whl.metadata (4.1 kB)\n",
      "Requirement already satisfied: Jinja2<4,>=2.11 in /home/ec2-user/anaconda3/envs/python3/lib/python3.10/site-packages (from mlflow) (3.1.2)\n",
      "Collecting Mako (from alembic!=1.10.0,<2->mlflow)\n",
      "  Downloading Mako-1.2.4-py3-none-any.whl (78 kB)\n",
      "\u001b[2K     \u001b[90m━━━━━━━━━━━━━━━━━━━━━━━━━━━━━━━━━━━━━━━━\u001b[0m \u001b[32m78.7/78.7 kB\u001b[0m \u001b[31m12.3 MB/s\u001b[0m eta \u001b[36m0:00:00\u001b[0m\n",
      "\u001b[?25hRequirement already satisfied: typing-extensions>=4 in /home/ec2-user/anaconda3/envs/python3/lib/python3.10/site-packages (from alembic!=1.10.0,<2->mlflow) (4.7.1)\n",
      "Collecting pyjwt>=1.7.0 (from databricks-cli<1,>=0.8.7->mlflow)\n",
      "  Obtaining dependency information for pyjwt>=1.7.0 from https://files.pythonhosted.org/packages/2b/4f/e04a8067c7c96c364cef7ef73906504e2f40d690811c021e1a1901473a19/PyJWT-2.8.0-py3-none-any.whl.metadata\n",
      "  Downloading PyJWT-2.8.0-py3-none-any.whl.metadata (4.2 kB)\n",
      "Collecting oauthlib>=3.1.0 (from databricks-cli<1,>=0.8.7->mlflow)\n",
      "  Downloading oauthlib-3.2.2-py3-none-any.whl (151 kB)\n",
      "\u001b[2K     \u001b[90m━━━━━━━━━━━━━━━━━━━━━━━━━━━━━━━━━━━━━━\u001b[0m \u001b[32m151.7/151.7 kB\u001b[0m \u001b[31m10.7 MB/s\u001b[0m eta \u001b[36m0:00:00\u001b[0m\n",
      "\u001b[?25hCollecting tabulate>=0.7.7 (from databricks-cli<1,>=0.8.7->mlflow)\n",
      "  Downloading tabulate-0.9.0-py3-none-any.whl (35 kB)\n",
      "Requirement already satisfied: six>=1.10.0 in /home/ec2-user/anaconda3/envs/python3/lib/python3.10/site-packages (from databricks-cli<1,>=0.8.7->mlflow) (1.16.0)\n",
      "Requirement already satisfied: urllib3<3,>=1.26.7 in /home/ec2-user/anaconda3/envs/python3/lib/python3.10/site-packages (from databricks-cli<1,>=0.8.7->mlflow) (1.26.14)\n",
      "Requirement already satisfied: websocket-client>=0.32.0 in /home/ec2-user/anaconda3/envs/python3/lib/python3.10/site-packages (from docker<7,>=4.0.0->mlflow) (1.6.1)\n",
      "Requirement already satisfied: Werkzeug>=2.3.3 in /home/ec2-user/anaconda3/envs/python3/lib/python3.10/site-packages (from Flask<4->mlflow) (2.3.6)\n",
      "Requirement already satisfied: itsdangerous>=2.1.2 in /home/ec2-user/anaconda3/envs/python3/lib/python3.10/site-packages (from Flask<4->mlflow) (2.1.2)\n",
      "Requirement already satisfied: blinker>=1.6.2 in /home/ec2-user/anaconda3/envs/python3/lib/python3.10/site-packages (from Flask<4->mlflow) (1.6.2)\n",
      "Collecting gitdb<5,>=4.0.1 (from gitpython<4,>=2.1.0->mlflow)\n",
      "  Obtaining dependency information for gitdb<5,>=4.0.1 from https://files.pythonhosted.org/packages/fd/5b/8f0c4a5bb9fd491c277c21eff7ccae71b47d43c4446c9d0c6cff2fe8c2c4/gitdb-4.0.11-py3-none-any.whl.metadata\n",
      "  Downloading gitdb-4.0.11-py3-none-any.whl.metadata (1.2 kB)\n",
      "Requirement already satisfied: zipp>=0.5 in /home/ec2-user/anaconda3/envs/python3/lib/python3.10/site-packages (from importlib-metadata!=4.7.0,<7,>=3.7.0->mlflow) (3.16.2)\n",
      "Requirement already satisfied: MarkupSafe>=2.0 in /home/ec2-user/anaconda3/envs/python3/lib/python3.10/site-packages (from Jinja2<4,>=2.11->mlflow) (2.1.3)\n",
      "Requirement already satisfied: contourpy>=1.0.1 in /home/ec2-user/anaconda3/envs/python3/lib/python3.10/site-packages (from matplotlib<4->mlflow) (1.1.0)\n",
      "Requirement already satisfied: cycler>=0.10 in /home/ec2-user/anaconda3/envs/python3/lib/python3.10/site-packages (from matplotlib<4->mlflow) (0.11.0)\n",
      "Requirement already satisfied: fonttools>=4.22.0 in /home/ec2-user/anaconda3/envs/python3/lib/python3.10/site-packages (from matplotlib<4->mlflow) (4.41.0)\n",
      "Requirement already satisfied: kiwisolver>=1.0.1 in /home/ec2-user/anaconda3/envs/python3/lib/python3.10/site-packages (from matplotlib<4->mlflow) (1.4.4)\n",
      "Requirement already satisfied: pillow>=6.2.0 in /home/ec2-user/anaconda3/envs/python3/lib/python3.10/site-packages (from matplotlib<4->mlflow) (9.4.0)\n",
      "Requirement already satisfied: pyparsing<3.1,>=2.3.1 in /home/ec2-user/anaconda3/envs/python3/lib/python3.10/site-packages (from matplotlib<4->mlflow) (3.0.9)\n",
      "Requirement already satisfied: python-dateutil>=2.7 in /home/ec2-user/anaconda3/envs/python3/lib/python3.10/site-packages (from matplotlib<4->mlflow) (2.8.2)\n",
      "Requirement already satisfied: tzdata>=2022.1 in /home/ec2-user/anaconda3/envs/python3/lib/python3.10/site-packages (from pandas<3->mlflow) (2023.3)\n",
      "Requirement already satisfied: charset-normalizer<4,>=2 in /home/ec2-user/anaconda3/envs/python3/lib/python3.10/site-packages (from requests<3,>=2.17.3->mlflow) (3.2.0)\n",
      "Requirement already satisfied: idna<4,>=2.5 in /home/ec2-user/anaconda3/envs/python3/lib/python3.10/site-packages (from requests<3,>=2.17.3->mlflow) (3.4)\n",
      "Requirement already satisfied: certifi>=2017.4.17 in /home/ec2-user/anaconda3/envs/python3/lib/python3.10/site-packages (from requests<3,>=2.17.3->mlflow) (2023.5.7)\n",
      "Requirement already satisfied: joblib>=1.1.1 in /home/ec2-user/anaconda3/envs/python3/lib/python3.10/site-packages (from scikit-learn<2->mlflow) (1.3.0)\n",
      "Requirement already satisfied: threadpoolctl>=2.0.0 in /home/ec2-user/anaconda3/envs/python3/lib/python3.10/site-packages (from scikit-learn<2->mlflow) (3.2.0)\n",
      "Requirement already satisfied: greenlet!=0.4.17 in /home/ec2-user/anaconda3/envs/python3/lib/python3.10/site-packages (from sqlalchemy<3,>=1.4.0->mlflow) (2.0.2)\n",
      "Collecting smmap<6,>=3.0.1 (from gitdb<5,>=4.0.1->gitpython<4,>=2.1.0->mlflow)\n",
      "  Obtaining dependency information for smmap<6,>=3.0.1 from https://files.pythonhosted.org/packages/a7/a5/10f97f73544edcdef54409f1d839f6049a0d79df68adbc1ceb24d1aaca42/smmap-5.0.1-py3-none-any.whl.metadata\n",
      "  Using cached smmap-5.0.1-py3-none-any.whl.metadata (4.3 kB)\n",
      "Downloading mlflow-2.8.0-py3-none-any.whl (19.0 MB)\n",
      "\u001b[2K   \u001b[90m━━━━━━━━━━━━━━━━━━━━━━━━━━━━━━━━━━━━━━━━\u001b[0m \u001b[32m19.0/19.0 MB\u001b[0m \u001b[31m41.7 MB/s\u001b[0m eta \u001b[36m0:00:00\u001b[0m00:01\u001b[0m00:01\u001b[0m\n",
      "\u001b[?25hDownloading alembic-1.12.1-py3-none-any.whl (226 kB)\n",
      "\u001b[2K   \u001b[90m━━━━━━━━━━━━━━━━━━━━━━━━━━━━━━━━━━━━━━━━\u001b[0m \u001b[32m226.8/226.8 kB\u001b[0m \u001b[31m33.1 MB/s\u001b[0m eta \u001b[36m0:00:00\u001b[0m\n",
      "\u001b[?25hDownloading databricks_cli-0.18.0-py2.py3-none-any.whl (150 kB)\n",
      "\u001b[2K   \u001b[90m━━━━━━━━━━━━━━━━━━━━━━━━━━━━━━━━━━━━━━━━\u001b[0m \u001b[32m150.3/150.3 kB\u001b[0m \u001b[31m27.0 MB/s\u001b[0m eta \u001b[36m0:00:00\u001b[0m\n",
      "\u001b[?25hDownloading GitPython-3.1.40-py3-none-any.whl (190 kB)\n",
      "\u001b[2K   \u001b[90m━━━━━━━━━━━━━━━━━━━━━━━━━━━━━━━━━━━━━━━━\u001b[0m \u001b[32m190.6/190.6 kB\u001b[0m \u001b[31m26.6 MB/s\u001b[0m eta \u001b[36m0:00:00\u001b[0m\n",
      "\u001b[?25hDownloading gunicorn-21.2.0-py3-none-any.whl (80 kB)\n",
      "\u001b[2K   \u001b[90m━━━━━━━━━━━━━━━━━━━━━━━━━━━━━━━━━━━━━━━━\u001b[0m \u001b[32m80.2/80.2 kB\u001b[0m \u001b[31m16.5 MB/s\u001b[0m eta \u001b[36m0:00:00\u001b[0m\n",
      "\u001b[?25hDownloading Markdown-3.5-py3-none-any.whl (101 kB)\n",
      "\u001b[2K   \u001b[90m━━━━━━━━━━━━━━━━━━━━━━━━━━━━━━━━━━━━━━━━\u001b[0m \u001b[32m101.7/101.7 kB\u001b[0m \u001b[31m20.8 MB/s\u001b[0m eta \u001b[36m0:00:00\u001b[0m\n",
      "\u001b[?25hDownloading gitdb-4.0.11-py3-none-any.whl (62 kB)\n",
      "\u001b[2K   \u001b[90m━━━━━━━━━━━━━━━━━━━━━━━━━━━━━━━━━━━━━━━━\u001b[0m \u001b[32m62.7/62.7 kB\u001b[0m \u001b[31m10.6 MB/s\u001b[0m eta \u001b[36m0:00:00\u001b[0m\n",
      "\u001b[?25hDownloading PyJWT-2.8.0-py3-none-any.whl (22 kB)\n",
      "Using cached smmap-5.0.1-py3-none-any.whl (24 kB)\n",
      "Installing collected packages: tabulate, sqlparse, smmap, querystring-parser, pyjwt, oauthlib, markdown, Mako, gunicorn, gitdb, databricks-cli, alembic, gitpython, mlflow\n",
      "Successfully installed Mako-1.2.4 alembic-1.12.1 databricks-cli-0.18.0 gitdb-4.0.11 gitpython-3.1.40 gunicorn-21.2.0 markdown-3.5 mlflow-2.8.0 oauthlib-3.2.2 pyjwt-2.8.0 querystring-parser-1.2.4 smmap-5.0.1 sqlparse-0.4.4 tabulate-0.9.0\n"
     ]
    }
   ],
   "source": [
    "!pip3 install mlflow"
   ]
  },
  {
   "cell_type": "code",
   "execution_count": 1,
   "id": "41e60110-03f2-47c8-95b1-a33d7b2cb495",
   "metadata": {
    "tags": []
   },
   "outputs": [],
   "source": [
    "import xgboost as xgb\n",
    "import pandas as pd\n",
    "import numpy as np\n",
    "import mlflow\n",
    "from mlflow.tracking import MlflowClient\n",
    "from sklearn.model_selection import train_test_split\n",
    "from sklearn.metrics import mean_squared_error, mean_absolute_error, mean_absolute_percentage_error\n",
    "from sklearn.model_selection import RandomizedSearchCV\n",
    "from scipy.stats import randint, uniform\n",
    "pd.set_option('display.max_rows', 100)\n",
    "from sklearn.metrics import accuracy_score, classification_report\n",
    "\n",
    "import datetime\n",
    "import os\n",
    "import pandas as pd"
   ]
  },
  {
   "cell_type": "code",
   "execution_count": 2,
   "id": "d7429f29-97b9-41be-bfd0-9d3886ac0d42",
   "metadata": {
    "tags": []
   },
   "outputs": [],
   "source": [
    "# load the training, validation and test data files\n",
    "\n",
    "schema = 's3://'\n",
    "bucket = 'ogunes-promise'\n",
    "project = 'EDD'\n",
    "key = 'ml_train_val_test_set/20231025_v8'\n",
    "\n",
    "main_path = os.path.join(schema, bucket, project, key)\n",
    "\n",
    "df_train = pd.read_parquet(os.path.join(main_path, 'train_2023-01-01_2023-05-01'))\n",
    "df_val = pd.read_parquet(os.path.join(main_path, 'val_2023-05-01_2023-06-01'))\n",
    "df_test = pd.read_parquet(os.path.join(main_path, 'test_2023-06-01_2023-08-01'))"
   ]
  },
  {
   "cell_type": "code",
   "execution_count": 3,
   "id": "c495e972-da79-4ab3-abc9-61bbce036861",
   "metadata": {
    "tags": []
   },
   "outputs": [],
   "source": [
    "fc_master = pd.read_csv('s3://ogunes-promise/EDD/fc_master/fulfillment_centers.csv')"
   ]
  },
  {
   "cell_type": "code",
   "execution_count": 37,
   "id": "b03591a3-2a53-48b9-812d-091da36e11bb",
   "metadata": {
    "tags": []
   },
   "outputs": [
    {
     "data": {
      "text/plain": [
       "5130441"
      ]
     },
     "execution_count": 37,
     "metadata": {},
     "output_type": "execute_result"
    }
   ],
   "source": [
    "df_train.shape[0] + df_val.shape[0] + df_test.shape[0]"
   ]
  },
  {
   "cell_type": "code",
   "execution_count": 38,
   "id": "28560cf5-fe88-4cf5-96fe-208fb2d40793",
   "metadata": {
    "tags": []
   },
   "outputs": [
    {
     "data": {
      "text/plain": [
       "delivery_dow             int32\n",
       "std_actual               int32\n",
       "arc_range                int32\n",
       "distance_mi            float64\n",
       "zone                     int64\n",
       "UOM_flag                 int32\n",
       "holiday_flag            object\n",
       "is_release_fri_sat       int32\n",
       "is_ship_fri_sat          int32\n",
       "release_fri_sat_tag     object\n",
       "ship_fri_sat_tag        object\n",
       "hours_till_CPT         float64\n",
       "is_after_CPT             int32\n",
       "adj_TNT                  int64\n",
       "nextadj_tnt              int64\n",
       "std_v0                 float64\n",
       "release_dow_0            int32\n",
       "release_dow_1            int32\n",
       "release_dow_2            int32\n",
       "release_dow_3            int32\n",
       "release_dow_4            int32\n",
       "release_dow_5            int32\n",
       "release_dow_6            int32\n",
       "ship_dow_0               int32\n",
       "ship_dow_1               int32\n",
       "ship_dow_2               int32\n",
       "ship_dow_3               int32\n",
       "ship_dow_4               int32\n",
       "ship_dow_5               int32\n",
       "ship_dow_6               int32\n",
       "order_id                object\n",
       "fc_name                 object\n",
       "customer_zip            object\n",
       "route_id                object\n",
       "dtype: object"
      ]
     },
     "execution_count": 38,
     "metadata": {},
     "output_type": "execute_result"
    }
   ],
   "source": [
    "df_train.dtypes"
   ]
  },
  {
   "cell_type": "code",
   "execution_count": 39,
   "id": "5aa37089-0148-4459-88dc-98566a8159db",
   "metadata": {
    "tags": []
   },
   "outputs": [
    {
     "data": {
      "text/plain": [
       "'\\ndf_train[\"route_id\"] = df_train[\"route_id\"].astype(\"category\")\\ndf_train[\"holiday_flag\"] = df_train[\"holiday_flag\"].astype(\"category\")\\n\\ndf_val[\"route_id\"] = df_val[\"route_id\"].astype(\"category\")\\ndf_val[\"holiday_flag\"] = df_val[\"holiday_flag\"].astype(\"category\")\\n\\ndf_test[\"route_id\"] = df_test[\"route_id\"].astype(\"category\")\\ndf_test[\"holiday_flag\"] = df_test[\"holiday_flag\"].astype(\"category\")\\n'"
      ]
     },
     "execution_count": 39,
     "metadata": {},
     "output_type": "execute_result"
    }
   ],
   "source": [
    "\"\"\"\n",
    "df_train[\"route_id\"] = df_train[\"route_id\"].astype(\"category\")\n",
    "df_train[\"holiday_flag\"] = df_train[\"holiday_flag\"].astype(\"category\")\n",
    "\n",
    "df_val[\"route_id\"] = df_val[\"route_id\"].astype(\"category\")\n",
    "df_val[\"holiday_flag\"] = df_val[\"holiday_flag\"].astype(\"category\")\n",
    "\n",
    "df_test[\"route_id\"] = df_test[\"route_id\"].astype(\"category\")\n",
    "df_test[\"holiday_flag\"] = df_test[\"holiday_flag\"].astype(\"category\")\n",
    "\"\"\""
   ]
  },
  {
   "cell_type": "code",
   "execution_count": 40,
   "id": "7948ae43-faf2-4f96-aa3f-3e66dc32552f",
   "metadata": {
    "tags": []
   },
   "outputs": [
    {
     "data": {
      "text/html": [
       "<div>\n",
       "<style scoped>\n",
       "    .dataframe tbody tr th:only-of-type {\n",
       "        vertical-align: middle;\n",
       "    }\n",
       "\n",
       "    .dataframe tbody tr th {\n",
       "        vertical-align: top;\n",
       "    }\n",
       "\n",
       "    .dataframe thead th {\n",
       "        text-align: right;\n",
       "    }\n",
       "</style>\n",
       "<table border=\"1\" class=\"dataframe\">\n",
       "  <thead>\n",
       "    <tr style=\"text-align: right;\">\n",
       "      <th></th>\n",
       "      <th>delivery_dow</th>\n",
       "      <th>std_actual</th>\n",
       "      <th>arc_range</th>\n",
       "      <th>distance_mi</th>\n",
       "      <th>zone</th>\n",
       "      <th>UOM_flag</th>\n",
       "      <th>holiday_flag</th>\n",
       "      <th>is_release_fri_sat</th>\n",
       "      <th>is_ship_fri_sat</th>\n",
       "      <th>release_fri_sat_tag</th>\n",
       "      <th>...</th>\n",
       "      <th>ship_dow_1</th>\n",
       "      <th>ship_dow_2</th>\n",
       "      <th>ship_dow_3</th>\n",
       "      <th>ship_dow_4</th>\n",
       "      <th>ship_dow_5</th>\n",
       "      <th>ship_dow_6</th>\n",
       "      <th>order_id</th>\n",
       "      <th>fc_name</th>\n",
       "      <th>customer_zip</th>\n",
       "      <th>route_id</th>\n",
       "    </tr>\n",
       "  </thead>\n",
       "  <tbody>\n",
       "    <tr>\n",
       "      <th>0</th>\n",
       "      <td>5</td>\n",
       "      <td>1</td>\n",
       "      <td>1</td>\n",
       "      <td>140.836</td>\n",
       "      <td>2</td>\n",
       "      <td>0</td>\n",
       "      <td>regular</td>\n",
       "      <td>0</td>\n",
       "      <td>0</td>\n",
       "      <td>regular</td>\n",
       "      <td>...</td>\n",
       "      <td>0</td>\n",
       "      <td>0</td>\n",
       "      <td>0</td>\n",
       "      <td>1</td>\n",
       "      <td>0</td>\n",
       "      <td>0</td>\n",
       "      <td>1335838404</td>\n",
       "      <td>AVP1</td>\n",
       "      <td>14513</td>\n",
       "      <td>SYRA</td>\n",
       "    </tr>\n",
       "    <tr>\n",
       "      <th>1</th>\n",
       "      <td>1</td>\n",
       "      <td>2</td>\n",
       "      <td>2</td>\n",
       "      <td>316.502</td>\n",
       "      <td>3</td>\n",
       "      <td>0</td>\n",
       "      <td>regular</td>\n",
       "      <td>1</td>\n",
       "      <td>1</td>\n",
       "      <td>friday</td>\n",
       "      <td>...</td>\n",
       "      <td>0</td>\n",
       "      <td>0</td>\n",
       "      <td>0</td>\n",
       "      <td>0</td>\n",
       "      <td>0</td>\n",
       "      <td>1</td>\n",
       "      <td>1298246217</td>\n",
       "      <td>MCO1</td>\n",
       "      <td>32514</td>\n",
       "      <td>JKSV</td>\n",
       "    </tr>\n",
       "    <tr>\n",
       "      <th>2</th>\n",
       "      <td>1</td>\n",
       "      <td>2</td>\n",
       "      <td>1</td>\n",
       "      <td>111.529</td>\n",
       "      <td>2</td>\n",
       "      <td>0</td>\n",
       "      <td>regular</td>\n",
       "      <td>1</td>\n",
       "      <td>1</td>\n",
       "      <td>friday</td>\n",
       "      <td>...</td>\n",
       "      <td>0</td>\n",
       "      <td>0</td>\n",
       "      <td>0</td>\n",
       "      <td>0</td>\n",
       "      <td>0</td>\n",
       "      <td>1</td>\n",
       "      <td>1315991358</td>\n",
       "      <td>PHX1</td>\n",
       "      <td>86024</td>\n",
       "      <td>GDRS_TX</td>\n",
       "    </tr>\n",
       "    <tr>\n",
       "      <th>3</th>\n",
       "      <td>2</td>\n",
       "      <td>1</td>\n",
       "      <td>2</td>\n",
       "      <td>398.067</td>\n",
       "      <td>4</td>\n",
       "      <td>0</td>\n",
       "      <td>holiday</td>\n",
       "      <td>0</td>\n",
       "      <td>0</td>\n",
       "      <td>regular</td>\n",
       "      <td>...</td>\n",
       "      <td>1</td>\n",
       "      <td>0</td>\n",
       "      <td>0</td>\n",
       "      <td>0</td>\n",
       "      <td>0</td>\n",
       "      <td>0</td>\n",
       "      <td>1338392938</td>\n",
       "      <td>RNO1</td>\n",
       "      <td>90405</td>\n",
       "      <td>DBRS_MX</td>\n",
       "    </tr>\n",
       "    <tr>\n",
       "      <th>4</th>\n",
       "      <td>4</td>\n",
       "      <td>3</td>\n",
       "      <td>3</td>\n",
       "      <td>933.452</td>\n",
       "      <td>5</td>\n",
       "      <td>1</td>\n",
       "      <td>regular</td>\n",
       "      <td>0</td>\n",
       "      <td>0</td>\n",
       "      <td>regular</td>\n",
       "      <td>...</td>\n",
       "      <td>1</td>\n",
       "      <td>0</td>\n",
       "      <td>0</td>\n",
       "      <td>0</td>\n",
       "      <td>0</td>\n",
       "      <td>0</td>\n",
       "      <td>1331686712</td>\n",
       "      <td>MCO1</td>\n",
       "      <td>78753</td>\n",
       "      <td>OCAL_EX</td>\n",
       "    </tr>\n",
       "  </tbody>\n",
       "</table>\n",
       "<p>5 rows × 34 columns</p>\n",
       "</div>"
      ],
      "text/plain": [
       "   delivery_dow  std_actual  arc_range  distance_mi  zone  UOM_flag  \\\n",
       "0             5           1          1      140.836     2         0   \n",
       "1             1           2          2      316.502     3         0   \n",
       "2             1           2          1      111.529     2         0   \n",
       "3             2           1          2      398.067     4         0   \n",
       "4             4           3          3      933.452     5         1   \n",
       "\n",
       "  holiday_flag  is_release_fri_sat  is_ship_fri_sat release_fri_sat_tag  ...  \\\n",
       "0      regular                   0                0             regular  ...   \n",
       "1      regular                   1                1              friday  ...   \n",
       "2      regular                   1                1              friday  ...   \n",
       "3      holiday                   0                0             regular  ...   \n",
       "4      regular                   0                0             regular  ...   \n",
       "\n",
       "  ship_dow_1  ship_dow_2  ship_dow_3  ship_dow_4  ship_dow_5  ship_dow_6  \\\n",
       "0          0           0           0           1           0           0   \n",
       "1          0           0           0           0           0           1   \n",
       "2          0           0           0           0           0           1   \n",
       "3          1           0           0           0           0           0   \n",
       "4          1           0           0           0           0           0   \n",
       "\n",
       "     order_id  fc_name  customer_zip  route_id  \n",
       "0  1335838404     AVP1         14513      SYRA  \n",
       "1  1298246217     MCO1         32514      JKSV  \n",
       "2  1315991358     PHX1         86024   GDRS_TX  \n",
       "3  1338392938     RNO1         90405   DBRS_MX  \n",
       "4  1331686712     MCO1         78753   OCAL_EX  \n",
       "\n",
       "[5 rows x 34 columns]"
      ]
     },
     "execution_count": 40,
     "metadata": {},
     "output_type": "execute_result"
    }
   ],
   "source": [
    "df_train.head()"
   ]
  },
  {
   "cell_type": "code",
   "execution_count": 4,
   "id": "bc0fbe57-e790-4af0-8752-b6434f532dd7",
   "metadata": {
    "tags": []
   },
   "outputs": [],
   "source": [
    "# add fc_state\n",
    "df_train = df_train.merge(\n",
    "    fc_master[['fc_name', 'fulfillment_center_state', 'fulfillment_center_type']],\n",
    "    on='fc_name')\n",
    "df_val = df_val.merge(\n",
    "    fc_master[['fc_name', 'fulfillment_center_state', 'fulfillment_center_type']],\n",
    "    on='fc_name')\n",
    "df_test = df_test.merge(\n",
    "    fc_master[['fc_name', 'fulfillment_center_state', 'fulfillment_center_type']],\n",
    "    on='fc_name')"
   ]
  },
  {
   "cell_type": "code",
   "execution_count": 42,
   "id": "e825412b-e37c-49ad-8e5a-a9e828ed49b9",
   "metadata": {
    "tags": []
   },
   "outputs": [
    {
     "data": {
      "text/plain": [
       "5130441"
      ]
     },
     "execution_count": 42,
     "metadata": {},
     "output_type": "execute_result"
    }
   ],
   "source": [
    "df_train.shape[0] + df_val.shape[0] + df_test.shape[0]"
   ]
  },
  {
   "cell_type": "code",
   "execution_count": 5,
   "id": "3fc630c9-4b85-4649-b83a-bd53208db362",
   "metadata": {
    "tags": []
   },
   "outputs": [],
   "source": [
    "# remove outliers\n",
    "anormality_threshold = 11\n",
    "\n",
    "df_train = df_train[(df_train['std_actual'] >= 0) &\n",
    "                    (df_train['std_actual'] < anormality_threshold)]\n",
    "\n",
    "df_val = df_val[(df_val['std_actual'] >= 0) &\n",
    "                (df_val['std_actual'] < anormality_threshold)]\n",
    "\n",
    "df_test = df_test[(df_test['std_actual'] >= 0) &\n",
    "                   (df_test['std_actual'] < anormality_threshold)]"
   ]
  },
  {
   "cell_type": "code",
   "execution_count": 44,
   "id": "c63650ad-2884-4a94-bbe4-cab81db4d769",
   "metadata": {
    "tags": []
   },
   "outputs": [
    {
     "data": {
      "text/plain": [
       "5127903"
      ]
     },
     "execution_count": 44,
     "metadata": {},
     "output_type": "execute_result"
    }
   ],
   "source": [
    "df_train.shape[0] + df_val.shape[0] + df_test.shape[0]"
   ]
  },
  {
   "cell_type": "code",
   "execution_count": 6,
   "id": "20499502-a46a-4518-a217-89b34cda6fb0",
   "metadata": {
    "tags": []
   },
   "outputs": [
    {
     "data": {
      "text/plain": [
       "['arc_range',\n",
       " 'distance_mi',\n",
       " 'zone',\n",
       " 'UOM_flag',\n",
       " 'holiday_flag',\n",
       " 'ship_fri_sat_tag',\n",
       " 'hours_till_CPT',\n",
       " 'is_after_CPT',\n",
       " 'adj_TNT',\n",
       " 'nextadj_tnt',\n",
       " 'std_v0',\n",
       " 'ship_dow_0',\n",
       " 'ship_dow_1',\n",
       " 'ship_dow_2',\n",
       " 'ship_dow_3',\n",
       " 'ship_dow_4',\n",
       " 'ship_dow_5',\n",
       " 'ship_dow_6',\n",
       " 'order_id',\n",
       " 'customer_zip',\n",
       " 'route_id',\n",
       " 'fulfillment_center_state',\n",
       " 'fulfillment_center_type']"
      ]
     },
     "execution_count": 6,
     "metadata": {},
     "output_type": "execute_result"
    }
   ],
   "source": [
    "feature_cols = list(df_train.columns)\n",
    "feature_cols = [e for e in feature_cols \n",
    "                if e not in ['delivery_dow', 'std_actual', 'fc_name', \n",
    "                             'release_dow_0', 'release_dow_1', 'release_dow_2',\n",
    "                             'release_dow_3', 'release_dow_4', 'release_dow_5', \n",
    "                             'release_dow_6',\n",
    "                             'release_fri_sat_tag', 'is_release_fri_sat', 'is_ship_fri_sat']]\n",
    "feature_cols"
   ]
  },
  {
   "cell_type": "code",
   "execution_count": 7,
   "id": "2ccd8515-1d19-49c7-a514-b4de0b449907",
   "metadata": {
    "tags": []
   },
   "outputs": [],
   "source": [
    "# Target column: to predict the number of shipment days\n",
    "target = 'std_actual'\n",
    "\n",
    "df_train_x = df_train[(df_train[target] >= 0)][feature_cols + [target]]\n",
    "df_train_x = pd.get_dummies(df_train_x, columns=['holiday_flag', 'ship_fri_sat_tag'])\n",
    "\n",
    "# # Split the data into X and y\n",
    "X_train = df_train_x.drop(target, axis=1)\n",
    "y_train = df_train_x[target]\n",
    "\n",
    "\n",
    "df_val_x = df_val[(df_val[target] >= 0)][feature_cols + [target]]\n",
    "df_val_x = pd.get_dummies(df_val_x, columns=['holiday_flag', 'ship_fri_sat_tag'])\n",
    "\n",
    "# # Split the data into X and y\n",
    "X_val = df_val_x.drop(target, axis=1)\n",
    "y_val = df_val_x[target]\n",
    "\n",
    "df_test_x = df_test[(df_test[target] >= 0)][feature_cols + [target]]\n",
    "df_test_x = pd.get_dummies(df_test_x, columns=['holiday_flag', 'ship_fri_sat_tag'])\n",
    "\n",
    "# # Split the data into X and y\n",
    "X_test = df_test_x.drop(target, axis=1)\n",
    "y_test = df_test_x[target]\n",
    "\n",
    "# Train the final model with the best hyperparameters\n",
    "X_train_val = pd.concat([X_train, X_val], axis=0)\n",
    "X_train_val = X_train_val.reset_index(drop=True)\n",
    "y_train_val = pd.concat([y_train, y_val], axis=0)\n",
    "y_train_val = y_train_val.reset_index(drop=True)"
   ]
  },
  {
   "cell_type": "code",
   "execution_count": 8,
   "id": "d6beb27a-67d0-482a-8c96-075edb312dd0",
   "metadata": {
    "tags": []
   },
   "outputs": [
    {
     "data": {
      "text/html": [
       "<div>\n",
       "<style scoped>\n",
       "    .dataframe tbody tr th:only-of-type {\n",
       "        vertical-align: middle;\n",
       "    }\n",
       "\n",
       "    .dataframe tbody tr th {\n",
       "        vertical-align: top;\n",
       "    }\n",
       "\n",
       "    .dataframe thead th {\n",
       "        text-align: right;\n",
       "    }\n",
       "</style>\n",
       "<table border=\"1\" class=\"dataframe\">\n",
       "  <thead>\n",
       "    <tr style=\"text-align: right;\">\n",
       "      <th></th>\n",
       "      <th>arc_range</th>\n",
       "      <th>distance_mi</th>\n",
       "      <th>zone</th>\n",
       "      <th>UOM_flag</th>\n",
       "      <th>hours_till_CPT</th>\n",
       "      <th>is_after_CPT</th>\n",
       "      <th>adj_TNT</th>\n",
       "      <th>nextadj_tnt</th>\n",
       "      <th>std_v0</th>\n",
       "      <th>ship_dow_0</th>\n",
       "      <th>...</th>\n",
       "      <th>customer_zip</th>\n",
       "      <th>route_id</th>\n",
       "      <th>fulfillment_center_state</th>\n",
       "      <th>fulfillment_center_type</th>\n",
       "      <th>holiday_flag_before_holiday</th>\n",
       "      <th>holiday_flag_holiday</th>\n",
       "      <th>holiday_flag_regular</th>\n",
       "      <th>ship_fri_sat_tag_friday</th>\n",
       "      <th>ship_fri_sat_tag_regular</th>\n",
       "      <th>ship_fri_sat_tag_saturday</th>\n",
       "    </tr>\n",
       "  </thead>\n",
       "  <tbody>\n",
       "    <tr>\n",
       "      <th>0</th>\n",
       "      <td>1</td>\n",
       "      <td>140.836</td>\n",
       "      <td>2</td>\n",
       "      <td>0</td>\n",
       "      <td>18.64</td>\n",
       "      <td>0</td>\n",
       "      <td>1</td>\n",
       "      <td>2</td>\n",
       "      <td>1.0</td>\n",
       "      <td>0</td>\n",
       "      <td>...</td>\n",
       "      <td>14513</td>\n",
       "      <td>SYRA</td>\n",
       "      <td>PA</td>\n",
       "      <td>Gen1</td>\n",
       "      <td>False</td>\n",
       "      <td>False</td>\n",
       "      <td>True</td>\n",
       "      <td>False</td>\n",
       "      <td>True</td>\n",
       "      <td>False</td>\n",
       "    </tr>\n",
       "    <tr>\n",
       "      <th>1</th>\n",
       "      <td>2</td>\n",
       "      <td>278.757</td>\n",
       "      <td>3</td>\n",
       "      <td>0</td>\n",
       "      <td>23.17</td>\n",
       "      <td>1</td>\n",
       "      <td>1</td>\n",
       "      <td>2</td>\n",
       "      <td>2.0</td>\n",
       "      <td>0</td>\n",
       "      <td>...</td>\n",
       "      <td>02536</td>\n",
       "      <td>HART</td>\n",
       "      <td>PA</td>\n",
       "      <td>Gen1</td>\n",
       "      <td>False</td>\n",
       "      <td>False</td>\n",
       "      <td>True</td>\n",
       "      <td>False</td>\n",
       "      <td>True</td>\n",
       "      <td>False</td>\n",
       "    </tr>\n",
       "    <tr>\n",
       "      <th>2</th>\n",
       "      <td>4</td>\n",
       "      <td>1108.956</td>\n",
       "      <td>6</td>\n",
       "      <td>0</td>\n",
       "      <td>18.54</td>\n",
       "      <td>0</td>\n",
       "      <td>2</td>\n",
       "      <td>3</td>\n",
       "      <td>2.0</td>\n",
       "      <td>0</td>\n",
       "      <td>...</td>\n",
       "      <td>33177</td>\n",
       "      <td>HRBG_M</td>\n",
       "      <td>PA</td>\n",
       "      <td>Gen1</td>\n",
       "      <td>False</td>\n",
       "      <td>False</td>\n",
       "      <td>True</td>\n",
       "      <td>False</td>\n",
       "      <td>True</td>\n",
       "      <td>False</td>\n",
       "    </tr>\n",
       "    <tr>\n",
       "      <th>3</th>\n",
       "      <td>1</td>\n",
       "      <td>187.282</td>\n",
       "      <td>3</td>\n",
       "      <td>0</td>\n",
       "      <td>1.06</td>\n",
       "      <td>0</td>\n",
       "      <td>1</td>\n",
       "      <td>2</td>\n",
       "      <td>1.0</td>\n",
       "      <td>0</td>\n",
       "      <td>...</td>\n",
       "      <td>20109</td>\n",
       "      <td>HAGE</td>\n",
       "      <td>PA</td>\n",
       "      <td>Gen1</td>\n",
       "      <td>False</td>\n",
       "      <td>False</td>\n",
       "      <td>True</td>\n",
       "      <td>True</td>\n",
       "      <td>False</td>\n",
       "      <td>False</td>\n",
       "    </tr>\n",
       "    <tr>\n",
       "      <th>4</th>\n",
       "      <td>2</td>\n",
       "      <td>266.020</td>\n",
       "      <td>3</td>\n",
       "      <td>0</td>\n",
       "      <td>16.04</td>\n",
       "      <td>0</td>\n",
       "      <td>1</td>\n",
       "      <td>2</td>\n",
       "      <td>1.0</td>\n",
       "      <td>0</td>\n",
       "      <td>...</td>\n",
       "      <td>02370</td>\n",
       "      <td>HART</td>\n",
       "      <td>PA</td>\n",
       "      <td>Gen1</td>\n",
       "      <td>False</td>\n",
       "      <td>False</td>\n",
       "      <td>True</td>\n",
       "      <td>True</td>\n",
       "      <td>False</td>\n",
       "      <td>False</td>\n",
       "    </tr>\n",
       "  </tbody>\n",
       "</table>\n",
       "<p>5 rows × 27 columns</p>\n",
       "</div>"
      ],
      "text/plain": [
       "   arc_range  distance_mi  zone  UOM_flag  hours_till_CPT  is_after_CPT  \\\n",
       "0          1      140.836     2         0           18.64             0   \n",
       "1          2      278.757     3         0           23.17             1   \n",
       "2          4     1108.956     6         0           18.54             0   \n",
       "3          1      187.282     3         0            1.06             0   \n",
       "4          2      266.020     3         0           16.04             0   \n",
       "\n",
       "   adj_TNT  nextadj_tnt  std_v0  ship_dow_0  ...  customer_zip  route_id  \\\n",
       "0        1            2     1.0           0  ...         14513      SYRA   \n",
       "1        1            2     2.0           0  ...         02536      HART   \n",
       "2        2            3     2.0           0  ...         33177    HRBG_M   \n",
       "3        1            2     1.0           0  ...         20109      HAGE   \n",
       "4        1            2     1.0           0  ...         02370      HART   \n",
       "\n",
       "   fulfillment_center_state  fulfillment_center_type  \\\n",
       "0                        PA                     Gen1   \n",
       "1                        PA                     Gen1   \n",
       "2                        PA                     Gen1   \n",
       "3                        PA                     Gen1   \n",
       "4                        PA                     Gen1   \n",
       "\n",
       "   holiday_flag_before_holiday  holiday_flag_holiday holiday_flag_regular  \\\n",
       "0                        False                 False                 True   \n",
       "1                        False                 False                 True   \n",
       "2                        False                 False                 True   \n",
       "3                        False                 False                 True   \n",
       "4                        False                 False                 True   \n",
       "\n",
       "  ship_fri_sat_tag_friday ship_fri_sat_tag_regular ship_fri_sat_tag_saturday  \n",
       "0                   False                     True                     False  \n",
       "1                   False                     True                     False  \n",
       "2                   False                     True                     False  \n",
       "3                    True                    False                     False  \n",
       "4                    True                    False                     False  \n",
       "\n",
       "[5 rows x 27 columns]"
      ]
     },
     "execution_count": 8,
     "metadata": {},
     "output_type": "execute_result"
    }
   ],
   "source": [
    "X_train.head()"
   ]
  },
  {
   "cell_type": "code",
   "execution_count": 9,
   "id": "de351fd6-5b24-4288-b3e2-4fcda2d07db2",
   "metadata": {
    "tags": []
   },
   "outputs": [
    {
     "data": {
      "text/html": [
       "<style>#sk-container-id-1 {color: black;}#sk-container-id-1 pre{padding: 0;}#sk-container-id-1 div.sk-toggleable {background-color: white;}#sk-container-id-1 label.sk-toggleable__label {cursor: pointer;display: block;width: 100%;margin-bottom: 0;padding: 0.3em;box-sizing: border-box;text-align: center;}#sk-container-id-1 label.sk-toggleable__label-arrow:before {content: \"▸\";float: left;margin-right: 0.25em;color: #696969;}#sk-container-id-1 label.sk-toggleable__label-arrow:hover:before {color: black;}#sk-container-id-1 div.sk-estimator:hover label.sk-toggleable__label-arrow:before {color: black;}#sk-container-id-1 div.sk-toggleable__content {max-height: 0;max-width: 0;overflow: hidden;text-align: left;background-color: #f0f8ff;}#sk-container-id-1 div.sk-toggleable__content pre {margin: 0.2em;color: black;border-radius: 0.25em;background-color: #f0f8ff;}#sk-container-id-1 input.sk-toggleable__control:checked~div.sk-toggleable__content {max-height: 200px;max-width: 100%;overflow: auto;}#sk-container-id-1 input.sk-toggleable__control:checked~label.sk-toggleable__label-arrow:before {content: \"▾\";}#sk-container-id-1 div.sk-estimator input.sk-toggleable__control:checked~label.sk-toggleable__label {background-color: #d4ebff;}#sk-container-id-1 div.sk-label input.sk-toggleable__control:checked~label.sk-toggleable__label {background-color: #d4ebff;}#sk-container-id-1 input.sk-hidden--visually {border: 0;clip: rect(1px 1px 1px 1px);clip: rect(1px, 1px, 1px, 1px);height: 1px;margin: -1px;overflow: hidden;padding: 0;position: absolute;width: 1px;}#sk-container-id-1 div.sk-estimator {font-family: monospace;background-color: #f0f8ff;border: 1px dotted black;border-radius: 0.25em;box-sizing: border-box;margin-bottom: 0.5em;}#sk-container-id-1 div.sk-estimator:hover {background-color: #d4ebff;}#sk-container-id-1 div.sk-parallel-item::after {content: \"\";width: 100%;border-bottom: 1px solid gray;flex-grow: 1;}#sk-container-id-1 div.sk-label:hover label.sk-toggleable__label {background-color: #d4ebff;}#sk-container-id-1 div.sk-serial::before {content: \"\";position: absolute;border-left: 1px solid gray;box-sizing: border-box;top: 0;bottom: 0;left: 50%;z-index: 0;}#sk-container-id-1 div.sk-serial {display: flex;flex-direction: column;align-items: center;background-color: white;padding-right: 0.2em;padding-left: 0.2em;position: relative;}#sk-container-id-1 div.sk-item {position: relative;z-index: 1;}#sk-container-id-1 div.sk-parallel {display: flex;align-items: stretch;justify-content: center;background-color: white;position: relative;}#sk-container-id-1 div.sk-item::before, #sk-container-id-1 div.sk-parallel-item::before {content: \"\";position: absolute;border-left: 1px solid gray;box-sizing: border-box;top: 0;bottom: 0;left: 50%;z-index: -1;}#sk-container-id-1 div.sk-parallel-item {display: flex;flex-direction: column;z-index: 1;position: relative;background-color: white;}#sk-container-id-1 div.sk-parallel-item:first-child::after {align-self: flex-end;width: 50%;}#sk-container-id-1 div.sk-parallel-item:last-child::after {align-self: flex-start;width: 50%;}#sk-container-id-1 div.sk-parallel-item:only-child::after {width: 0;}#sk-container-id-1 div.sk-dashed-wrapped {border: 1px dashed gray;margin: 0 0.4em 0.5em 0.4em;box-sizing: border-box;padding-bottom: 0.4em;background-color: white;}#sk-container-id-1 div.sk-label label {font-family: monospace;font-weight: bold;display: inline-block;line-height: 1.2em;}#sk-container-id-1 div.sk-label-container {text-align: center;}#sk-container-id-1 div.sk-container {/* jupyter's `normalize.less` sets `[hidden] { display: none; }` but bootstrap.min.css set `[hidden] { display: none !important; }` so we also need the `!important` here to be able to override the default hidden behavior on the sphinx rendered scikit-learn.org. See: https://github.com/scikit-learn/scikit-learn/issues/21755 */display: inline-block !important;position: relative;}#sk-container-id-1 div.sk-text-repr-fallback {display: none;}</style><div id=\"sk-container-id-1\" class=\"sk-top-container\"><div class=\"sk-text-repr-fallback\"><pre>XGBRegressor(base_score=None, booster=None, callbacks=None,\n",
       "             colsample_bylevel=None, colsample_bynode=None,\n",
       "             colsample_bytree=None, device=None, early_stopping_rounds=None,\n",
       "             enable_categorical=False, eval_metric=None, feature_types=None,\n",
       "             gamma=None, grow_policy=None, importance_type=None,\n",
       "             interaction_constraints=None, learning_rate=None, max_bin=None,\n",
       "             max_cat_threshold=None, max_cat_to_onehot=None,\n",
       "             max_delta_step=None, max_depth=None, max_leaves=None,\n",
       "             min_child_weight=None, missing=nan, monotone_constraints=None,\n",
       "             multi_strategy=None, n_estimators=None, n_jobs=None,\n",
       "             num_parallel_tree=None, random_state=None, ...)</pre><b>In a Jupyter environment, please rerun this cell to show the HTML representation or trust the notebook. <br />On GitHub, the HTML representation is unable to render, please try loading this page with nbviewer.org.</b></div><div class=\"sk-container\" hidden><div class=\"sk-item\"><div class=\"sk-estimator sk-toggleable\"><input class=\"sk-toggleable__control sk-hidden--visually\" id=\"sk-estimator-id-1\" type=\"checkbox\" checked><label for=\"sk-estimator-id-1\" class=\"sk-toggleable__label sk-toggleable__label-arrow\">XGBRegressor</label><div class=\"sk-toggleable__content\"><pre>XGBRegressor(base_score=None, booster=None, callbacks=None,\n",
       "             colsample_bylevel=None, colsample_bynode=None,\n",
       "             colsample_bytree=None, device=None, early_stopping_rounds=None,\n",
       "             enable_categorical=False, eval_metric=None, feature_types=None,\n",
       "             gamma=None, grow_policy=None, importance_type=None,\n",
       "             interaction_constraints=None, learning_rate=None, max_bin=None,\n",
       "             max_cat_threshold=None, max_cat_to_onehot=None,\n",
       "             max_delta_step=None, max_depth=None, max_leaves=None,\n",
       "             min_child_weight=None, missing=nan, monotone_constraints=None,\n",
       "             multi_strategy=None, n_estimators=None, n_jobs=None,\n",
       "             num_parallel_tree=None, random_state=None, ...)</pre></div></div></div></div></div>"
      ],
      "text/plain": [
       "XGBRegressor(base_score=None, booster=None, callbacks=None,\n",
       "             colsample_bylevel=None, colsample_bynode=None,\n",
       "             colsample_bytree=None, device=None, early_stopping_rounds=None,\n",
       "             enable_categorical=False, eval_metric=None, feature_types=None,\n",
       "             gamma=None, grow_policy=None, importance_type=None,\n",
       "             interaction_constraints=None, learning_rate=None, max_bin=None,\n",
       "             max_cat_threshold=None, max_cat_to_onehot=None,\n",
       "             max_delta_step=None, max_depth=None, max_leaves=None,\n",
       "             min_child_weight=None, missing=nan, monotone_constraints=None,\n",
       "             multi_strategy=None, n_estimators=None, n_jobs=None,\n",
       "             num_parallel_tree=None, random_state=None, ...)"
      ]
     },
     "execution_count": 9,
     "metadata": {},
     "output_type": "execute_result"
    }
   ],
   "source": [
    "drop_features_model_1 = ['order_id', 'customer_zip', 'route_id', 'std_v0',\n",
    "                         'fulfillment_center_state', 'fulfillment_center_type']\n",
    "X_train_val = X_train_val.drop(drop_features_model_1,\n",
    "                               axis = 1)\n",
    "X_test = X_test.drop(drop_features_model_1,\n",
    "                     axis = 1)\n",
    "\n",
    "# Regression\n",
    "model_x = xgb.XGBRegressor(\n",
    "                    objective='reg:squarederror')\n",
    "\n",
    "model_x.fit(X_train_val, y_train_val)"
   ]
  },
  {
   "cell_type": "code",
   "execution_count": 10,
   "id": "b37b5f3c-70af-46c3-93e2-985d61c25714",
   "metadata": {
    "tags": []
   },
   "outputs": [],
   "source": [
    "# Make predictions on training and validation datasets\n",
    "# y_train_pred = model_x.predict(X_train)\n",
    "# y_val_pred = model_x.predict(X_val)\n",
    "y_train_val_pred = model_x.predict(X_train_val)\n",
    "y_test_pred = model_x.predict(X_test)"
   ]
  },
  {
   "cell_type": "code",
   "execution_count": 11,
   "id": "3d6749bd-0908-44dc-b3fb-7d8e496ba7e9",
   "metadata": {
    "tags": []
   },
   "outputs": [
    {
     "name": "stdout",
     "output_type": "stream",
     "text": [
      "Accuracy: 0.7895\n",
      "Accuracy: 0.7626\n"
     ]
    }
   ],
   "source": [
    "#accuracy = accuracy_score(y_train, np.round(y_train_pred))\n",
    "#print(f\"Accuracy: {accuracy:.4f}\")\n",
    "\n",
    "#accuracy = accuracy_score(y_val, np.round(y_val_pred))\n",
    "#print(f\"Accuracy: {accuracy:.4f}\")\n",
    "\n",
    "accuracy = accuracy_score(y_train_val, np.round(y_train_val_pred))\n",
    "print(f\"Accuracy: {accuracy:.4f}\")\n",
    "\n",
    "accuracy = accuracy_score(y_test, np.round(y_test_pred))\n",
    "print(f\"Accuracy: {accuracy:.4f}\")"
   ]
  },
  {
   "cell_type": "code",
   "execution_count": 12,
   "id": "02005751-412c-4945-b606-560758027def",
   "metadata": {
    "tags": []
   },
   "outputs": [
    {
     "name": "stdout",
     "output_type": "stream",
     "text": [
      "MAPE: 0.9728\n",
      "MAPE: 1.0020\n"
     ]
    }
   ],
   "source": [
    "# the value when some element of the y_true is zero is arbitrarily high because\n",
    "# of the division by epsilon\n",
    "\n",
    "# mape = mean_absolute_percentage_error(y_train+0.01, y_train_pred+0.01)\n",
    "# print(f\"MAPE: {mape:.4f}\")\n",
    "\n",
    "# mape = mean_absolute_percentage_error(y_val+0.01, y_val_pred+0.01)\n",
    "# print(f\"MAPE: {mape:.4f}\")\n",
    "\n",
    "mape = mean_absolute_percentage_error(y_train_val+0.01, y_train_val_pred+0.01)\n",
    "print(f\"MAPE: {mape:.4f}\")\n",
    "\n",
    "mape = mean_absolute_percentage_error(y_test+0.01, y_test_pred+0.01)\n",
    "print(f\"MAPE: {mape:.4f}\")"
   ]
  },
  {
   "cell_type": "code",
   "execution_count": 13,
   "id": "e2104eeb-bb1d-4deb-8b37-f1b49b07883c",
   "metadata": {
    "tags": []
   },
   "outputs": [
    {
     "name": "stdout",
     "output_type": "stream",
     "text": [
      "                         feature  importance\n",
      "1                   distance_mi      1533.0\n",
      "4                hours_till_CPT      1464.0\n",
      "6                       adj_TNT       581.0\n",
      "7                   nextadj_tnt       574.0\n",
      "2                          zone       394.0\n",
      "5                  is_after_CPT       262.0\n",
      "14                   ship_dow_6       227.0\n",
      "13                   ship_dow_5       201.0\n",
      "3                      UOM_flag       168.0\n",
      "9                    ship_dow_1       136.0\n",
      "8                    ship_dow_0       129.0\n",
      "18     ship_fri_sat_tag_regular       119.0\n",
      "12                   ship_dow_4        96.0\n",
      "10                   ship_dow_2        84.0\n",
      "15  holiday_flag_before_holiday        77.0\n",
      "0                     arc_range        67.0\n",
      "11                   ship_dow_3        64.0\n",
      "17         holiday_flag_regular        37.0\n",
      "16         holiday_flag_holiday        24.0\n"
     ]
    }
   ],
   "source": [
    "xgb_fea_imp = pd.DataFrame(list(model_x.get_booster().get_fscore().items()),\n",
    "columns = ['feature','importance']).sort_values('importance', ascending=False)\n",
    "print('', xgb_fea_imp)"
   ]
  },
  {
   "cell_type": "markdown",
   "id": "4db66829-120c-4653-9ba3-b79765f119b6",
   "metadata": {},
   "source": [
    "### Ensemble Model"
   ]
  },
  {
   "cell_type": "code",
   "execution_count": 14,
   "id": "e07399ae-be7f-443e-b8b6-c63b7364a580",
   "metadata": {
    "tags": []
   },
   "outputs": [
    {
     "data": {
      "text/html": [
       "<div>\n",
       "<style scoped>\n",
       "    .dataframe tbody tr th:only-of-type {\n",
       "        vertical-align: middle;\n",
       "    }\n",
       "\n",
       "    .dataframe tbody tr th {\n",
       "        vertical-align: top;\n",
       "    }\n",
       "\n",
       "    .dataframe thead th {\n",
       "        text-align: right;\n",
       "    }\n",
       "</style>\n",
       "<table border=\"1\" class=\"dataframe\">\n",
       "  <thead>\n",
       "    <tr style=\"text-align: right;\">\n",
       "      <th></th>\n",
       "      <th>zip</th>\n",
       "      <th>state_id</th>\n",
       "    </tr>\n",
       "  </thead>\n",
       "  <tbody>\n",
       "    <tr>\n",
       "      <th>0</th>\n",
       "      <td>00601</td>\n",
       "      <td>PR</td>\n",
       "    </tr>\n",
       "    <tr>\n",
       "      <th>1</th>\n",
       "      <td>00602</td>\n",
       "      <td>PR</td>\n",
       "    </tr>\n",
       "    <tr>\n",
       "      <th>2</th>\n",
       "      <td>00603</td>\n",
       "      <td>PR</td>\n",
       "    </tr>\n",
       "    <tr>\n",
       "      <th>3</th>\n",
       "      <td>00606</td>\n",
       "      <td>PR</td>\n",
       "    </tr>\n",
       "    <tr>\n",
       "      <th>4</th>\n",
       "      <td>00610</td>\n",
       "      <td>PR</td>\n",
       "    </tr>\n",
       "    <tr>\n",
       "      <th>...</th>\n",
       "      <td>...</td>\n",
       "      <td>...</td>\n",
       "    </tr>\n",
       "    <tr>\n",
       "      <th>33783</th>\n",
       "      <td>99923</td>\n",
       "      <td>AK</td>\n",
       "    </tr>\n",
       "    <tr>\n",
       "      <th>33784</th>\n",
       "      <td>99925</td>\n",
       "      <td>AK</td>\n",
       "    </tr>\n",
       "    <tr>\n",
       "      <th>33785</th>\n",
       "      <td>99926</td>\n",
       "      <td>AK</td>\n",
       "    </tr>\n",
       "    <tr>\n",
       "      <th>33786</th>\n",
       "      <td>99927</td>\n",
       "      <td>AK</td>\n",
       "    </tr>\n",
       "    <tr>\n",
       "      <th>33787</th>\n",
       "      <td>99929</td>\n",
       "      <td>AK</td>\n",
       "    </tr>\n",
       "  </tbody>\n",
       "</table>\n",
       "<p>33788 rows × 2 columns</p>\n",
       "</div>"
      ],
      "text/plain": [
       "         zip state_id\n",
       "0      00601       PR\n",
       "1      00602       PR\n",
       "2      00603       PR\n",
       "3      00606       PR\n",
       "4      00610       PR\n",
       "...      ...      ...\n",
       "33783  99923       AK\n",
       "33784  99925       AK\n",
       "33785  99926       AK\n",
       "33786  99927       AK\n",
       "33787  99929       AK\n",
       "\n",
       "[33788 rows x 2 columns]"
      ]
     },
     "execution_count": 14,
     "metadata": {},
     "output_type": "execute_result"
    }
   ],
   "source": [
    "uszips = pd.read_excel('s3://ogunes-promise/EDD/geolocation/uszips.xlsx')\n",
    "uszips = uszips[['zip', 'state_id']]\n",
    "uszips.zip = uszips.zip.astype(str).str.pad(5,fillchar='0')\n",
    "uszips"
   ]
  },
  {
   "cell_type": "code",
   "execution_count": 15,
   "id": "cd357a46-552e-4b7b-b842-6ef1f9c5d655",
   "metadata": {
    "tags": []
   },
   "outputs": [
    {
     "data": {
      "text/plain": [
       "arc_range                        int32\n",
       "distance_mi                    float64\n",
       "zone                             int64\n",
       "UOM_flag                         int32\n",
       "hours_till_CPT                 float64\n",
       "is_after_CPT                     int32\n",
       "adj_TNT                          int64\n",
       "nextadj_tnt                      int64\n",
       "std_v0                         float64\n",
       "ship_dow_0                       int32\n",
       "ship_dow_1                       int32\n",
       "ship_dow_2                       int32\n",
       "ship_dow_3                       int32\n",
       "ship_dow_4                       int32\n",
       "ship_dow_5                       int32\n",
       "ship_dow_6                       int32\n",
       "order_id                        object\n",
       "customer_zip                    object\n",
       "route_id                        object\n",
       "fulfillment_center_state        object\n",
       "fulfillment_center_type         object\n",
       "std_actual                       int32\n",
       "holiday_flag_before_holiday       bool\n",
       "holiday_flag_holiday              bool\n",
       "holiday_flag_regular              bool\n",
       "ship_fri_sat_tag_friday           bool\n",
       "ship_fri_sat_tag_regular          bool\n",
       "ship_fri_sat_tag_saturday         bool\n",
       "dtype: object"
      ]
     },
     "execution_count": 15,
     "metadata": {},
     "output_type": "execute_result"
    }
   ],
   "source": [
    "df_train_x.dtypes"
   ]
  },
  {
   "cell_type": "code",
   "execution_count": 26,
   "id": "b6a8b7c1-18a4-458f-be79-6f735646a77f",
   "metadata": {
    "tags": []
   },
   "outputs": [],
   "source": [
    "ensemble_X_train_val = pd.concat(\n",
    "    [df_train_x[['order_id', 'customer_zip', 'distance_mi', 'std_v0',\n",
    "                 'ship_fri_sat_tag_friday', 'ship_fri_sat_tag_regular', 'ship_fri_sat_tag_saturday',\n",
    "                 'holiday_flag_before_holiday', 'holiday_flag_holiday', 'holiday_flag_regular',\n",
    "                 'ship_dow_0', 'ship_dow_1', 'ship_dow_2',\n",
    "                 'ship_dow_3', 'ship_dow_4', 'ship_dow_5', 'ship_dow_6']],\n",
    "     df_val_x[['order_id', 'customer_zip', 'distance_mi', 'std_v0',\n",
    "               'ship_fri_sat_tag_friday', 'ship_fri_sat_tag_regular', 'ship_fri_sat_tag_saturday',\n",
    "               'holiday_flag_before_holiday', 'holiday_flag_holiday', 'holiday_flag_regular',\n",
    "               'ship_dow_0', 'ship_dow_1', 'ship_dow_2',\n",
    "               'ship_dow_3', 'ship_dow_4', 'ship_dow_5', 'ship_dow_6']]],\n",
    "    axis=0).reset_index(drop=True)\n",
    "ensemble_X_train_val['ml_model'] = np.round(y_train_val_pred)\n",
    "\n",
    "ensemble_X_test = df_test_x[['order_id', 'customer_zip', 'distance_mi', 'std_v0',\n",
    "                             'ship_fri_sat_tag_friday', 'ship_fri_sat_tag_regular', 'ship_fri_sat_tag_saturday',\n",
    "                             'holiday_flag_before_holiday', 'holiday_flag_holiday', 'holiday_flag_regular',\n",
    "                             'ship_dow_0', 'ship_dow_1', 'ship_dow_2',\n",
    "                             'ship_dow_3', 'ship_dow_4', 'ship_dow_5','ship_dow_6'\n",
    "                            ]].reset_index(drop=True)\n",
    "ensemble_X_test['ml_model'] = np.round(y_test_pred)"
   ]
  },
  {
   "cell_type": "code",
   "execution_count": 27,
   "id": "e7ad2414-6a32-4a03-be20-f64c36c8df9f",
   "metadata": {
    "tags": []
   },
   "outputs": [],
   "source": [
    "ensemble_X_train_val = ensemble_X_train_val\\\n",
    "                            .merge(uszips,\n",
    "                                   left_on='customer_zip',\n",
    "                                   right_on='zip',\n",
    "                                   how='left')\n",
    "ensemble_X_train_val = ensemble_X_train_val\\\n",
    "                            .drop(['customer_zip', 'zip'], \n",
    "                                  axis=1)\n",
    "\n",
    "ensemble_X_test = ensemble_X_test\\\n",
    "                            .merge(uszips,\n",
    "                                   left_on='customer_zip',\n",
    "                                   right_on='zip',\n",
    "                                   how='left')\n",
    "ensemble_X_test = ensemble_X_test\\\n",
    "                            .drop(['customer_zip', 'zip'], \n",
    "                                  axis=1)"
   ]
  },
  {
   "cell_type": "code",
   "execution_count": 28,
   "id": "e10f5f5a-5b96-4276-8492-0e8edc8a315d",
   "metadata": {
    "tags": []
   },
   "outputs": [],
   "source": [
    "ensemble_X_train_val.loc[ensemble_X_train_val.state_id.isnull(), \n",
    "                         'state_id'] = 'NA'\n",
    "\n",
    "ensemble_X_test.loc[ensemble_X_test.state_id.isnull(), \n",
    "                         'state_id'] = 'NA'"
   ]
  },
  {
   "cell_type": "code",
   "execution_count": 29,
   "id": "a193393f-b1dd-4bc2-a48a-bc1bc3e84604",
   "metadata": {
    "tags": []
   },
   "outputs": [],
   "source": [
    "ensemble_X_train_val[\"state_id\"] = ensemble_X_train_val[\"state_id\"].astype(\"category\")\n",
    "ensemble_X_test[\"state_id\"] = ensemble_X_test[\"state_id\"].astype(\"category\")"
   ]
  },
  {
   "cell_type": "code",
   "execution_count": 30,
   "id": "e0ccc010-a119-4ac2-8421-f89f4bfb42b2",
   "metadata": {
    "tags": []
   },
   "outputs": [
    {
     "data": {
      "text/plain": [
       "order_id                         object\n",
       "distance_mi                     float64\n",
       "std_v0                          float64\n",
       "ship_fri_sat_tag_friday            bool\n",
       "ship_fri_sat_tag_regular           bool\n",
       "ship_fri_sat_tag_saturday          bool\n",
       "holiday_flag_before_holiday        bool\n",
       "holiday_flag_holiday               bool\n",
       "holiday_flag_regular               bool\n",
       "ship_dow_0                        int32\n",
       "ship_dow_1                        int32\n",
       "ship_dow_2                        int32\n",
       "ship_dow_3                        int32\n",
       "ship_dow_4                        int32\n",
       "ship_dow_5                        int32\n",
       "ship_dow_6                        int32\n",
       "ml_model                        float32\n",
       "state_id                       category\n",
       "dtype: object"
      ]
     },
     "execution_count": 30,
     "metadata": {},
     "output_type": "execute_result"
    }
   ],
   "source": [
    "ensemble_X_train_val.dtypes"
   ]
  },
  {
   "cell_type": "code",
   "execution_count": 31,
   "id": "fb9a49f1-2bf3-453e-896f-00a049e13771",
   "metadata": {
    "tags": []
   },
   "outputs": [
    {
     "data": {
      "text/html": [
       "<style>#sk-container-id-3 {color: black;}#sk-container-id-3 pre{padding: 0;}#sk-container-id-3 div.sk-toggleable {background-color: white;}#sk-container-id-3 label.sk-toggleable__label {cursor: pointer;display: block;width: 100%;margin-bottom: 0;padding: 0.3em;box-sizing: border-box;text-align: center;}#sk-container-id-3 label.sk-toggleable__label-arrow:before {content: \"▸\";float: left;margin-right: 0.25em;color: #696969;}#sk-container-id-3 label.sk-toggleable__label-arrow:hover:before {color: black;}#sk-container-id-3 div.sk-estimator:hover label.sk-toggleable__label-arrow:before {color: black;}#sk-container-id-3 div.sk-toggleable__content {max-height: 0;max-width: 0;overflow: hidden;text-align: left;background-color: #f0f8ff;}#sk-container-id-3 div.sk-toggleable__content pre {margin: 0.2em;color: black;border-radius: 0.25em;background-color: #f0f8ff;}#sk-container-id-3 input.sk-toggleable__control:checked~div.sk-toggleable__content {max-height: 200px;max-width: 100%;overflow: auto;}#sk-container-id-3 input.sk-toggleable__control:checked~label.sk-toggleable__label-arrow:before {content: \"▾\";}#sk-container-id-3 div.sk-estimator input.sk-toggleable__control:checked~label.sk-toggleable__label {background-color: #d4ebff;}#sk-container-id-3 div.sk-label input.sk-toggleable__control:checked~label.sk-toggleable__label {background-color: #d4ebff;}#sk-container-id-3 input.sk-hidden--visually {border: 0;clip: rect(1px 1px 1px 1px);clip: rect(1px, 1px, 1px, 1px);height: 1px;margin: -1px;overflow: hidden;padding: 0;position: absolute;width: 1px;}#sk-container-id-3 div.sk-estimator {font-family: monospace;background-color: #f0f8ff;border: 1px dotted black;border-radius: 0.25em;box-sizing: border-box;margin-bottom: 0.5em;}#sk-container-id-3 div.sk-estimator:hover {background-color: #d4ebff;}#sk-container-id-3 div.sk-parallel-item::after {content: \"\";width: 100%;border-bottom: 1px solid gray;flex-grow: 1;}#sk-container-id-3 div.sk-label:hover label.sk-toggleable__label {background-color: #d4ebff;}#sk-container-id-3 div.sk-serial::before {content: \"\";position: absolute;border-left: 1px solid gray;box-sizing: border-box;top: 0;bottom: 0;left: 50%;z-index: 0;}#sk-container-id-3 div.sk-serial {display: flex;flex-direction: column;align-items: center;background-color: white;padding-right: 0.2em;padding-left: 0.2em;position: relative;}#sk-container-id-3 div.sk-item {position: relative;z-index: 1;}#sk-container-id-3 div.sk-parallel {display: flex;align-items: stretch;justify-content: center;background-color: white;position: relative;}#sk-container-id-3 div.sk-item::before, #sk-container-id-3 div.sk-parallel-item::before {content: \"\";position: absolute;border-left: 1px solid gray;box-sizing: border-box;top: 0;bottom: 0;left: 50%;z-index: -1;}#sk-container-id-3 div.sk-parallel-item {display: flex;flex-direction: column;z-index: 1;position: relative;background-color: white;}#sk-container-id-3 div.sk-parallel-item:first-child::after {align-self: flex-end;width: 50%;}#sk-container-id-3 div.sk-parallel-item:last-child::after {align-self: flex-start;width: 50%;}#sk-container-id-3 div.sk-parallel-item:only-child::after {width: 0;}#sk-container-id-3 div.sk-dashed-wrapped {border: 1px dashed gray;margin: 0 0.4em 0.5em 0.4em;box-sizing: border-box;padding-bottom: 0.4em;background-color: white;}#sk-container-id-3 div.sk-label label {font-family: monospace;font-weight: bold;display: inline-block;line-height: 1.2em;}#sk-container-id-3 div.sk-label-container {text-align: center;}#sk-container-id-3 div.sk-container {/* jupyter's `normalize.less` sets `[hidden] { display: none; }` but bootstrap.min.css set `[hidden] { display: none !important; }` so we also need the `!important` here to be able to override the default hidden behavior on the sphinx rendered scikit-learn.org. See: https://github.com/scikit-learn/scikit-learn/issues/21755 */display: inline-block !important;position: relative;}#sk-container-id-3 div.sk-text-repr-fallback {display: none;}</style><div id=\"sk-container-id-3\" class=\"sk-top-container\"><div class=\"sk-text-repr-fallback\"><pre>XGBRegressor(base_score=None, booster=None, callbacks=None,\n",
       "             colsample_bylevel=None, colsample_bynode=None,\n",
       "             colsample_bytree=None, device=None, early_stopping_rounds=None,\n",
       "             enable_categorical=True, eval_metric=None, feature_types=None,\n",
       "             gamma=None, grow_policy=None, importance_type=None,\n",
       "             interaction_constraints=None, learning_rate=None, max_bin=None,\n",
       "             max_cat_threshold=None, max_cat_to_onehot=None,\n",
       "             max_delta_step=None, max_depth=None, max_leaves=None,\n",
       "             min_child_weight=None, missing=nan, monotone_constraints=None,\n",
       "             multi_strategy=None, n_estimators=None, n_jobs=None,\n",
       "             num_parallel_tree=None, random_state=None, ...)</pre><b>In a Jupyter environment, please rerun this cell to show the HTML representation or trust the notebook. <br />On GitHub, the HTML representation is unable to render, please try loading this page with nbviewer.org.</b></div><div class=\"sk-container\" hidden><div class=\"sk-item\"><div class=\"sk-estimator sk-toggleable\"><input class=\"sk-toggleable__control sk-hidden--visually\" id=\"sk-estimator-id-3\" type=\"checkbox\" checked><label for=\"sk-estimator-id-3\" class=\"sk-toggleable__label sk-toggleable__label-arrow\">XGBRegressor</label><div class=\"sk-toggleable__content\"><pre>XGBRegressor(base_score=None, booster=None, callbacks=None,\n",
       "             colsample_bylevel=None, colsample_bynode=None,\n",
       "             colsample_bytree=None, device=None, early_stopping_rounds=None,\n",
       "             enable_categorical=True, eval_metric=None, feature_types=None,\n",
       "             gamma=None, grow_policy=None, importance_type=None,\n",
       "             interaction_constraints=None, learning_rate=None, max_bin=None,\n",
       "             max_cat_threshold=None, max_cat_to_onehot=None,\n",
       "             max_delta_step=None, max_depth=None, max_leaves=None,\n",
       "             min_child_weight=None, missing=nan, monotone_constraints=None,\n",
       "             multi_strategy=None, n_estimators=None, n_jobs=None,\n",
       "             num_parallel_tree=None, random_state=None, ...)</pre></div></div></div></div></div>"
      ],
      "text/plain": [
       "XGBRegressor(base_score=None, booster=None, callbacks=None,\n",
       "             colsample_bylevel=None, colsample_bynode=None,\n",
       "             colsample_bytree=None, device=None, early_stopping_rounds=None,\n",
       "             enable_categorical=True, eval_metric=None, feature_types=None,\n",
       "             gamma=None, grow_policy=None, importance_type=None,\n",
       "             interaction_constraints=None, learning_rate=None, max_bin=None,\n",
       "             max_cat_threshold=None, max_cat_to_onehot=None,\n",
       "             max_delta_step=None, max_depth=None, max_leaves=None,\n",
       "             min_child_weight=None, missing=nan, monotone_constraints=None,\n",
       "             multi_strategy=None, n_estimators=None, n_jobs=None,\n",
       "             num_parallel_tree=None, random_state=None, ...)"
      ]
     },
     "execution_count": 31,
     "metadata": {},
     "output_type": "execute_result"
    }
   ],
   "source": [
    "# Regression\n",
    "model_y = xgb.XGBRegressor(\n",
    "                    objective='reg:squarederror',\n",
    "                    enable_categorical=True)\n",
    "\n",
    "model_y.fit(ensemble_X_train_val.drop('order_id', axis=1), y_train_val)"
   ]
  },
  {
   "cell_type": "code",
   "execution_count": 32,
   "id": "ede51b26-0321-43f4-8af2-2dcd39c75f20",
   "metadata": {
    "tags": []
   },
   "outputs": [],
   "source": [
    "# Make predictions on training and validation datasets\n",
    "y_train_val_ensemble_pred = model_y.predict(ensemble_X_train_val.drop('order_id', axis=1))\n",
    "y_test_ensemble_pred = model_y.predict(ensemble_X_test.drop('order_id', axis=1))"
   ]
  },
  {
   "cell_type": "code",
   "execution_count": 33,
   "id": "1413d2e0-190e-42b7-a627-7d1d00e9edf7",
   "metadata": {
    "tags": []
   },
   "outputs": [
    {
     "name": "stdout",
     "output_type": "stream",
     "text": [
      "Accuracy: 0.8398\n",
      "Accuracy: 0.8401\n"
     ]
    }
   ],
   "source": [
    "accuracy = accuracy_score(y_train_val, np.round(y_train_val_ensemble_pred))\n",
    "print(f\"Accuracy: {accuracy:.4f}\")\n",
    "\n",
    "accuracy = accuracy_score(y_test, np.round(y_test_ensemble_pred))\n",
    "print(f\"Accuracy: {accuracy:.4f}\")"
   ]
  },
  {
   "cell_type": "code",
   "execution_count": 34,
   "id": "b314e8d4-50a1-4bdb-a217-b6c9a11e69ed",
   "metadata": {
    "tags": []
   },
   "outputs": [
    {
     "name": "stdout",
     "output_type": "stream",
     "text": [
      "MAPE: 0.6431\n",
      "MAPE: 0.5483\n"
     ]
    }
   ],
   "source": [
    "mape = mean_absolute_percentage_error(y_train_val+0.01, y_train_val_ensemble_pred+0.01)\n",
    "print(f\"MAPE: {mape:.4f}\")\n",
    "\n",
    "mape = mean_absolute_percentage_error(y_test+0.01, y_test_ensemble_pred+0.01)\n",
    "print(f\"MAPE: {mape:.4f}\")"
   ]
  },
  {
   "cell_type": "code",
   "execution_count": 35,
   "id": "4c3cb4e8-6d83-4a4b-ba05-6ba4b51d4b41",
   "metadata": {
    "tags": []
   },
   "outputs": [
    {
     "name": "stdout",
     "output_type": "stream",
     "text": [
      "                         feature  importance\n",
      "14                     state_id      1931.0\n",
      "0                   distance_mi      1513.0\n",
      "1                        std_v0       901.0\n",
      "13                     ml_model       567.0\n",
      "2       ship_fri_sat_tag_friday       198.0\n",
      "4     ship_fri_sat_tag_saturday       180.0\n",
      "3      ship_fri_sat_tag_regular       114.0\n",
      "12                   ship_dow_4       106.0\n",
      "9                    ship_dow_1        98.0\n",
      "8                    ship_dow_0        92.0\n",
      "5   holiday_flag_before_holiday        85.0\n",
      "11                   ship_dow_3        84.0\n",
      "10                   ship_dow_2        69.0\n",
      "7          holiday_flag_regular        45.0\n",
      "6          holiday_flag_holiday        30.0\n"
     ]
    }
   ],
   "source": [
    "xgb_fea_imp = pd.DataFrame(list(model_y.get_booster().get_fscore().items()),\n",
    "columns = ['feature','importance']).sort_values('importance', ascending=False)\n",
    "print('', xgb_fea_imp)"
   ]
  },
  {
   "cell_type": "markdown",
   "id": "57e1ab12-eb55-478b-bf37-598d8feff803",
   "metadata": {},
   "source": [
    "#### Preds to report"
   ]
  },
  {
   "cell_type": "code",
   "execution_count": 36,
   "id": "8d9d156e-3d82-4519-a166-dad8e8ce5bf2",
   "metadata": {
    "tags": []
   },
   "outputs": [
    {
     "name": "stderr",
     "output_type": "stream",
     "text": [
      "/tmp/ipykernel_31034/376384269.py:2: SettingWithCopyWarning: \n",
      "A value is trying to be set on a copy of a slice from a DataFrame.\n",
      "Try using .loc[row_indexer,col_indexer] = value instead\n",
      "\n",
      "See the caveats in the documentation: https://pandas.pydata.org/pandas-docs/stable/user_guide/indexing.html#returning-a-view-versus-a-copy\n",
      "  train_val_ensemble_pred['ensemble_pred'] = y_train_val_ensemble_pred\n",
      "/tmp/ipykernel_31034/376384269.py:5: SettingWithCopyWarning: \n",
      "A value is trying to be set on a copy of a slice from a DataFrame.\n",
      "Try using .loc[row_indexer,col_indexer] = value instead\n",
      "\n",
      "See the caveats in the documentation: https://pandas.pydata.org/pandas-docs/stable/user_guide/indexing.html#returning-a-view-versus-a-copy\n",
      "  test_ensemble_pred['ensemble_pred'] = y_test_ensemble_pred\n"
     ]
    }
   ],
   "source": [
    "train_val_ensemble_pred = ensemble_X_train_val[['order_id']]\n",
    "train_val_ensemble_pred['ensemble_pred'] = y_train_val_ensemble_pred\n",
    "\n",
    "test_ensemble_pred = ensemble_X_test[['order_id']]\n",
    "test_ensemble_pred['ensemble_pred'] = y_test_ensemble_pred\n",
    "\n",
    "ensemble_pred = pd.concat([train_val_ensemble_pred, test_ensemble_pred], axis=0)"
   ]
  },
  {
   "cell_type": "code",
   "execution_count": 37,
   "id": "1a267954-0174-4b2d-b6c7-1195e818ca8f",
   "metadata": {
    "tags": []
   },
   "outputs": [
    {
     "data": {
      "text/html": [
       "<div>\n",
       "<style scoped>\n",
       "    .dataframe tbody tr th:only-of-type {\n",
       "        vertical-align: middle;\n",
       "    }\n",
       "\n",
       "    .dataframe tbody tr th {\n",
       "        vertical-align: top;\n",
       "    }\n",
       "\n",
       "    .dataframe thead th {\n",
       "        text-align: right;\n",
       "    }\n",
       "</style>\n",
       "<table border=\"1\" class=\"dataframe\">\n",
       "  <thead>\n",
       "    <tr style=\"text-align: right;\">\n",
       "      <th></th>\n",
       "      <th>order_id</th>\n",
       "      <th>ensemble_pred</th>\n",
       "    </tr>\n",
       "  </thead>\n",
       "  <tbody>\n",
       "    <tr>\n",
       "      <th>0</th>\n",
       "      <td>1335838404</td>\n",
       "      <td>1.039049</td>\n",
       "    </tr>\n",
       "    <tr>\n",
       "      <th>1</th>\n",
       "      <td>1345004178</td>\n",
       "      <td>2.018892</td>\n",
       "    </tr>\n",
       "    <tr>\n",
       "      <th>2</th>\n",
       "      <td>1299892142</td>\n",
       "      <td>2.128365</td>\n",
       "    </tr>\n",
       "    <tr>\n",
       "      <th>3</th>\n",
       "      <td>1345359643</td>\n",
       "      <td>1.074697</td>\n",
       "    </tr>\n",
       "    <tr>\n",
       "      <th>4</th>\n",
       "      <td>1342062180</td>\n",
       "      <td>1.084544</td>\n",
       "    </tr>\n",
       "    <tr>\n",
       "      <th>...</th>\n",
       "      <td>...</td>\n",
       "      <td>...</td>\n",
       "    </tr>\n",
       "    <tr>\n",
       "      <th>1487574</th>\n",
       "      <td>1375566785</td>\n",
       "      <td>1.929638</td>\n",
       "    </tr>\n",
       "    <tr>\n",
       "      <th>1487575</th>\n",
       "      <td>1374092076</td>\n",
       "      <td>4.449647</td>\n",
       "    </tr>\n",
       "    <tr>\n",
       "      <th>1487576</th>\n",
       "      <td>1374188292</td>\n",
       "      <td>2.050120</td>\n",
       "    </tr>\n",
       "    <tr>\n",
       "      <th>1487577</th>\n",
       "      <td>1362966003</td>\n",
       "      <td>2.008442</td>\n",
       "    </tr>\n",
       "    <tr>\n",
       "      <th>1487578</th>\n",
       "      <td>1374910179</td>\n",
       "      <td>3.190339</td>\n",
       "    </tr>\n",
       "  </tbody>\n",
       "</table>\n",
       "<p>5127903 rows × 2 columns</p>\n",
       "</div>"
      ],
      "text/plain": [
       "           order_id  ensemble_pred\n",
       "0        1335838404       1.039049\n",
       "1        1345004178       2.018892\n",
       "2        1299892142       2.128365\n",
       "3        1345359643       1.074697\n",
       "4        1342062180       1.084544\n",
       "...             ...            ...\n",
       "1487574  1375566785       1.929638\n",
       "1487575  1374092076       4.449647\n",
       "1487576  1374188292       2.050120\n",
       "1487577  1362966003       2.008442\n",
       "1487578  1374910179       3.190339\n",
       "\n",
       "[5127903 rows x 2 columns]"
      ]
     },
     "execution_count": 37,
     "metadata": {},
     "output_type": "execute_result"
    }
   ],
   "source": [
    "ensemble_pred"
   ]
  },
  {
   "cell_type": "code",
   "execution_count": 38,
   "id": "c9182c89-f890-4409-8a9f-60ebf561accd",
   "metadata": {
    "tags": []
   },
   "outputs": [
    {
     "data": {
      "text/plain": [
       "(5127903, 39)"
      ]
     },
     "execution_count": 38,
     "metadata": {},
     "output_type": "execute_result"
    }
   ],
   "source": [
    "df_train_val = pd.concat([df_train, df_val], axis=0)\n",
    "\n",
    "df_train_val['tag'] = 'train_val'\n",
    "df_test['tag'] = 'test'\n",
    "\n",
    "df_train_val['ml_pred'] = y_train_val_pred\n",
    "df_test['ml_pred'] = y_test_pred\n",
    "\n",
    "df_train_val['ml_pred_rounded'] = np.round(y_train_val_pred)\n",
    "df_test['ml_pred_rounded'] = np.round(y_test_pred)\n",
    "\n",
    "report_out = pd.concat([df_train_val, df_test], axis=0)\n",
    "\n",
    "report_out.shape"
   ]
  },
  {
   "cell_type": "code",
   "execution_count": 39,
   "id": "17cdd2b1-6632-485d-a5ae-9d8718ce5b7f",
   "metadata": {
    "tags": []
   },
   "outputs": [],
   "source": [
    "del df_train_x, df_val_x, df_test, df_train, df_val, df_train_val, X_train_val, X_val"
   ]
  },
  {
   "cell_type": "code",
   "execution_count": 40,
   "id": "41fe23fd-34d5-4f59-99c1-334a8a774938",
   "metadata": {
    "tags": []
   },
   "outputs": [],
   "source": [
    "del ensemble_X_train_val, ensemble_X_test"
   ]
  },
  {
   "cell_type": "code",
   "execution_count": 41,
   "id": "4e0a92dd-d249-457e-abea-c1cad5249417",
   "metadata": {
    "tags": []
   },
   "outputs": [
    {
     "data": {
      "text/plain": [
       "delivery_dow                  int32\n",
       "std_actual                    int32\n",
       "arc_range                     int32\n",
       "distance_mi                 float64\n",
       "zone                          int64\n",
       "UOM_flag                      int32\n",
       "holiday_flag                 object\n",
       "is_release_fri_sat            int32\n",
       "is_ship_fri_sat               int32\n",
       "release_fri_sat_tag          object\n",
       "ship_fri_sat_tag             object\n",
       "hours_till_CPT              float64\n",
       "is_after_CPT                  int32\n",
       "adj_TNT                       int64\n",
       "nextadj_tnt                   int64\n",
       "std_v0                      float64\n",
       "release_dow_0                 int32\n",
       "release_dow_1                 int32\n",
       "release_dow_2                 int32\n",
       "release_dow_3                 int32\n",
       "release_dow_4                 int32\n",
       "release_dow_5                 int32\n",
       "release_dow_6                 int32\n",
       "ship_dow_0                    int32\n",
       "ship_dow_1                    int32\n",
       "ship_dow_2                    int32\n",
       "ship_dow_3                    int32\n",
       "ship_dow_4                    int32\n",
       "ship_dow_5                    int32\n",
       "ship_dow_6                    int32\n",
       "order_id                     object\n",
       "fc_name                      object\n",
       "customer_zip                 object\n",
       "route_id                     object\n",
       "fulfillment_center_state     object\n",
       "fulfillment_center_type      object\n",
       "tag                          object\n",
       "ml_pred                     float32\n",
       "ml_pred_rounded             float32\n",
       "dtype: object"
      ]
     },
     "execution_count": 41,
     "metadata": {},
     "output_type": "execute_result"
    }
   ],
   "source": [
    "report_out.dtypes"
   ]
  },
  {
   "cell_type": "code",
   "execution_count": 42,
   "id": "b990b3f9-fb77-4bb2-90ec-28c4948c0bfc",
   "metadata": {
    "tags": []
   },
   "outputs": [],
   "source": [
    "report_out = report_out.merge(ensemble_pred,\n",
    "                              on='order_id')\n",
    "report_out['ensemble_pred_rounded'] = np.round(report_out['ensemble_pred'])"
   ]
  },
  {
   "cell_type": "code",
   "execution_count": 43,
   "id": "65eb2d05-d2fc-4058-92d8-4c0de50d549d",
   "metadata": {
    "tags": []
   },
   "outputs": [],
   "source": [
    "del ensemble_pred"
   ]
  },
  {
   "cell_type": "code",
   "execution_count": 44,
   "id": "6ee63489-ae0e-4e7f-ac15-9036388ebd05",
   "metadata": {
    "tags": []
   },
   "outputs": [],
   "source": [
    "report_out = report_out\\\n",
    "                .merge(uszips,\n",
    "                       left_on='customer_zip',\n",
    "                       right_on='zip',\n",
    "                       how='left')\n",
    "report_out = report_out\\\n",
    "                .drop(['zip'],\n",
    "                      axis=1)\n",
    "\n",
    "report_out = report_out.rename(columns={'state_id': 'customer_state'})"
   ]
  },
  {
   "cell_type": "code",
   "execution_count": 44,
   "id": "ad37021f-0f0f-45c4-9bb6-c1ea6f6f199e",
   "metadata": {
    "tags": []
   },
   "outputs": [
    {
     "data": {
      "text/plain": [
       "(5127909, 32)"
      ]
     },
     "execution_count": 44,
     "metadata": {},
     "output_type": "execute_result"
    }
   ],
   "source": [
    "report_out.shape"
   ]
  },
  {
   "cell_type": "code",
   "execution_count": 45,
   "id": "d3f1ad7b-fa7a-4b7e-b18f-327a0332c842",
   "metadata": {
    "tags": []
   },
   "outputs": [
    {
     "data": {
      "text/plain": [
       "delivery_dow                  int32\n",
       "std_actual                    int32\n",
       "arc_range                     int32\n",
       "distance_mi                 float64\n",
       "zone                          int64\n",
       "UOM_flag                      int32\n",
       "holiday_flag                 object\n",
       "is_release_fri_sat            int32\n",
       "is_ship_fri_sat               int32\n",
       "release_fri_sat_tag          object\n",
       "ship_fri_sat_tag             object\n",
       "hours_till_CPT              float64\n",
       "is_after_CPT                  int32\n",
       "adj_TNT                       int64\n",
       "nextadj_tnt                   int64\n",
       "std_v0                      float64\n",
       "release_dow_0                 int32\n",
       "release_dow_1                 int32\n",
       "release_dow_2                 int32\n",
       "release_dow_3                 int32\n",
       "release_dow_4                 int32\n",
       "release_dow_5                 int32\n",
       "release_dow_6                 int32\n",
       "ship_dow_0                    int32\n",
       "ship_dow_1                    int32\n",
       "ship_dow_2                    int32\n",
       "ship_dow_3                    int32\n",
       "ship_dow_4                    int32\n",
       "ship_dow_5                    int32\n",
       "ship_dow_6                    int32\n",
       "order_id                     object\n",
       "fc_name                      object\n",
       "customer_zip                 object\n",
       "route_id                     object\n",
       "fulfillment_center_state     object\n",
       "fulfillment_center_type      object\n",
       "tag                          object\n",
       "ml_pred                     float32\n",
       "ml_pred_rounded             float32\n",
       "ensemble_pred               float32\n",
       "ensemble_pred_rounded       float32\n",
       "customer_state               object\n",
       "dtype: object"
      ]
     },
     "execution_count": 45,
     "metadata": {},
     "output_type": "execute_result"
    }
   ],
   "source": [
    "report_out.dtypes"
   ]
  },
  {
   "cell_type": "code",
   "execution_count": 46,
   "id": "c903060d-b9c9-4e7d-87c9-0e0c6d27d9f3",
   "metadata": {
    "tags": []
   },
   "outputs": [
    {
     "data": {
      "text/html": [
       "<div>\n",
       "<style scoped>\n",
       "    .dataframe tbody tr th:only-of-type {\n",
       "        vertical-align: middle;\n",
       "    }\n",
       "\n",
       "    .dataframe tbody tr th {\n",
       "        vertical-align: top;\n",
       "    }\n",
       "\n",
       "    .dataframe thead th {\n",
       "        text-align: right;\n",
       "    }\n",
       "</style>\n",
       "<table border=\"1\" class=\"dataframe\">\n",
       "  <thead>\n",
       "    <tr style=\"text-align: right;\">\n",
       "      <th></th>\n",
       "      <th>delivery_dow</th>\n",
       "      <th>std_actual</th>\n",
       "      <th>arc_range</th>\n",
       "      <th>distance_mi</th>\n",
       "      <th>zone</th>\n",
       "      <th>UOM_flag</th>\n",
       "      <th>is_friday_saturday</th>\n",
       "      <th>is_after_CPT</th>\n",
       "      <th>holiday_flag</th>\n",
       "      <th>adj_TNT</th>\n",
       "      <th>...</th>\n",
       "      <th>customer_zip</th>\n",
       "      <th>route_id</th>\n",
       "      <th>fulfillment_center_state</th>\n",
       "      <th>fulfillment_center_type</th>\n",
       "      <th>tag</th>\n",
       "      <th>ml_pred</th>\n",
       "      <th>ml_pred_rounded</th>\n",
       "      <th>ensemble_pred</th>\n",
       "      <th>ensemble_pred_rounded</th>\n",
       "      <th>customer_state</th>\n",
       "    </tr>\n",
       "  </thead>\n",
       "  <tbody>\n",
       "    <tr>\n",
       "      <th>0</th>\n",
       "      <td>5</td>\n",
       "      <td>1</td>\n",
       "      <td>1</td>\n",
       "      <td>140.836</td>\n",
       "      <td>2</td>\n",
       "      <td>0</td>\n",
       "      <td>0</td>\n",
       "      <td>0</td>\n",
       "      <td>regular</td>\n",
       "      <td>1</td>\n",
       "      <td>...</td>\n",
       "      <td>14513</td>\n",
       "      <td>SYRA</td>\n",
       "      <td>PA</td>\n",
       "      <td>Gen1</td>\n",
       "      <td>train_val</td>\n",
       "      <td>1.027416</td>\n",
       "      <td>1.0</td>\n",
       "      <td>1.050297</td>\n",
       "      <td>1.0</td>\n",
       "      <td>NY</td>\n",
       "    </tr>\n",
       "    <tr>\n",
       "      <th>1</th>\n",
       "      <td>6</td>\n",
       "      <td>2</td>\n",
       "      <td>2</td>\n",
       "      <td>278.757</td>\n",
       "      <td>3</td>\n",
       "      <td>0</td>\n",
       "      <td>0</td>\n",
       "      <td>1</td>\n",
       "      <td>regular</td>\n",
       "      <td>1</td>\n",
       "      <td>...</td>\n",
       "      <td>02536</td>\n",
       "      <td>HART</td>\n",
       "      <td>PA</td>\n",
       "      <td>Gen1</td>\n",
       "      <td>train_val</td>\n",
       "      <td>1.898211</td>\n",
       "      <td>2.0</td>\n",
       "      <td>2.035489</td>\n",
       "      <td>2.0</td>\n",
       "      <td>MA</td>\n",
       "    </tr>\n",
       "    <tr>\n",
       "      <th>2</th>\n",
       "      <td>5</td>\n",
       "      <td>2</td>\n",
       "      <td>4</td>\n",
       "      <td>1108.956</td>\n",
       "      <td>6</td>\n",
       "      <td>0</td>\n",
       "      <td>0</td>\n",
       "      <td>0</td>\n",
       "      <td>regular</td>\n",
       "      <td>2</td>\n",
       "      <td>...</td>\n",
       "      <td>33177</td>\n",
       "      <td>HRBG_M</td>\n",
       "      <td>PA</td>\n",
       "      <td>Gen1</td>\n",
       "      <td>train_val</td>\n",
       "      <td>2.128952</td>\n",
       "      <td>2.0</td>\n",
       "      <td>2.130038</td>\n",
       "      <td>2.0</td>\n",
       "      <td>FL</td>\n",
       "    </tr>\n",
       "    <tr>\n",
       "      <th>3</th>\n",
       "      <td>6</td>\n",
       "      <td>1</td>\n",
       "      <td>1</td>\n",
       "      <td>187.282</td>\n",
       "      <td>3</td>\n",
       "      <td>0</td>\n",
       "      <td>1</td>\n",
       "      <td>0</td>\n",
       "      <td>regular</td>\n",
       "      <td>1</td>\n",
       "      <td>...</td>\n",
       "      <td>20109</td>\n",
       "      <td>HAGE</td>\n",
       "      <td>PA</td>\n",
       "      <td>Gen1</td>\n",
       "      <td>train_val</td>\n",
       "      <td>1.345483</td>\n",
       "      <td>1.0</td>\n",
       "      <td>1.089662</td>\n",
       "      <td>1.0</td>\n",
       "      <td>VA</td>\n",
       "    </tr>\n",
       "    <tr>\n",
       "      <th>4</th>\n",
       "      <td>6</td>\n",
       "      <td>1</td>\n",
       "      <td>2</td>\n",
       "      <td>266.020</td>\n",
       "      <td>3</td>\n",
       "      <td>0</td>\n",
       "      <td>0</td>\n",
       "      <td>0</td>\n",
       "      <td>regular</td>\n",
       "      <td>1</td>\n",
       "      <td>...</td>\n",
       "      <td>02370</td>\n",
       "      <td>HART</td>\n",
       "      <td>PA</td>\n",
       "      <td>Gen1</td>\n",
       "      <td>train_val</td>\n",
       "      <td>1.128173</td>\n",
       "      <td>1.0</td>\n",
       "      <td>1.054787</td>\n",
       "      <td>1.0</td>\n",
       "      <td>MA</td>\n",
       "    </tr>\n",
       "  </tbody>\n",
       "</table>\n",
       "<p>5 rows × 32 columns</p>\n",
       "</div>"
      ],
      "text/plain": [
       "   delivery_dow  std_actual  arc_range  distance_mi  zone  UOM_flag  \\\n",
       "0             5           1          1      140.836     2         0   \n",
       "1             6           2          2      278.757     3         0   \n",
       "2             5           2          4     1108.956     6         0   \n",
       "3             6           1          1      187.282     3         0   \n",
       "4             6           1          2      266.020     3         0   \n",
       "\n",
       "   is_friday_saturday  is_after_CPT holiday_flag  adj_TNT  ...  customer_zip  \\\n",
       "0                   0             0      regular        1  ...         14513   \n",
       "1                   0             1      regular        1  ...         02536   \n",
       "2                   0             0      regular        2  ...         33177   \n",
       "3                   1             0      regular        1  ...         20109   \n",
       "4                   0             0      regular        1  ...         02370   \n",
       "\n",
       "   route_id  fulfillment_center_state  fulfillment_center_type        tag  \\\n",
       "0      SYRA                        PA                     Gen1  train_val   \n",
       "1      HART                        PA                     Gen1  train_val   \n",
       "2    HRBG_M                        PA                     Gen1  train_val   \n",
       "3      HAGE                        PA                     Gen1  train_val   \n",
       "4      HART                        PA                     Gen1  train_val   \n",
       "\n",
       "    ml_pred  ml_pred_rounded  ensemble_pred  ensemble_pred_rounded  \\\n",
       "0  1.027416              1.0       1.050297                    1.0   \n",
       "1  1.898211              2.0       2.035489                    2.0   \n",
       "2  2.128952              2.0       2.130038                    2.0   \n",
       "3  1.345483              1.0       1.089662                    1.0   \n",
       "4  1.128173              1.0       1.054787                    1.0   \n",
       "\n",
       "   customer_state  \n",
       "0              NY  \n",
       "1              MA  \n",
       "2              FL  \n",
       "3              VA  \n",
       "4              MA  \n",
       "\n",
       "[5 rows x 32 columns]"
      ]
     },
     "execution_count": 46,
     "metadata": {},
     "output_type": "execute_result"
    }
   ],
   "source": [
    "report_out.head()"
   ]
  },
  {
   "cell_type": "code",
   "execution_count": 46,
   "id": "fc674c65-0f97-43df-a481-51f26615654d",
   "metadata": {
    "tags": []
   },
   "outputs": [],
   "source": [
    "report_out.to_csv(os.path.join(schema, bucket, project, 'reporting/model_out/20231025_v9.csv'), \n",
    "                  index=False,\n",
    "                  header=True)"
   ]
  },
  {
   "cell_type": "code",
   "execution_count": null,
   "id": "bc2100eb-08d8-4205-9846-c9e7843a8680",
   "metadata": {},
   "outputs": [],
   "source": []
  }
 ],
 "metadata": {
  "kernelspec": {
   "display_name": "conda_python3",
   "language": "python",
   "name": "conda_python3"
  },
  "language_info": {
   "codemirror_mode": {
    "name": "ipython",
    "version": 3
   },
   "file_extension": ".py",
   "mimetype": "text/x-python",
   "name": "python",
   "nbconvert_exporter": "python",
   "pygments_lexer": "ipython3",
   "version": "3.10.12"
  }
 },
 "nbformat": 4,
 "nbformat_minor": 5
}
