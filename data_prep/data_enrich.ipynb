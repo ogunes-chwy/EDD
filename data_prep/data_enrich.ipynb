{
 "cells": [
  {
   "cell_type": "markdown",
   "metadata": {
    "editable": true
   },
   "source": [
    "# AWS Glue Studio Notebook\n",
    "##### You are now running a AWS Glue Studio notebook; To start using your notebook you need to start an AWS Glue Interactive Session.\n"
   ]
  },
  {
   "cell_type": "code",
   "execution_count": 1,
   "metadata": {
    "editable": true,
    "tags": []
   },
   "outputs": [
    {
     "name": "stdout",
     "output_type": "stream",
     "text": [
      "Welcome to the Glue Interactive Sessions Kernel\n",
      "For more information on available magic commands, please type %help in any new cell.\n",
      "\n",
      "Please view our Getting Started page to access the most up-to-date information on the Interactive Sessions kernel: https://docs.aws.amazon.com/glue/latest/dg/interactive-sessions.html\n",
      "Installed kernel version: 0.38.1 \n",
      "Current idle_timeout is 2800 minutes.\n",
      "idle_timeout has been set to 2880 minutes.\n",
      "Setting Glue version to: 3.0\n",
      "Previous worker type: G.1X\n",
      "Setting new worker type to: G.2X\n",
      "Previous number of workers: 5\n",
      "Setting new number of workers to: 10\n",
      "Authenticating with environment variables and user-defined glue_role_arn: arn:aws:iam::243249644484:role/dev-use1-sc-forecast-mwaa-glue-athena-role\n",
      "Trying to create a Glue session for the kernel.\n",
      "Worker Type: G.2X\n",
      "Number of Workers: 10\n",
      "Session ID: 7938e91d-519b-4fad-b49c-0855187e2f29\n",
      "Job Type: glueetl\n",
      "Applying the following default arguments:\n",
      "--glue_kernel_version 0.38.1\n",
      "--enable-glue-datacatalog true\n",
      "Waiting for session 7938e91d-519b-4fad-b49c-0855187e2f29 to get into ready status...\n",
      "Session 7938e91d-519b-4fad-b49c-0855187e2f29 has been created.\n",
      "\n"
     ]
    }
   ],
   "source": [
    "%idle_timeout 2880\n",
    "%glue_version 3.0\n",
    "%worker_type G.2X\n",
    "%number_of_workers 10\n",
    "\n",
    "import sys\n",
    "from awsglue.transforms import *\n",
    "from awsglue.utils import getResolvedOptions\n",
    "from pyspark.context import SparkContext\n",
    "from awsglue.context import GlueContext\n",
    "from awsglue.job import Job\n",
    "  \n",
    "sc = SparkContext.getOrCreate()\n",
    "glueContext = GlueContext(sc)\n",
    "spark = glueContext.spark_session\n",
    "job = Job(glueContext)"
   ]
  },
  {
   "cell_type": "code",
   "execution_count": 2,
   "metadata": {
    "tags": []
   },
   "outputs": [
    {
     "name": "stdout",
     "output_type": "stream",
     "text": [
      "<pyspark.conf.SparkConf object at 0x7fcb2faa79d0>\n"
     ]
    }
   ],
   "source": [
    "spark.sparkContext._conf.setAll([('spark.sql.files.maxPartitionBytes', '500mb'), \n",
    "                                 (\"spark.sql.shuffle.partitions\", 16),\n",
    "                                ('spark.sql.autoBroadcastJoinThreshold', -1)])"
   ]
  },
  {
   "cell_type": "code",
   "execution_count": 3,
   "metadata": {
    "tags": []
   },
   "outputs": [
    {
     "name": "stdout",
     "output_type": "stream",
     "text": [
      "\n"
     ]
    }
   ],
   "source": [
    "import pyspark.sql.functions as F\n",
    "from pyspark.sql.functions import udf\n",
    "from pyspark.sql.types import StringType\n",
    "import os\n",
    "from pyspark.sql.window import Window\n",
    "from pyspark.sql.functions import collect_list\n",
    "from datetime import datetime\n",
    "from pyspark.sql.types import IntegerType, FloatType, DoubleType\n",
    "import itertools"
   ]
  },
  {
   "cell_type": "code",
   "execution_count": 4,
   "metadata": {
    "tags": []
   },
   "outputs": [
    {
     "name": "stdout",
     "output_type": "stream",
     "text": [
      "\n"
     ]
    }
   ],
   "source": [
    "def convert_to_timestamp(value):\n",
    "    # if value >= 240000:\n",
    "    #     hours = value // 10000 \n",
    "    #     minutes = (value // 100) % 100\n",
    "    #     seconds = value % 100\n",
    "    # else:\n",
    "    hours = value // 10000\n",
    "    minutes = (value // 100) % 100\n",
    "    seconds = value % 100\n",
    "    return f\"{hours:02d}:{minutes:02d}:{seconds:02d}\"\n",
    "\n",
    "convert_to_timestamp_udf = udf(convert_to_timestamp, StringType())"
   ]
  },
  {
   "cell_type": "code",
   "execution_count": 5,
   "metadata": {
    "tags": []
   },
   "outputs": [
    {
     "name": "stdout",
     "output_type": "stream",
     "text": [
      "\n"
     ]
    }
   ],
   "source": [
    "def join_lag_name(names):\n",
    "    return \"_\".join([str(n) for n in names if n])"
   ]
  },
  {
   "cell_type": "markdown",
   "metadata": {},
   "source": [
    "### Path - Params"
   ]
  },
  {
   "cell_type": "code",
   "execution_count": 6,
   "metadata": {
    "tags": []
   },
   "outputs": [
    {
     "name": "stdout",
     "output_type": "stream",
     "text": [
      "\n"
     ]
    }
   ],
   "source": [
    "# Params\n",
    "start_date = '2023-01-01'\n",
    "start_dttm = '2023-01-01 00:00:00'\n",
    "\n",
    "end_date = '2023-10-01'\n",
    "end_dttm = '2023-10-01 00:00:00'\n",
    "\n",
    "order_start_date = '2022-12-19'\n",
    "\n",
    "# Paths\n",
    "schema = 's3://'\n",
    "\n",
    "output_bucket_name = 'ogunes-promise'\n",
    "output_project_name = 'EDD'\n",
    "\n",
    "tableau_data_path = os.path.join(\n",
    "    schema, \n",
    "    output_bucket_name, \n",
    "    output_project_name, \n",
    "    'reporting/data', \n",
    "    '2023-11-13_v3')\n",
    "\n",
    "enrich_data_path = os.path.join(\n",
    "    schema, \n",
    "    output_bucket_name, \n",
    "    output_project_name, \n",
    "    'enrich', \n",
    "    '2023-11-13_v4')"
   ]
  },
  {
   "cell_type": "code",
   "execution_count": 7,
   "metadata": {
    "tags": []
   },
   "outputs": [
    {
     "name": "stdout",
     "output_type": "stream",
     "text": [
      "\n"
     ]
    }
   ],
   "source": [
    "core_fc = ['AVP1','AVP2','CFC1','CLT1',\n",
    "           'DAY1','DFW1','EFC3','MCI1',\n",
    "           'MCO1','MDT1','PHX1','RNO1',\n",
    "           'WFC2', 'BNA1']\n",
    "G2 = ['AVP2', 'MCI1', 'RNO1', 'BNA1']"
   ]
  },
  {
   "cell_type": "markdown",
   "metadata": {},
   "source": [
    "### Feature Selection and Prep for Analysis"
   ]
  },
  {
   "cell_type": "code",
   "execution_count": 8,
   "metadata": {
    "tags": []
   },
   "outputs": [
    {
     "name": "stdout",
     "output_type": "stream",
     "text": [
      "\n"
     ]
    }
   ],
   "source": [
    "data = glueContext.create_dynamic_frame.from_catalog(\n",
    "    database='shipment_inspecter_table_promise', \n",
    "    table_name='shipment_transaction_for_edd_estimation_v2')\n",
    "data = data.toDF()"
   ]
  },
  {
   "cell_type": "code",
   "execution_count": 9,
   "metadata": {
    "tags": []
   },
   "outputs": [
    {
     "name": "stdout",
     "output_type": "stream",
     "text": [
      "\n"
     ]
    }
   ],
   "source": [
    "uom = spark.read.parquet('s3://qzhao-promise/ML_feature/product_uom_flag/')"
   ]
  },
  {
   "cell_type": "code",
   "execution_count": 10,
   "metadata": {
    "tags": []
   },
   "outputs": [
    {
     "name": "stdout",
     "output_type": "stream",
     "text": [
      "root\n",
      " |-- ORDER_ID: decimal(38,0) (nullable = true)\n",
      " |-- SHIPMENT_TRACKING_NUMBER: string (nullable = true)\n",
      " |-- PRODUCT_KEY: decimal(38,0) (nullable = true)\n",
      " |-- ORDER_PACKAGE_COUNT: decimal(38,0) (nullable = true)\n",
      " |-- SHIPMENT_QUANTITY: decimal(38,0) (nullable = true)\n",
      " |-- SHIPMENT_COUNT_OF_ITEMS_IN_BOX: decimal(38,0) (nullable = true)\n",
      " |-- SHIPMENT_COUNT_OF_UNIQUE_ITEMS_IN_BOX: decimal(38,0) (nullable = true)\n",
      " |-- CARRIER_CODE: string (nullable = true)\n",
      " |-- FFMCENTER_NAME: string (nullable = true)\n",
      " |-- RELEASE_DTTM_EST: timestamp (nullable = true)\n",
      " |-- SHIPMENT_SHIPPED_DATE: string (nullable = true)\n",
      " |-- SHIPMENT_SHIPPED_DTTM_EST: timestamp (nullable = true)\n",
      " |-- WAREHOUSE_ACTUAL_SHIP_DTTM_EST: timestamp (nullable = true)\n",
      " |-- SHIPMENT_DELIVERY_DATE: string (nullable = true)\n",
      " |-- SHIPMENT_DELIVERY_DTTM_EST: timestamp (nullable = true)\n",
      " |-- CUSTOMER_POSTCODE: string (nullable = true)\n",
      " |-- SHIPMENT_SHIP_ROUTE: string (nullable = true)\n",
      " |-- SHIPMENT_ESTIMATED_DELIVERY_DATE: date (nullable = true)\n",
      " |-- SHIPMENT_PROMISED_DELIVERY_DATE: date (nullable = true)\n",
      " |-- STD_ACTUAL: decimal(9,0) (nullable = true)\n",
      " |-- STD_V0: decimal(9,0) (nullable = true)\n",
      " |-- ACTUAL_SHIP_ROUTE: string (nullable = true)\n",
      " |-- ACTUAL_ZONE: string (nullable = true)\n",
      " |-- INITIAL_DELIVERY_ATTEMPT_DTTM_EST: timestamp (nullable = true)\n",
      " |-- INITIAL_SHIPMENT_DELIVERY_ATTEMPT_DATE: string (nullable = true)\n",
      " |-- WAREHOUSE_EXPECTED_WEIGHT: double (nullable = true)\n",
      " |-- WAREHOUSE_EXPECTED_HEIGHT: double (nullable = true)\n",
      " |-- WAREHOUSE_EXPECTED_LENGTH: double (nullable = true)\n",
      " |-- WAREHOUSE_EXPECTED_WIDTH: double (nullable = true)\n",
      " |-- partition_0: string (nullable = true)\n"
     ]
    }
   ],
   "source": [
    "data.printSchema()"
   ]
  },
  {
   "cell_type": "code",
   "execution_count": 12,
   "metadata": {
    "tags": []
   },
   "outputs": [
    {
     "name": "stdout",
     "output_type": "stream",
     "text": [
      "108967392\n"
     ]
    }
   ],
   "source": [
    "data.count()"
   ]
  },
  {
   "cell_type": "code",
   "execution_count": 11,
   "metadata": {
    "tags": []
   },
   "outputs": [
    {
     "name": "stdout",
     "output_type": "stream",
     "text": [
      "\n"
     ]
    }
   ],
   "source": [
    "data = data.join(uom,\n",
    "                 uom.product_key == data.PRODUCT_KEY, \n",
    "                 how = 'left') # F.broadcast\n",
    "data = data.withColumn('UOM_flag', \n",
    "                       F.when(\n",
    "                           F.col('PRODUCT_SHIPPABLE_UOM') == True, \n",
    "                           1).otherwise(0))"
   ]
  },
  {
   "cell_type": "code",
   "execution_count": 27,
   "metadata": {
    "tags": []
   },
   "outputs": [
    {
     "name": "stdout",
     "output_type": "stream",
     "text": [
      "+--------------+-----------------+------------+-------------------+------------+------+------+----------+\n",
      "|FFMCENTER_NAME|CUSTOMER_POSTCODE|RELEASE_DATE|SHIPMENT_SHIP_ROUTE|CARRIER_CODE|CUTOFF|ADJTNT|NEXTADJTNT|\n",
      "+--------------+-----------------+------------+-------------------+------------+------+------+----------+\n",
      "|          AVP1|             8360|  2022-12-29|            BRRS_MX|       FDXGD|180000|     1|         4|\n",
      "+--------------+-----------------+------------+-------------------+------------+------+------+----------+\n"
     ]
    }
   ],
   "source": [
    "# sr_edd.filter((F.col('FFMCENTER_NAME') == 'AVP1') & \n",
    "#               (F.col('RELEASE_DATE') == '2022-12-29') & \n",
    "#               (F.col('CUSTOMER_POSTCODE') == '08360')).show()"
   ]
  },
  {
   "cell_type": "code",
   "execution_count": 31,
   "metadata": {
    "tags": []
   },
   "outputs": [
    {
     "name": "stdout",
     "output_type": "stream",
     "text": [
      "+----------+---------+------+-----+-----------+----+------+---+------+----------+----+-------+-----------------+\n",
      "|      DATE|DayOfWeek|FCName| MODE|ORSItemType|Zip5|Cutoff|TNT|AdjTNT|NextAdjTNT|Zone|RouteID|__index_level_0__|\n",
      "+----------+---------+------+-----+-----------+----+------+---+------+----------+----+-------+-----------------+\n",
      "|2022-12-29|        3|  AVP1|FDXGD|          N|8360|180000|  1|     1|         4|   2|BRRS_MX|           549524|\n",
      "|2022-12-29|        3|  AVP1|FDXHD|          N|8360|180000|  1|     1|         2|   2|BRRS_MX|           549532|\n",
      "+----------+---------+------+-----+-----------+----+------+---+------+----------+----+-------+-----------------+\n"
     ]
    }
   ],
   "source": [
    "# dd = spark.read.parquet('s3://qzhao-promise/shipment_route_EDD_history/2022-12-29/')\n",
    "# dd.filter((F.col('FCName') == 'AVP1') & \n",
    "#               (F.col('DATE') == '2022-12-29') & \n",
    "#                (F.col('Zip5') == '08360')).show()"
   ]
  },
  {
   "cell_type": "code",
   "execution_count": 32,
   "metadata": {
    "tags": []
   },
   "outputs": [
    {
     "name": "stdout",
     "output_type": "stream",
     "text": [
      "+----------+---------+------+-----+-----------+----+------+---+------+----------+----+-------+-----------------+\n",
      "|      DATE|DayOfWeek|FCName| MODE|ORSItemType|Zip5|Cutoff|TNT|AdjTNT|NextAdjTNT|Zone|RouteID|__index_level_0__|\n",
      "+----------+---------+------+-----+-----------+----+------+---+------+----------+----+-------+-----------------+\n",
      "|2022-12-29|        3|  AVP2|FDXGD|          N|8360|170000|  1|     1|         4|   1|QBAR_PM|           553570|\n",
      "|2022-12-29|        3|  AVP2|FDXHD|          N|8360|170000|  1|     1|         2|   1|QBAR_PM|           553577|\n",
      "+----------+---------+------+-----+-----------+----+------+---+------+----------+----+-------+-----------------+\n"
     ]
    }
   ],
   "source": [
    "# dd.filter((F.col('FCName') == 'AVP2') & \n",
    "#               (F.col('DATE') == '2022-12-29') & \n",
    "#                (F.col('Zip5') == '08360')).show()"
   ]
  },
  {
   "cell_type": "code",
   "execution_count": 12,
   "metadata": {
    "tags": []
   },
   "outputs": [
    {
     "name": "stdout",
     "output_type": "stream",
     "text": [
      "\n"
     ]
    }
   ],
   "source": [
    "data = data.groupBy('ORDER_ID',\n",
    "                    'SHIPMENT_TRACKING_NUMBER',\n",
    "                    'SHIPMENT_COUNT_OF_ITEMS_IN_BOX',\n",
    "                    'CARRIER_CODE',\n",
    "                    'FFMCENTER_NAME',\n",
    "                    'RELEASE_DTTM_EST',\n",
    "                    'SHIPMENT_SHIPPED_DTTM_EST',\n",
    "                    'SHIPMENT_SHIPPED_DATE',\n",
    "                    'SHIPMENT_DELIVERY_DTTM_EST',\n",
    "                    'SHIPMENT_DELIVERY_DATE',\n",
    "                    'CUSTOMER_POSTCODE',\n",
    "                    'SHIPMENT_SHIP_ROUTE',\n",
    "                    'SHIPMENT_ESTIMATED_DELIVERY_DATE',\n",
    "                    'STD_ACTUAL',\n",
    "                    'STD_V0',\n",
    "                    'ACTUAL_ZONE',\n",
    "                    'INITIAL_DELIVERY_ATTEMPT_DTTM_EST',\n",
    "                    'INITIAL_SHIPMENT_DELIVERY_ATTEMPT_DATE',\n",
    "                    'WAREHOUSE_EXPECTED_WEIGHT',\n",
    "                   ).agg(F.max('UOM_flag').alias('UOM_flag'),\n",
    "                        (F.max(F.col('WAREHOUSE_EXPECTED_HEIGHT')*F.col('WAREHOUSE_EXPECTED_LENGTH')*F.col('WAREHOUSE_EXPECTED_WIDTH'))).alias('package_size'))"
   ]
  },
  {
   "cell_type": "code",
   "execution_count": 13,
   "metadata": {
    "tags": []
   },
   "outputs": [
    {
     "name": "stdout",
     "output_type": "stream",
     "text": [
      "\n"
     ]
    }
   ],
   "source": [
    "# customer state\n",
    "zip_to_state = spark.read.csv('s3://ogunes-promise/EDD/geolocation/uszips.csv',\n",
    "                             header=True)\n",
    "\n",
    "data = data.join(zip_to_state.select(F.col('zip').alias('CUSTOMER_POSTCODE'),\n",
    "                                    F.col('state_id').alias('CUSTOMER_STATE')),\n",
    "                on='CUSTOMER_POSTCODE',\n",
    "                how='left')"
   ]
  },
  {
   "cell_type": "code",
   "execution_count": 14,
   "metadata": {
    "tags": []
   },
   "outputs": [
    {
     "name": "stdout",
     "output_type": "stream",
     "text": [
      "\n"
     ]
    }
   ],
   "source": [
    "# fc shipping scan dow\n",
    "data = data.withColumn(\"SHIPPED_DOW\", \n",
    "                       F.dayofweek(data[\"SHIPMENT_SHIPPED_DATE\"]) - 1)"
   ]
  },
  {
   "cell_type": "code",
   "execution_count": 15,
   "metadata": {
    "tags": []
   },
   "outputs": [
    {
     "name": "stdout",
     "output_type": "stream",
     "text": [
      "\n"
     ]
    }
   ],
   "source": [
    "# std_actual based on attempted date\n",
    "data = data.withColumn(\"STD_ACTUAL_VATTEMPTED\", \n",
    "                     F.datediff(F.col(\"INITIAL_DELIVERY_ATTEMPT_DTTM_EST\"), \n",
    "                                F.col(\"SHIPMENT_SHIPPED_DTTM_EST\")))"
   ]
  },
  {
   "cell_type": "code",
   "execution_count": 16,
   "metadata": {
    "tags": []
   },
   "outputs": [
    {
     "name": "stdout",
     "output_type": "stream",
     "text": [
      "\n"
     ]
    }
   ],
   "source": [
    "data = data.withColumn('STD_ACTUAL_VATTEMPTED',\n",
    "                      F.when(F.col('STD_ACTUAL_VATTEMPTED').isNull(), \n",
    "                             F.col('STD_ACTUAL')).otherwise(F.col('STD_ACTUAL_VATTEMPTED')))"
   ]
  },
  {
   "cell_type": "code",
   "execution_count": 17,
   "metadata": {
    "tags": []
   },
   "outputs": [
    {
     "name": "stdout",
     "output_type": "stream",
     "text": [
      "\n"
     ]
    }
   ],
   "source": [
    "data = data.withColumn('STD_V0',\n",
    "                      F.when(F.col('STD_V0').isNull(), \n",
    "                             F.lit(1)).otherwise(F.col('STD_V0')))"
   ]
  },
  {
   "cell_type": "code",
   "execution_count": 18,
   "metadata": {
    "tags": []
   },
   "outputs": [
    {
     "name": "stdout",
     "output_type": "stream",
     "text": [
      "\n"
     ]
    }
   ],
   "source": [
    "data = data.filter(F.col('ACTUAL_ZONE').isNotNull())"
   ]
  },
  {
   "cell_type": "code",
   "execution_count": 19,
   "metadata": {
    "tags": []
   },
   "outputs": [
    {
     "name": "stdout",
     "output_type": "stream",
     "text": [
      "\n"
     ]
    }
   ],
   "source": [
    "# get lag features\n",
    "calendar = data.select('SHIPMENT_SHIPPED_DATE').dropDuplicates()\n",
    "\n",
    "w = Window.orderBy(\"SHIPMENT_SHIPPED_DATE\")\n",
    "calendar = calendar.withColumn(\"index\", F.row_number().over(w))\n",
    "\n",
    "data = data.join(calendar,\n",
    "                'SHIPMENT_SHIPPED_DATE')"
   ]
  },
  {
   "cell_type": "code",
   "execution_count": 20,
   "metadata": {
    "tags": []
   },
   "outputs": [
    {
     "name": "stdout",
     "output_type": "stream",
     "text": [
      "\n"
     ]
    }
   ],
   "source": [
    "# get lag features\n",
    "features = ['STD_ACTUAL_VATTEMPTED']\n",
    "groupby_features_list = [['SHIPPED_DOW', 'FFMCENTER_NAME', 'CUSTOMER_STATE'],\n",
    "                         ['SHIPPED_DOW', 'SHIPMENT_SHIP_ROUTE'],\n",
    "                         ['SHIPPED_DOW', 'ACTUAL_ZONE']]\n",
    "ma_ranges = [(-28,-1), (-7,-1)] \n",
    "operation = 'avg'\n",
    "index_col = 'index'"
   ]
  },
  {
   "cell_type": "code",
   "execution_count": 21,
   "metadata": {
    "tags": []
   },
   "outputs": [
    {
     "name": "stdout",
     "output_type": "stream",
     "text": [
      "('STD_ACTUAL_VATTEMPTED', (-28, -1))\n",
      "avg_-28_-1_STD_ACTUAL_VATTEMPTED_SHIPPED_DOW_FFMCENTER_NAME_CUSTOMER_STATE\n",
      "('STD_ACTUAL_VATTEMPTED', (-7, -1))\n",
      "avg_-7_-1_STD_ACTUAL_VATTEMPTED_SHIPPED_DOW_FFMCENTER_NAME_CUSTOMER_STATE\n",
      "('STD_ACTUAL_VATTEMPTED', (-28, -1))\n",
      "avg_-28_-1_STD_ACTUAL_VATTEMPTED_SHIPPED_DOW_SHIPMENT_SHIP_ROUTE\n",
      "('STD_ACTUAL_VATTEMPTED', (-7, -1))\n",
      "avg_-7_-1_STD_ACTUAL_VATTEMPTED_SHIPPED_DOW_SHIPMENT_SHIP_ROUTE\n",
      "('STD_ACTUAL_VATTEMPTED', (-28, -1))\n",
      "avg_-28_-1_STD_ACTUAL_VATTEMPTED_SHIPPED_DOW_ACTUAL_ZONE\n",
      "('STD_ACTUAL_VATTEMPTED', (-7, -1))\n",
      "avg_-7_-1_STD_ACTUAL_VATTEMPTED_SHIPPED_DOW_ACTUAL_ZONE\n"
     ]
    }
   ],
   "source": [
    "for groupby_features in groupby_features_list:\n",
    "\n",
    "    data = data.repartition(*groupby_features)\n",
    "\n",
    "    for lag_pair in itertools.product(features, ma_ranges):\n",
    "\n",
    "        print(lag_pair)\n",
    "\n",
    "        column, ma_range = lag_pair\n",
    "        new_col_name = join_lag_name(\n",
    "        [operation, *[str(ma_) for ma_ in ma_range], column, *[str(gb_) for gb_ in groupby_features]]\n",
    "        )\n",
    "\n",
    "        print(new_col_name)\n",
    "\n",
    "        sql_function = getattr(F, operation)\n",
    "        sql_function = sql_function(F.col(column))\n",
    "\n",
    "\n",
    "        ma_window = (Window.partitionBy(groupby_features)\n",
    "                    .orderBy(index_col)\n",
    "                    .rangeBetween(*ma_range))\n",
    "\n",
    "        data = data.withColumn(new_col_name, sql_function.over(ma_window))\n",
    "        \n",
    "        data = data.withColumn(new_col_name,\n",
    "                      F.when(F.col(new_col_name).isNull(), \n",
    "                             F.lit(1)).otherwise(F.col(new_col_name)))"
   ]
  },
  {
   "cell_type": "code",
   "execution_count": 22,
   "metadata": {
    "tags": []
   },
   "outputs": [
    {
     "name": "stdout",
     "output_type": "stream",
     "text": [
      "\n"
     ]
    }
   ],
   "source": [
    "# add cutoff, adj tnt, next adj tnt\n",
    "sr_edd = glueContext.create_dynamic_frame.from_catalog(\n",
    "    database='shipment_inspecter_table_promise', \n",
    "    table_name='shipment_route_EDD_history')\n",
    "sr_edd = sr_edd.toDF()"
   ]
  },
  {
   "cell_type": "code",
   "execution_count": 23,
   "metadata": {
    "tags": []
   },
   "outputs": [
    {
     "name": "stdout",
     "output_type": "stream",
     "text": [
      "\n"
     ]
    }
   ],
   "source": [
    "sr_edd = sr_edd.filter(\n",
    "    F.col('FCName').isin(core_fc)).cache()\n",
    "\n",
    "window_spec = Window.partitionBy(\n",
    "    ['DATE', 'FCName' ,'RouteID', 'Zip5', 'MODE']).orderBy(\n",
    "    F.col(\"AdjTNT\"))\n",
    "sr_edd = sr_edd.withColumn(\n",
    "    \"row_number\", \n",
    "    F.row_number().over(window_spec))           \n",
    "\n",
    "sr_edd = sr_edd.filter(\n",
    "    F.col('row_number') == 1).drop('row_number') \n",
    "\n",
    "sr_edd = sr_edd.select(F.col('FCName').alias('FFMCENTER_NAME'),\n",
    "                       F.col('Zip5').alias('CUSTOMER_POSTCODE'),\n",
    "                       F.col('DATE').alias('RELEASE_DATE'),\n",
    "                       F.col('RouteID').alias('SHIPMENT_SHIP_ROUTE'),\n",
    "                       F.col('MODE').alias('CARRIER_CODE'),\n",
    "                       F.col('Cutoff').alias('CUTOFF'),\n",
    "                       F.col('AdjTNT').alias('ADJTNT'),\n",
    "                       F.col('NextAdjTNT').alias('NEXTADJTNT')).dropDuplicates()\n",
    "\n",
    "data = data.withColumn(\"RELEASE_DATE\", \n",
    "                       F.substring(F.col(\"RELEASE_DTTM_EST\"), 1, 10))\n",
    "\n",
    "data = data.join(sr_edd,\n",
    "                on=['RELEASE_DATE', 'FFMCENTER_NAME', 'CUSTOMER_POSTCODE', 'SHIPMENT_SHIP_ROUTE', 'CARRIER_CODE'],\n",
    "                how='left')\n",
    "\n",
    "data = data.filter((F.col('CUTOFF').isNotNull())).dropDuplicates()\n",
    "data = data.withColumn(\"CUTOFF_TIMESTAMP\", convert_to_timestamp_udf(\"CUTOFF\"))"
   ]
  },
  {
   "cell_type": "code",
   "execution_count": 24,
   "metadata": {
    "tags": []
   },
   "outputs": [
    {
     "name": "stdout",
     "output_type": "stream",
     "text": [
      "\n"
     ]
    }
   ],
   "source": [
    "# add fc type\n",
    "data = data.withColumn('FC_TYPE',\n",
    "                      F.when(F.col('FFMCENTER_NAME').isin(G2), \n",
    "                             F.lit('G2')).otherwise('G1'))"
   ]
  },
  {
   "cell_type": "code",
   "execution_count": 25,
   "metadata": {
    "tags": []
   },
   "outputs": [
    {
     "name": "stdout",
     "output_type": "stream",
     "text": [
      "'s3://ogunes-promise/EDD/reporting/data/2023-11-13_v3'\n"
     ]
    }
   ],
   "source": [
    "tableau_data_path"
   ]
  },
  {
   "cell_type": "code",
   "execution_count": 26,
   "metadata": {
    "tags": []
   },
   "outputs": [
    {
     "name": "stdout",
     "output_type": "stream",
     "text": [
      "\n"
     ]
    }
   ],
   "source": [
    "data.repartition(20).write.parquet(tableau_data_path, mode='overwrite')"
   ]
  },
  {
   "cell_type": "code",
   "execution_count": 27,
   "metadata": {
    "tags": []
   },
   "outputs": [
    {
     "name": "stdout",
     "output_type": "stream",
     "text": [
      "\n"
     ]
    }
   ],
   "source": [
    "data = spark.read.parquet(tableau_data_path)"
   ]
  },
  {
   "cell_type": "code",
   "execution_count": 28,
   "metadata": {
    "tags": []
   },
   "outputs": [
    {
     "name": "stdout",
     "output_type": "stream",
     "text": [
      "41669048\n"
     ]
    }
   ],
   "source": [
    "data.count()"
   ]
  },
  {
   "cell_type": "code",
   "execution_count": 33,
   "metadata": {
    "tags": []
   },
   "outputs": [
    {
     "name": "stdout",
     "output_type": "stream",
     "text": [
      "41669048\n"
     ]
    }
   ],
   "source": [
    "data.select('ORDER_ID', 'SHIPMENT_TRACKING_NUMBER').dropDuplicates().count()"
   ]
  },
  {
   "cell_type": "markdown",
   "metadata": {},
   "source": [
    "### Feature Engineering - Model Input Generation"
   ]
  },
  {
   "cell_type": "code",
   "execution_count": 29,
   "metadata": {
    "tags": []
   },
   "outputs": [
    {
     "name": "stdout",
     "output_type": "stream",
     "text": [
      "\n"
     ]
    }
   ],
   "source": [
    "# add flag for orders with multiple shipments\n",
    "w = Window.partitionBy('ORDER_ID')\n",
    "data = data.withColumn('PACKAGE_COUNT_BY_ORDER', \n",
    "                       F.count('SHIPMENT_TRACKING_NUMBER').over(w))"
   ]
  },
  {
   "cell_type": "code",
   "execution_count": 30,
   "metadata": {
    "tags": []
   },
   "outputs": [
    {
     "name": "stdout",
     "output_type": "stream",
     "text": [
      "\n"
     ]
    }
   ],
   "source": [
    "# after cpt flag\n",
    "data = data.withColumn(\n",
    "    'CPT',\n",
    "    F.when(F.col('FFMCENTER_NAME').isin(G2), \n",
    "      F.col('CUTOFF_TIMESTAMP') + F.expr('INTERVAL 5 HOURS')\n",
    "      ).otherwise( \n",
    "    F.col('CUTOFF_TIMESTAMP') + F.expr('INTERVAL 3 HOURS') ))\n",
    "\n",
    "data = data.withColumn(\"CPT\", \n",
    "                     F.substring(F.col(\"CPT\"), 12, 8))\n",
    "\n",
    "data = data.withColumn(\"CPT\", \n",
    "                     F.date_format(\n",
    "                         F.to_timestamp(\n",
    "                             F.col(\"CPT\"), 'HH:mm:ss'), \n",
    "                         \"HH:mm:ss\"))\n",
    "\n",
    "data = data.withColumn(\"SHIPMENT_SHIPPED_TS\", \n",
    "                     F.substring(F.col(\"SHIPMENT_SHIPPED_DTTM_EST\"), 12, 8))\n",
    "\n",
    "data = data.withColumn(\"SHIPMENT_SHIPPED_TS\", \n",
    "                     F.date_format(\n",
    "                         F.to_timestamp(\n",
    "                             F.col(\"SHIPMENT_SHIPPED_TS\"), 'HH:mm:ss'), \n",
    "                         \"HH:mm:ss\"))\n",
    "\n",
    "data = data.withColumn('IS_AFTER_CPT',\n",
    "                    F.when(F.col('SHIPMENT_SHIPPED_TS') > F.col('CPT'),\n",
    "                          F.lit(1)).otherwise(F.lit(0)))\n",
    "\n",
    "data = data.withColumn('IS_AFTER_CPT',\n",
    "                    F.when( \n",
    "                        (F.col('CPT') < '04:00:00') & \n",
    "                        (F.col('SHIPMENT_SHIPPED_TS') > '04:00:00'),\n",
    "                          F.lit(0)).otherwise(F.col('IS_AFTER_CPT')))"
   ]
  },
  {
   "cell_type": "code",
   "execution_count": 31,
   "metadata": {
    "tags": []
   },
   "outputs": [
    {
     "name": "stdout",
     "output_type": "stream",
     "text": [
      "\n"
     ]
    }
   ],
   "source": [
    "# is holiday\n",
    "holiday_path = os.path.join(\n",
    "    schema, \n",
    "    output_bucket_name, \n",
    "    output_project_name, \n",
    "    'holiday',\n",
    "    'FdxHolidaysWeb.csv')\n",
    "holiday = spark.read.csv(holiday_path, header=True)\n",
    "\n",
    "def user_defined_timestamp(date_col):\n",
    "    _date = datetime.strptime(date_col, '%m/%d/%y')\n",
    "    return _date.strftime('%Y-%m-%d')\n",
    "user_defined_timestamp_udf = F.udf(\n",
    "    user_defined_timestamp, StringType())\n",
    "\n",
    "holiday = holiday.withColumn(\"Date\", \n",
    "                             user_defined_timestamp_udf('Date'))\n",
    "\n",
    "data = data.join(holiday.select(F.col('Date').alias('SHIPMENT_SHIPPED_DATE'),\n",
    "                       F.col('Holiday'), F.col('Note')),\n",
    "                'SHIPMENT_SHIPPED_DATE',\n",
    "                'left')\n",
    "\n",
    "data = data.withColumn(\"HOLIDAY_FLAG\", \n",
    "                     F.when(\n",
    "                         F.col('Holiday').isNotNull(), \n",
    "                         F.lit('holiday')).otherwise(F.lit('regular')))\n",
    "    \n",
    "data = data.withColumn(\"HOLIDAY_FLAG\", \n",
    "                     F.when(\n",
    "                         F.col('Note').isNotNull(), \n",
    "                         F.lit('before_holiday')).otherwise(F.col('HOLIDAY_FLAG')))"
   ]
  },
  {
   "cell_type": "code",
   "execution_count": 32,
   "metadata": {
    "tags": []
   },
   "outputs": [
    {
     "name": "stdout",
     "output_type": "stream",
     "text": [
      "\n"
     ]
    }
   ],
   "source": [
    "# friday saturday tag\n",
    "data = data.withColumn(\"SHIPPED_FRI_SAT_TAG\", \n",
    "                         F.when(\n",
    "                             F.col('SHIPPED_DOW').isin([5]), F.lit('friday')).otherwise(\n",
    "                             F.when(F.col('SHIPPED_DOW').isin([6]), F.lit('saturday')).otherwise(\n",
    "                             F.lit('regular')))\n",
    "                         )"
   ]
  },
  {
   "cell_type": "code",
   "execution_count": 33,
   "metadata": {
    "tags": []
   },
   "outputs": [
    {
     "name": "stdout",
     "output_type": "stream",
     "text": [
      "\n"
     ]
    }
   ],
   "source": [
    "# time till next CPT\n",
    "data = data.withColumn(\"CPT\",\n",
    "                     F.to_timestamp(F.col(\"CPT\"),\"HH:mm:ss\")) \\\n",
    "   .withColumn(\"SHIPMENT_SHIPPED_TS\",\n",
    "               F.to_timestamp(F.col(\"SHIPMENT_SHIPPED_TS\"),\"HH:mm:ss\"))\n",
    "\n",
    "data = data.withColumn(\"CPT\", \n",
    "                     F.when(\n",
    "                         F.col('CPT').isNull(), \n",
    "                         F.to_timestamp(F.lit(\"00:00:00\"),\"HH:mm:ss\")).otherwise(F.col('CPT'))\n",
    "                    )\n",
    "\n",
    "data = data.withColumn(\"HOURS_TILL_CPT\", \n",
    "                     F.round((F.col(\"CPT\").cast(\"long\")-F.col(\"SHIPMENT_SHIPPED_TS\").cast(\"long\"))/3600,2))\n",
    "\n",
    "data = data.withColumn(\"HOURS_TILL_CPT\", \n",
    "                     F.when(\n",
    "                         F.col('HOURS_TILL_CPT')<0, F.col('HOURS_TILL_CPT')+24).otherwise(F.col('HOURS_TILL_CPT'))\n",
    "                     )\n",
    "\n",
    "data = data.withColumn(\"HOURS_TILL_CPT\", \n",
    "                     F.round(F.col('HOURS_TILL_CPT'), 2))"
   ]
  },
  {
   "cell_type": "code",
   "execution_count": 34,
   "metadata": {
    "tags": []
   },
   "outputs": [
    {
     "name": "stdout",
     "output_type": "stream",
     "text": [
      "\n"
     ]
    }
   ],
   "source": [
    "# distance mi\n",
    "geo = glueContext.create_dynamic_frame.from_catalog(\n",
    "    database='shipment_inspecter_table_promise', \n",
    "    table_name='geo_attributes'\n",
    "    )\n",
    "geo = geo.toDF()\n",
    "\n",
    "geo = geo.withColumn('dest_zip',\n",
    "                     F.lpad('dest_zip', 5, '0'))\n",
    "\n",
    "data = data.join(geo.select(F.col('dest_zip').alias('CUSTOMER_POSTCODE'),\n",
    "                               F.col('fc_code').alias('FFMCENTER_NAME'),\n",
    "                               F.col('distance_mi').alias('DISTANCE_MI')), \n",
    "                 on = ['CUSTOMER_POSTCODE', 'FFMCENTER_NAME'], \n",
    "                 how = 'left')"
   ]
  },
  {
   "cell_type": "code",
   "execution_count": 35,
   "metadata": {
    "tags": []
   },
   "outputs": [
    {
     "name": "stdout",
     "output_type": "stream",
     "text": [
      "\n"
     ]
    }
   ],
   "source": [
    "# arc range\n",
    "data = data.withColumn('ARC_RANGE', F.when(F.col('DISTANCE_MI') <= 250, F.lit(1))\n",
    "                            .otherwise(F.when(F.col('DISTANCE_MI') <= 500, F.lit(2))\n",
    "                                      .otherwise(F.when(F.col('DISTANCE_MI') <= 1000, F.lit(3))\n",
    "                                                .otherwise(F.when(F.col('DISTANCE_MI') <= 1500, F.lit(4))\n",
    "                                                          .otherwise(F.when(F.col('DISTANCE_MI') <= 2000, F.lit(5))\n",
    "                                                                    .otherwise(F.when(F.col('DISTANCE_MI') <= 3000, F.lit(6))\n",
    "                                                                              .otherwise(F.lit(7))))))))"
   ]
  },
  {
   "cell_type": "code",
   "execution_count": 36,
   "metadata": {
    "tags": []
   },
   "outputs": [
    {
     "name": "stdout",
     "output_type": "stream",
     "text": [
      "\n"
     ]
    }
   ],
   "source": [
    "# customer zip3\n",
    "data = data.withColumn('CUSTOMER_ZIP3',\n",
    "                       F.substring(F.col('CUSTOMER_POSTCODE'), 1, 3))"
   ]
  },
  {
   "cell_type": "code",
   "execution_count": 37,
   "metadata": {
    "tags": []
   },
   "outputs": [
    {
     "name": "stdout",
     "output_type": "stream",
     "text": [
      "\n"
     ]
    }
   ],
   "source": [
    "# routes\n",
    "routes_path = os.path.join(\n",
    "    schema, \n",
    "    output_bucket_name, \n",
    "    output_project_name, \n",
    "    'routes',\n",
    "    'routes.csv')\n",
    "routes = spark.read.csv(routes_path, header=True)\n",
    "routes = routes.select('FFMCENTER_NAME', 'SHIPMENT_SHIP_ROUTE','RouteType').dropDuplicates()\n",
    "\n",
    "window_spec = Window.partitionBy(\n",
    "    ['FFMCENTER_NAME', 'SHIPMENT_SHIP_ROUTE']).orderBy(['RouteType'])\n",
    "routes = routes.withColumn(\n",
    "    \"row_number\", \n",
    "    F.row_number().over(window_spec))           \n",
    "routes = routes.filter(\n",
    "    F.col('row_number') == 1).drop('row_number') "
   ]
  },
  {
   "cell_type": "code",
   "execution_count": 38,
   "metadata": {
    "tags": []
   },
   "outputs": [
    {
     "name": "stdout",
     "output_type": "stream",
     "text": [
      "\n"
     ]
    }
   ],
   "source": [
    "data = data.join(routes, \n",
    "                 on = ['FFMCENTER_NAME', 'SHIPMENT_SHIP_ROUTE'], \n",
    "                 how = 'left')"
   ]
  },
  {
   "cell_type": "code",
   "execution_count": 40,
   "metadata": {
    "tags": []
   },
   "outputs": [
    {
     "name": "stdout",
     "output_type": "stream",
     "text": [
      "\n"
     ]
    }
   ],
   "source": [
    "data = data.withColumn('RouteType',\n",
    "                      F.when(F.col('RouteType').isNull(), \n",
    "                             F.lit('Others')).otherwise(F.col('RouteType')))"
   ]
  },
  {
   "cell_type": "code",
   "execution_count": 41,
   "metadata": {
    "tags": []
   },
   "outputs": [
    {
     "name": "stdout",
     "output_type": "stream",
     "text": [
      "\n"
     ]
    }
   ],
   "source": [
    "# update data types\n",
    "data = data.withColumn(\"ACTUAL_ZONE\",\n",
    "                       F.col(\"ACTUAL_ZONE\").cast(IntegerType()))\n",
    "data = data.withColumn(\"STD_ACTUAL\",\n",
    "                       F.col(\"STD_ACTUAL\").cast(IntegerType()))\n",
    "data = data.withColumn(\"STD_V0\",\n",
    "                       F.col(\"STD_V0\").cast(IntegerType()))\n",
    "data = data.withColumn(\"STD_ACTUAL_VATTEMPTED\",\n",
    "                       F.col(\"STD_ACTUAL_VATTEMPTED\").cast(IntegerType()))\n",
    "\n",
    "data = data.withColumn(\"avg_-28_-1_STD_ACTUAL_VATTEMPTED_SHIPPED_DOW_FFMCENTER_NAME_CUSTOMER_STATE\",\n",
    "                       F.col(\"avg_-28_-1_STD_ACTUAL_VATTEMPTED_SHIPPED_DOW_FFMCENTER_NAME_CUSTOMER_STATE\").cast(DoubleType()))\n",
    "data = data.withColumn(\"avg_-7_-1_STD_ACTUAL_VATTEMPTED_SHIPPED_DOW_FFMCENTER_NAME_CUSTOMER_STATE\",\n",
    "                       F.col(\"avg_-7_-1_STD_ACTUAL_VATTEMPTED_SHIPPED_DOW_FFMCENTER_NAME_CUSTOMER_STATE\").cast(DoubleType()))\n",
    "data = data.withColumn(\"avg_-28_-1_STD_ACTUAL_VATTEMPTED_SHIPPED_DOW_SHIPMENT_SHIP_ROUTE\",\n",
    "                       F.col(\"avg_-28_-1_STD_ACTUAL_VATTEMPTED_SHIPPED_DOW_SHIPMENT_SHIP_ROUTE\").cast(DoubleType()))\n",
    "data = data.withColumn(\"avg_-7_-1_STD_ACTUAL_VATTEMPTED_SHIPPED_DOW_SHIPMENT_SHIP_ROUTE\",\n",
    "                       F.col(\"avg_-7_-1_STD_ACTUAL_VATTEMPTED_SHIPPED_DOW_SHIPMENT_SHIP_ROUTE\").cast(DoubleType()))\n",
    "data = data.withColumn(\"avg_-28_-1_STD_ACTUAL_VATTEMPTED_SHIPPED_DOW_ACTUAL_ZONE\",\n",
    "                       F.col(\"avg_-28_-1_STD_ACTUAL_VATTEMPTED_SHIPPED_DOW_ACTUAL_ZONE\").cast(DoubleType()))\n",
    "data = data.withColumn(\"avg_-7_-1_STD_ACTUAL_VATTEMPTED_SHIPPED_DOW_ACTUAL_ZONE\",\n",
    "                       F.col(\"avg_-7_-1_STD_ACTUAL_VATTEMPTED_SHIPPED_DOW_ACTUAL_ZONE\").cast(DoubleType()))"
   ]
  },
  {
   "cell_type": "code",
   "execution_count": 42,
   "metadata": {
    "tags": []
   },
   "outputs": [
    {
     "name": "stdout",
     "output_type": "stream",
     "text": [
      "root\n",
      " |-- FFMCENTER_NAME: string (nullable = true)\n",
      " |-- SHIPMENT_SHIP_ROUTE: string (nullable = true)\n",
      " |-- CUSTOMER_POSTCODE: string (nullable = true)\n",
      " |-- SHIPMENT_SHIPPED_DATE: string (nullable = true)\n",
      " |-- RELEASE_DATE: string (nullable = true)\n",
      " |-- CARRIER_CODE: string (nullable = true)\n",
      " |-- ORDER_ID: decimal(38,0) (nullable = true)\n",
      " |-- SHIPMENT_TRACKING_NUMBER: string (nullable = true)\n",
      " |-- SHIPMENT_COUNT_OF_ITEMS_IN_BOX: decimal(38,0) (nullable = true)\n",
      " |-- RELEASE_DTTM_EST: timestamp (nullable = true)\n",
      " |-- SHIPMENT_SHIPPED_DTTM_EST: timestamp (nullable = true)\n",
      " |-- SHIPMENT_DELIVERY_DTTM_EST: timestamp (nullable = true)\n",
      " |-- SHIPMENT_DELIVERY_DATE: string (nullable = true)\n",
      " |-- SHIPMENT_ESTIMATED_DELIVERY_DATE: date (nullable = true)\n",
      " |-- STD_ACTUAL: integer (nullable = true)\n",
      " |-- STD_V0: integer (nullable = true)\n",
      " |-- ACTUAL_ZONE: integer (nullable = true)\n",
      " |-- INITIAL_DELIVERY_ATTEMPT_DTTM_EST: timestamp (nullable = true)\n",
      " |-- INITIAL_SHIPMENT_DELIVERY_ATTEMPT_DATE: string (nullable = true)\n",
      " |-- WAREHOUSE_EXPECTED_WEIGHT: double (nullable = true)\n",
      " |-- UOM_flag: integer (nullable = true)\n",
      " |-- package_size: double (nullable = true)\n",
      " |-- CUSTOMER_STATE: string (nullable = true)\n",
      " |-- SHIPPED_DOW: integer (nullable = true)\n",
      " |-- STD_ACTUAL_VATTEMPTED: integer (nullable = true)\n",
      " |-- index: integer (nullable = true)\n",
      " |-- avg_-28_-1_STD_ACTUAL_VATTEMPTED_SHIPPED_DOW_FFMCENTER_NAME_CUSTOMER_STATE: double (nullable = true)\n",
      " |-- avg_-7_-1_STD_ACTUAL_VATTEMPTED_SHIPPED_DOW_FFMCENTER_NAME_CUSTOMER_STATE: double (nullable = true)\n",
      " |-- avg_-28_-1_STD_ACTUAL_VATTEMPTED_SHIPPED_DOW_SHIPMENT_SHIP_ROUTE: double (nullable = true)\n",
      " |-- avg_-7_-1_STD_ACTUAL_VATTEMPTED_SHIPPED_DOW_SHIPMENT_SHIP_ROUTE: double (nullable = true)\n",
      " |-- avg_-28_-1_STD_ACTUAL_VATTEMPTED_SHIPPED_DOW_ACTUAL_ZONE: double (nullable = true)\n",
      " |-- avg_-7_-1_STD_ACTUAL_VATTEMPTED_SHIPPED_DOW_ACTUAL_ZONE: double (nullable = true)\n",
      " |-- CUTOFF: long (nullable = true)\n",
      " |-- ADJTNT: long (nullable = true)\n",
      " |-- NEXTADJTNT: long (nullable = true)\n",
      " |-- CUTOFF_TIMESTAMP: string (nullable = true)\n",
      " |-- FC_TYPE: string (nullable = true)\n",
      " |-- PACKAGE_COUNT_BY_ORDER: long (nullable = false)\n",
      " |-- CPT: timestamp (nullable = true)\n",
      " |-- SHIPMENT_SHIPPED_TS: timestamp (nullable = true)\n",
      " |-- IS_AFTER_CPT: integer (nullable = false)\n",
      " |-- Holiday: string (nullable = true)\n",
      " |-- Note: string (nullable = true)\n",
      " |-- HOLIDAY_FLAG: string (nullable = false)\n",
      " |-- SHIPPED_FRI_SAT_TAG: string (nullable = false)\n",
      " |-- HOURS_TILL_CPT: double (nullable = true)\n",
      " |-- DISTANCE_MI: double (nullable = true)\n",
      " |-- ARC_RANGE: integer (nullable = false)\n",
      " |-- CUSTOMER_ZIP3: string (nullable = true)\n",
      " |-- RouteType: string (nullable = true)\n"
     ]
    }
   ],
   "source": [
    "data.printSchema()"
   ]
  },
  {
   "cell_type": "code",
   "execution_count": 8,
   "metadata": {
    "tags": []
   },
   "outputs": [
    {
     "name": "stdout",
     "output_type": "stream",
     "text": [
      "'s3://ogunes-promise/EDD/enrich/2023-11-13_v4'\n"
     ]
    }
   ],
   "source": [
    "enrich_data_path"
   ]
  },
  {
   "cell_type": "code",
   "execution_count": 45,
   "metadata": {
    "tags": []
   },
   "outputs": [
    {
     "name": "stdout",
     "output_type": "stream",
     "text": [
      "\n"
     ]
    }
   ],
   "source": [
    "data.repartition(20).write.parquet(enrich_data_path, mode='overwrite')"
   ]
  },
  {
   "cell_type": "code",
   "execution_count": 9,
   "metadata": {
    "tags": []
   },
   "outputs": [
    {
     "name": "stdout",
     "output_type": "stream",
     "text": [
      "\n"
     ]
    }
   ],
   "source": [
    "data = spark.read.parquet(enrich_data_path)"
   ]
  },
  {
   "cell_type": "markdown",
   "metadata": {},
   "source": [
    "#### Prep For Model"
   ]
  },
  {
   "cell_type": "code",
   "execution_count": 11,
   "metadata": {
    "tags": []
   },
   "outputs": [
    {
     "name": "stdout",
     "output_type": "stream",
     "text": [
      "\n"
     ]
    }
   ],
   "source": [
    "cols = [x.lower() for x in data.schema.names]\n",
    "data = data.toDF(*cols)"
   ]
  },
  {
   "cell_type": "code",
   "execution_count": 12,
   "metadata": {
    "tags": []
   },
   "outputs": [
    {
     "name": "stdout",
     "output_type": "stream",
     "text": [
      "root\n",
      " |-- ffmcenter_name: string (nullable = true)\n",
      " |-- shipment_ship_route: string (nullable = true)\n",
      " |-- customer_postcode: string (nullable = true)\n",
      " |-- shipment_shipped_date: string (nullable = true)\n",
      " |-- release_date: string (nullable = true)\n",
      " |-- carrier_code: string (nullable = true)\n",
      " |-- order_id: decimal(38,0) (nullable = true)\n",
      " |-- shipment_tracking_number: string (nullable = true)\n",
      " |-- shipment_count_of_items_in_box: decimal(38,0) (nullable = true)\n",
      " |-- release_dttm_est: timestamp (nullable = true)\n",
      " |-- shipment_shipped_dttm_est: timestamp (nullable = true)\n",
      " |-- shipment_delivery_dttm_est: timestamp (nullable = true)\n",
      " |-- shipment_delivery_date: string (nullable = true)\n",
      " |-- shipment_estimated_delivery_date: date (nullable = true)\n",
      " |-- std_actual: integer (nullable = true)\n",
      " |-- std_v0: integer (nullable = true)\n",
      " |-- actual_zone: integer (nullable = true)\n",
      " |-- initial_delivery_attempt_dttm_est: timestamp (nullable = true)\n",
      " |-- initial_shipment_delivery_attempt_date: string (nullable = true)\n",
      " |-- warehouse_expected_weight: double (nullable = true)\n",
      " |-- uom_flag: integer (nullable = true)\n",
      " |-- package_size: double (nullable = true)\n",
      " |-- customer_state: string (nullable = true)\n",
      " |-- shipped_dow: integer (nullable = true)\n",
      " |-- std_actual_vattempted: integer (nullable = true)\n",
      " |-- index: integer (nullable = true)\n",
      " |-- avg_-28_-1_std_actual_vattempted_shipped_dow_ffmcenter_name_customer_state: double (nullable = true)\n",
      " |-- avg_-7_-1_std_actual_vattempted_shipped_dow_ffmcenter_name_customer_state: double (nullable = true)\n",
      " |-- avg_-28_-1_std_actual_vattempted_shipped_dow_shipment_ship_route: double (nullable = true)\n",
      " |-- avg_-7_-1_std_actual_vattempted_shipped_dow_shipment_ship_route: double (nullable = true)\n",
      " |-- avg_-28_-1_std_actual_vattempted_shipped_dow_actual_zone: double (nullable = true)\n",
      " |-- avg_-7_-1_std_actual_vattempted_shipped_dow_actual_zone: double (nullable = true)\n",
      " |-- cutoff: long (nullable = true)\n",
      " |-- adjtnt: long (nullable = true)\n",
      " |-- nextadjtnt: long (nullable = true)\n",
      " |-- cutoff_timestamp: string (nullable = true)\n",
      " |-- fc_type: string (nullable = true)\n",
      " |-- package_count_by_order: long (nullable = true)\n",
      " |-- cpt: timestamp (nullable = true)\n",
      " |-- shipment_shipped_ts: timestamp (nullable = true)\n",
      " |-- is_after_cpt: integer (nullable = true)\n",
      " |-- holiday: string (nullable = true)\n",
      " |-- note: string (nullable = true)\n",
      " |-- holiday_flag: string (nullable = true)\n",
      " |-- shipped_fri_sat_tag: string (nullable = true)\n",
      " |-- hours_till_cpt: double (nullable = true)\n",
      " |-- distance_mi: double (nullable = true)\n",
      " |-- arc_range: integer (nullable = true)\n",
      " |-- customer_zip3: string (nullable = true)\n",
      " |-- routetype: string (nullable = true)\n"
     ]
    }
   ],
   "source": [
    "data.printSchema()"
   ]
  },
  {
   "cell_type": "code",
   "execution_count": 14,
   "metadata": {
    "tags": []
   },
   "outputs": [
    {
     "name": "stdout",
     "output_type": "stream",
     "text": [
      "\n"
     ]
    }
   ],
   "source": [
    "# remove outliers\n",
    "anormality_threshold = 11\n",
    "\n",
    "data = data.filter(F.col('std_actual_vattempted') >= 0)\n",
    "data = data.filter(F.col('std_actual_vattempted') < anormality_threshold)"
   ]
  },
  {
   "cell_type": "code",
   "execution_count": 51,
   "metadata": {
    "tags": []
   },
   "outputs": [
    {
     "name": "stdout",
     "output_type": "stream",
     "text": [
      "\n"
     ]
    }
   ],
   "source": [
    "# col selection\n",
    "col_target = ['std_actual', 'std_actual_vattempted']\n",
    "col_order = ['order_id', 'shipment_tracking_number', \n",
    "             'ffmcenter_name', 'fc_type', 'uom_flag', 'carrier_code',\n",
    "             'customer_postcode', 'customer_zip3', 'customer_state',\n",
    "             'shipment_delivery_date', 'initial_shipment_delivery_attempt_date', \n",
    "             'shipment_shipped_date',\n",
    "             'holiday_flag', 'shipped_fri_sat_tag', 'shipped_dow',\n",
    "             'is_after_cpt', 'hours_till_cpt', \n",
    "             'warehouse_expected_weight', 'package_size',\n",
    "             'adjtnt', 'nextadjtnt', 'std_v0']\n",
    "col_route = ['shipment_ship_route',\n",
    "             'arc_range', \n",
    "             'distance_mi', \n",
    "             'actual_zone',\n",
    "             'routetype',\n",
    "             'avg_-28_-1_std_actual_vattempted_shipped_dow_shipment_ship_route', \n",
    "             'avg_-7_-1_std_actual_vattempted_shipped_dow_shipment_ship_route', \n",
    "             'avg_-28_-1_std_actual_vattempted_shipped_dow_actual_zone', \n",
    "             'avg_-7_-1_std_actual_vattempted_shipped_dow_actual_zone', \n",
    "             'avg_-28_-1_std_actual_vattempted_shipped_dow_ffmcenter_name_customer_state', \n",
    "             'avg_-7_-1_std_actual_vattempted_shipped_dow_ffmcenter_name_customer_state']\n",
    "\n",
    "df_train_val_test = data.select(col_order + col_route + col_target)"
   ]
  },
  {
   "cell_type": "code",
   "execution_count": 52,
   "metadata": {
    "tags": []
   },
   "outputs": [
    {
     "name": "stdout",
     "output_type": "stream",
     "text": [
      "\n"
     ]
    }
   ],
   "source": [
    "# one-hot encoding\n",
    "cols_to_encode = ['ffmcenter_name', 'fc_type', 'holiday_flag', \n",
    "                  'shipped_fri_sat_tag', 'carrier_code', 'shipped_dow', \n",
    "                  'routetype']"
   ]
  },
  {
   "cell_type": "code",
   "execution_count": 53,
   "metadata": {
    "tags": []
   },
   "outputs": [
    {
     "name": "stdout",
     "output_type": "stream",
     "text": [
      "\n"
     ]
    }
   ],
   "source": [
    "def onehotencoding(feature, df):\n",
    "    \n",
    "    print(feature)\n",
    "    \n",
    "    feature_list = df_train_val_test.select(feature).distinct().toPandas()\n",
    "    feature_list = sorted(list(feature_list[feature]))\n",
    "    feature_dict = {value: index for index, value in enumerate(feature_list)}\n",
    "\n",
    "    print(feature_dict)\n",
    "    \n",
    "    for k, v in feature_dict.items():\n",
    "        df = df.withColumn(\n",
    "            feature+'_'+ str(k), \n",
    "            F.when(F.col(feature) == v, \n",
    "                   1).otherwise(0))\n",
    "   \n",
    "    return df"
   ]
  },
  {
   "cell_type": "code",
   "execution_count": 54,
   "metadata": {
    "tags": []
   },
   "outputs": [
    {
     "name": "stdout",
     "output_type": "stream",
     "text": [
      "ffmcenter_name\n",
      "{'AVP1': 0, 'AVP2': 1, 'BNA1': 2, 'CFC1': 3, 'CLT1': 4, 'DAY1': 5, 'DFW1': 6, 'EFC3': 7, 'MCI1': 8, 'MCO1': 9, 'MDT1': 10, 'PHX1': 11, 'RNO1': 12, 'WFC2': 13}\n",
      "fc_type\n",
      "{'G1': 0, 'G2': 1}\n",
      "holiday_flag\n",
      "{'before_holiday': 0, 'holiday': 1, 'regular': 2}\n",
      "shipped_fri_sat_tag\n",
      "{'friday': 0, 'regular': 1, 'saturday': 2}\n",
      "carrier_code\n",
      "{'FDXGD': 0, 'FDXHD': 1, 'ONTRGD': 2}\n",
      "shipped_dow\n",
      "{0: 0, 1: 1, 2: 2, 3: 3, 4: 4, 5: 5, 6: 6}\n",
      "routetype\n",
      "{'CS': 0, 'Direct': 1, 'Others': 2, 'Preload': 3, 'RSF': 4}\n"
     ]
    }
   ],
   "source": [
    "for f in cols_to_encode:\n",
    "    df_train_val_test = onehotencoding(f, df_train_val_test)"
   ]
  },
  {
   "cell_type": "code",
   "execution_count": 56,
   "metadata": {
    "tags": []
   },
   "outputs": [
    {
     "name": "stdout",
     "output_type": "stream",
     "text": [
      "\n"
     ]
    }
   ],
   "source": [
    "# Dates\n",
    "train_start_date = '2023-01-01'\n",
    "train_end_date = '2023-05-01'\n",
    "\n",
    "val_start_date = '2023-05-01'\n",
    "val_end_date = '2023-06-01'\n",
    "\n",
    "test_start_date = '2023-06-01'\n",
    "test_end_date = '2023-08-01'\n",
    "\n",
    "exp_date_string = '20231113_v4'"
   ]
  },
  {
   "cell_type": "code",
   "execution_count": 57,
   "metadata": {
    "tags": []
   },
   "outputs": [
    {
     "name": "stdout",
     "output_type": "stream",
     "text": [
      "s3://ogunes-promise/EDD/ml_train_val_test_set/20231113_v4/train_val_2023-01-01_2023-06-01\n",
      "s3://ogunes-promise/EDD/ml_train_val_test_set/20231113_v4/test_2023-06-01_2023-08-01\n"
     ]
    }
   ],
   "source": [
    "# Output Paths\n",
    "output_folder_path = os.path.join(schema,\n",
    "                                  output_bucket_name,\n",
    "                                  output_project_name,\n",
    "                                  'ml_train_val_test_set', \n",
    "                                  exp_date_string)\n",
    "\n",
    "training_validation_path = os.path.join(output_folder_path,\n",
    "                                        f'train_val_{train_start_date[:10]}_{val_end_date[:10]}')\n",
    "print(training_validation_path)\n",
    "\n",
    "\n",
    "#training_path = os.path.join(output_folder_path,\n",
    "#                             f'train_{train_start_date[:10]}_{train_end_date[:10]}')\n",
    "#print(training_path)\n",
    "\n",
    "\n",
    "#validation_path = os.path.join(output_folder_path,\n",
    "#                               f'val_{val_start_date[:10]}_{val_end_date[:10]}')\n",
    "#print(validation_path)\n",
    "\n",
    "\n",
    "test_path = os.path.join(output_folder_path,\n",
    "                               f'test_{test_start_date[:10]}_{test_end_date[:10]}')\n",
    "print(test_path)"
   ]
  },
  {
   "cell_type": "code",
   "execution_count": 58,
   "metadata": {
    "tags": []
   },
   "outputs": [
    {
     "name": "stdout",
     "output_type": "stream",
     "text": [
      "\n"
     ]
    }
   ],
   "source": [
    "df_train_val = df_train_val_test\\\n",
    "    .filter((F.col('shipment_delivery_date') < test_start_date) &\n",
    "           (F.col('shipment_delivery_date') >= train_start_date))\n",
    "df_train_val.write.mode('overwrite').parquet(training_validation_path)\n",
    "\n",
    "\n",
    "#df_train = df_train_val_test\\\n",
    "#    .filter((F.col('shipment_delivery_date') < val_start_date))\n",
    "#df_train.write.mode('overwrite').parquet(training_path)\n",
    "\n",
    "#df_val = df_train_val_test\\\n",
    "#    .filter(\n",
    "#        (F.col('shipment_delivery_date') < test_start_date) & \n",
    "#        (F.col('shipment_delivery_date') >= val_start_date))\n",
    "#df_val.write.mode('overwrite').parquet(validation_path)\n",
    "\n",
    "\n",
    "df_test = df_train_val_test\\\n",
    "    .filter(\n",
    "        (F.col('shipment_delivery_date') >= test_start_date) & \n",
    "        (F.col('shipment_delivery_date') < test_end_date))\n",
    "df_test.write.mode('overwrite').parquet(test_path)"
   ]
  },
  {
   "cell_type": "code",
   "execution_count": 59,
   "metadata": {
    "tags": []
   },
   "outputs": [
    {
     "name": "stdout",
     "output_type": "stream",
     "text": [
      "21510416\n"
     ]
    }
   ],
   "source": [
    "df_train_val.count()"
   ]
  },
  {
   "cell_type": "code",
   "execution_count": 60,
   "metadata": {
    "tags": []
   },
   "outputs": [
    {
     "name": "stdout",
     "output_type": "stream",
     "text": [
      "41642944\n"
     ]
    }
   ],
   "source": [
    "df_train_val_test.count()"
   ]
  },
  {
   "cell_type": "code",
   "execution_count": 76,
   "metadata": {
    "tags": []
   },
   "outputs": [
    {
     "name": "stdout",
     "output_type": "stream",
     "text": [
      "41642944\n"
     ]
    }
   ],
   "source": [
    "df_train_val_test.select('shipment_tracking_number').dropDuplicates().count()"
   ]
  },
  {
   "cell_type": "code",
   "execution_count": null,
   "metadata": {},
   "outputs": [],
   "source": []
  }
 ],
 "metadata": {
  "kernelspec": {
   "display_name": "Glue PySpark",
   "language": "python",
   "name": "glue_pyspark"
  },
  "language_info": {
   "codemirror_mode": {
    "name": "python",
    "version": 3
   },
   "file_extension": ".py",
   "mimetype": "text/x-python",
   "name": "Python_Glue_Session",
   "pygments_lexer": "python3"
  }
 },
 "nbformat": 4,
 "nbformat_minor": 4
}
